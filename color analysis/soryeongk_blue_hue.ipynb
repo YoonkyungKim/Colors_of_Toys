{
 "cells": [
  {
   "cell_type": "code",
   "execution_count": 10,
   "metadata": {},
   "outputs": [],
   "source": [
    "import numpy as np\n",
    "import os\n",
    "import pandas as pd\n",
    "from matplotlib import pyplot as plt\n",
    "from matplotlib.colors import rgb_to_hsv\n",
    "from imageio import imread"
   ]
  },
  {
   "cell_type": "code",
   "execution_count": 2,
   "metadata": {},
   "outputs": [],
   "source": [
    "images = os.listdir('../image/')"
   ]
  },
  {
   "cell_type": "code",
   "execution_count": 6,
   "metadata": {},
   "outputs": [],
   "source": [
    "blue_hue = 240 / 360 * np.pi * 2"
   ]
  },
  {
   "cell_type": "code",
   "execution_count": 13,
   "metadata": {},
   "outputs": [],
   "source": [
    "result = pd.DataFrame(columns=['파일명','cossim'])"
   ]
  },
  {
   "cell_type": "code",
   "execution_count": 14,
   "metadata": {},
   "outputs": [],
   "source": [
    "for img in images[:10]:\n",
    "    try:\n",
    "        rgb = imread(f'../image/{img}')\n",
    "        if rgb.shape[2] != 3:\n",
    "            result = result.append({'파일명' : img, 'cossim' : 'Error'}, ignore_index=True)\n",
    "            continue\n",
    "        hsv = rgb_to_hsv(rgb)\n",
    "        hue_list = []\n",
    "        for i in range(500):\n",
    "            for h, s, v in hsv[:,:,:][i]:\n",
    "                if v >= 254 and s <= 2:\n",
    "                    continue\n",
    "                hue = h * np.pi * 2\n",
    "                cossim = np.cos(hue-blue_hue)\n",
    "                hue_list.append(cossim)\n",
    "        result = result.append({'파일명' : img, 'cossim' : np.mean(hue_list)}, ignore_index=True)\n",
    "    except:\n",
    "        result = result.append({'파일명' : img, 'cossim' : 'Error2'}, ignore_index=True)"
   ]
  },
  {
   "cell_type": "code",
   "execution_count": 15,
   "metadata": {},
   "outputs": [
    {
     "data": {
      "text/html": [
       "<div>\n",
       "<style scoped>\n",
       "    .dataframe tbody tr th:only-of-type {\n",
       "        vertical-align: middle;\n",
       "    }\n",
       "\n",
       "    .dataframe tbody tr th {\n",
       "        vertical-align: top;\n",
       "    }\n",
       "\n",
       "    .dataframe thead th {\n",
       "        text-align: right;\n",
       "    }\n",
       "</style>\n",
       "<table border=\"1\" class=\"dataframe\">\n",
       "  <thead>\n",
       "    <tr style=\"text-align: right;\">\n",
       "      <th></th>\n",
       "      <th>파일명</th>\n",
       "      <th>cossim</th>\n",
       "    </tr>\n",
       "  </thead>\n",
       "  <tbody>\n",
       "    <tr>\n",
       "      <th>0</th>\n",
       "      <td>C10100020002-L000000549595.png</td>\n",
       "      <td>-0.269458</td>\n",
       "    </tr>\n",
       "    <tr>\n",
       "      <th>1</th>\n",
       "      <td>C10100030004-8809311140519.png</td>\n",
       "      <td>-0.230833</td>\n",
       "    </tr>\n",
       "    <tr>\n",
       "      <th>2</th>\n",
       "      <td>C10100030004-8809285520850.png</td>\n",
       "      <td>-0.618007</td>\n",
       "    </tr>\n",
       "    <tr>\n",
       "      <th>3</th>\n",
       "      <td>C10100020003-L000000578099.png</td>\n",
       "      <td>-0.299191</td>\n",
       "    </tr>\n",
       "    <tr>\n",
       "      <th>4</th>\n",
       "      <td>C10100020001-3032163105008.png</td>\n",
       "      <td>0.321927</td>\n",
       "    </tr>\n",
       "    <tr>\n",
       "      <th>5</th>\n",
       "      <td>C10100030005-8809258925262.png</td>\n",
       "      <td>-0.108542</td>\n",
       "    </tr>\n",
       "    <tr>\n",
       "      <th>6</th>\n",
       "      <td>C10100020002-L000002760554.png</td>\n",
       "      <td>-0.181901</td>\n",
       "    </tr>\n",
       "    <tr>\n",
       "      <th>7</th>\n",
       "      <td>C10100030003-8809282303999.png</td>\n",
       "      <td>0.129588</td>\n",
       "    </tr>\n",
       "    <tr>\n",
       "      <th>8</th>\n",
       "      <td>C10100030005-4549660121978.png</td>\n",
       "      <td>-0.462609</td>\n",
       "    </tr>\n",
       "    <tr>\n",
       "      <th>9</th>\n",
       "      <td>C10100030002-L000000467780.png</td>\n",
       "      <td>-0.669361</td>\n",
       "    </tr>\n",
       "  </tbody>\n",
       "</table>\n",
       "</div>"
      ],
      "text/plain": [
       "                              파일명    cossim\n",
       "0  C10100020002-L000000549595.png -0.269458\n",
       "1  C10100030004-8809311140519.png -0.230833\n",
       "2  C10100030004-8809285520850.png -0.618007\n",
       "3  C10100020003-L000000578099.png -0.299191\n",
       "4  C10100020001-3032163105008.png  0.321927\n",
       "5  C10100030005-8809258925262.png -0.108542\n",
       "6  C10100020002-L000002760554.png -0.181901\n",
       "7  C10100030003-8809282303999.png  0.129588\n",
       "8  C10100030005-4549660121978.png -0.462609\n",
       "9  C10100030002-L000000467780.png -0.669361"
      ]
     },
     "execution_count": 15,
     "metadata": {},
     "output_type": "execute_result"
    }
   ],
   "source": [
    "result"
   ]
  },
  {
   "cell_type": "code",
   "execution_count": 16,
   "metadata": {},
   "outputs": [],
   "source": [
    "for img in images[10:100]:\n",
    "    try:\n",
    "        rgb = imread(f'../image/{img}')\n",
    "        if rgb.shape[2] != 3:\n",
    "            result = result.append({'파일명' : img, 'cossim' : 'Error'}, ignore_index=True)\n",
    "            continue\n",
    "        hsv = rgb_to_hsv(rgb)\n",
    "        hue_list = []\n",
    "        for i in range(500):\n",
    "            for h, s, v in hsv[:,:,:][i]:\n",
    "                if v >= 254 and s <= 2:\n",
    "                    continue\n",
    "                hue = h * np.pi * 2\n",
    "                cossim = np.cos(hue-blue_hue)\n",
    "                hue_list.append(cossim)\n",
    "        result = result.append({'파일명' : img, 'cossim' : np.mean(hue_list)}, ignore_index=True)\n",
    "    except:\n",
    "        result = result.append({'파일명' : img, 'cossim' : 'Error2'}, ignore_index=True)"
   ]
  },
  {
   "cell_type": "code",
   "execution_count": 17,
   "metadata": {},
   "outputs": [],
   "source": [
    "for img in images[100:500]:\n",
    "    try:\n",
    "        rgb = imread(f'../image/{img}')\n",
    "        if rgb.shape[2] != 3:\n",
    "            result = result.append({'파일명' : img, 'cossim' : 'Error'}, ignore_index=True)\n",
    "            continue\n",
    "        hsv = rgb_to_hsv(rgb)\n",
    "        hue_list = []\n",
    "        for i in range(500):\n",
    "            for h, s, v in hsv[:,:,:][i]:\n",
    "                if v >= 254 and s <= 2:\n",
    "                    continue\n",
    "                hue = h * np.pi * 2\n",
    "                cossim = np.cos(hue-blue_hue)\n",
    "                hue_list.append(cossim)\n",
    "        result = result.append({'파일명' : img, 'cossim' : np.mean(hue_list)}, ignore_index=True)\n",
    "    except:\n",
    "        result = result.append({'파일명' : img, 'cossim' : 'Error2'}, ignore_index=True)"
   ]
  },
  {
   "cell_type": "code",
   "execution_count": 18,
   "metadata": {},
   "outputs": [],
   "source": [
    "for img in images[500:1000]:\n",
    "    try:\n",
    "        rgb = imread(f'../image/{img}')\n",
    "        if rgb.shape[2] != 3:\n",
    "            result = result.append({'파일명' : img, 'cossim' : 'Error'}, ignore_index=True)\n",
    "            continue\n",
    "        hsv = rgb_to_hsv(rgb)\n",
    "        hue_list = []\n",
    "        for i in range(500):\n",
    "            for h, s, v in hsv[:,:,:][i]:\n",
    "                if v >= 254 and s <= 2:\n",
    "                    continue\n",
    "                hue = h * np.pi * 2\n",
    "                cossim = np.cos(hue-blue_hue)\n",
    "                hue_list.append(cossim)\n",
    "        result = result.append({'파일명' : img, 'cossim' : np.mean(hue_list)}, ignore_index=True)\n",
    "    except:\n",
    "        result = result.append({'파일명' : img, 'cossim' : 'Error2'}, ignore_index=True)"
   ]
  },
  {
   "cell_type": "code",
   "execution_count": 19,
   "metadata": {},
   "outputs": [],
   "source": [
    "for img in images[1000:1500]:\n",
    "    try:\n",
    "        rgb = imread(f'../image/{img}')\n",
    "        if rgb.shape[2] != 3:\n",
    "            result = result.append({'파일명' : img, 'cossim' : 'Error'}, ignore_index=True)\n",
    "            continue\n",
    "        hsv = rgb_to_hsv(rgb)\n",
    "        hue_list = []\n",
    "        for i in range(500):\n",
    "            for h, s, v in hsv[:,:,:][i]:\n",
    "                if v >= 254 and s <= 2:\n",
    "                    continue\n",
    "                hue = h * np.pi * 2\n",
    "                cossim = np.cos(hue-blue_hue)\n",
    "                hue_list.append(cossim)\n",
    "        result = result.append({'파일명' : img, 'cossim' : np.mean(hue_list)}, ignore_index=True)\n",
    "    except:\n",
    "        result = result.append({'파일명' : img, 'cossim' : 'Error2'}, ignore_index=True)"
   ]
  },
  {
   "cell_type": "code",
   "execution_count": 20,
   "metadata": {},
   "outputs": [
    {
     "data": {
      "text/html": [
       "<div>\n",
       "<style scoped>\n",
       "    .dataframe tbody tr th:only-of-type {\n",
       "        vertical-align: middle;\n",
       "    }\n",
       "\n",
       "    .dataframe tbody tr th {\n",
       "        vertical-align: top;\n",
       "    }\n",
       "\n",
       "    .dataframe thead th {\n",
       "        text-align: right;\n",
       "    }\n",
       "</style>\n",
       "<table border=\"1\" class=\"dataframe\">\n",
       "  <thead>\n",
       "    <tr style=\"text-align: right;\">\n",
       "      <th></th>\n",
       "      <th>파일명</th>\n",
       "      <th>cossim</th>\n",
       "    </tr>\n",
       "  </thead>\n",
       "  <tbody>\n",
       "    <tr>\n",
       "      <th>0</th>\n",
       "      <td>C10100020002-L000000549595.png</td>\n",
       "      <td>-0.269458</td>\n",
       "    </tr>\n",
       "    <tr>\n",
       "      <th>1</th>\n",
       "      <td>C10100030004-8809311140519.png</td>\n",
       "      <td>-0.230833</td>\n",
       "    </tr>\n",
       "    <tr>\n",
       "      <th>2</th>\n",
       "      <td>C10100030004-8809285520850.png</td>\n",
       "      <td>-0.618007</td>\n",
       "    </tr>\n",
       "    <tr>\n",
       "      <th>3</th>\n",
       "      <td>C10100020003-L000000578099.png</td>\n",
       "      <td>-0.299191</td>\n",
       "    </tr>\n",
       "    <tr>\n",
       "      <th>4</th>\n",
       "      <td>C10100020001-3032163105008.png</td>\n",
       "      <td>0.321927</td>\n",
       "    </tr>\n",
       "  </tbody>\n",
       "</table>\n",
       "</div>"
      ],
      "text/plain": [
       "                              파일명    cossim\n",
       "0  C10100020002-L000000549595.png -0.269458\n",
       "1  C10100030004-8809311140519.png -0.230833\n",
       "2  C10100030004-8809285520850.png -0.618007\n",
       "3  C10100020003-L000000578099.png -0.299191\n",
       "4  C10100020001-3032163105008.png  0.321927"
      ]
     },
     "execution_count": 20,
     "metadata": {},
     "output_type": "execute_result"
    }
   ],
   "source": [
    "result.head()"
   ]
  },
  {
   "cell_type": "code",
   "execution_count": 21,
   "metadata": {},
   "outputs": [
    {
     "data": {
      "text/html": [
       "<div>\n",
       "<style scoped>\n",
       "    .dataframe tbody tr th:only-of-type {\n",
       "        vertical-align: middle;\n",
       "    }\n",
       "\n",
       "    .dataframe tbody tr th {\n",
       "        vertical-align: top;\n",
       "    }\n",
       "\n",
       "    .dataframe thead th {\n",
       "        text-align: right;\n",
       "    }\n",
       "</style>\n",
       "<table border=\"1\" class=\"dataframe\">\n",
       "  <thead>\n",
       "    <tr style=\"text-align: right;\">\n",
       "      <th></th>\n",
       "      <th>파일명</th>\n",
       "      <th>cossim</th>\n",
       "    </tr>\n",
       "  </thead>\n",
       "  <tbody>\n",
       "    <tr>\n",
       "      <th>1495</th>\n",
       "      <td>C10100020002-9328936066190.png</td>\n",
       "      <td>0.485068</td>\n",
       "    </tr>\n",
       "    <tr>\n",
       "      <th>1496</th>\n",
       "      <td>C10100030005-4549660153689.png</td>\n",
       "      <td>-0.801797</td>\n",
       "    </tr>\n",
       "    <tr>\n",
       "      <th>1497</th>\n",
       "      <td>C10100030002-8809059375174.png</td>\n",
       "      <td>0.228737</td>\n",
       "    </tr>\n",
       "    <tr>\n",
       "      <th>1498</th>\n",
       "      <td>C10100020003-8805804030947.png</td>\n",
       "      <td>-0.286457</td>\n",
       "    </tr>\n",
       "    <tr>\n",
       "      <th>1499</th>\n",
       "      <td>C10100020002-L000000577920.png</td>\n",
       "      <td>-0.907027</td>\n",
       "    </tr>\n",
       "  </tbody>\n",
       "</table>\n",
       "</div>"
      ],
      "text/plain": [
       "                                 파일명    cossim\n",
       "1495  C10100020002-9328936066190.png  0.485068\n",
       "1496  C10100030005-4549660153689.png -0.801797\n",
       "1497  C10100030002-8809059375174.png  0.228737\n",
       "1498  C10100020003-8805804030947.png -0.286457\n",
       "1499  C10100020002-L000000577920.png -0.907027"
      ]
     },
     "execution_count": 21,
     "metadata": {},
     "output_type": "execute_result"
    }
   ],
   "source": [
    "result.tail()"
   ]
  },
  {
   "cell_type": "code",
   "execution_count": 27,
   "metadata": {},
   "outputs": [],
   "source": [
    "for img in images[1500:2170]:\n",
    "    try:\n",
    "        rgb = imread(f'../image/{img}')\n",
    "        if rgb.shape[2] != 3:\n",
    "            result = result.append({'파일명' : img, 'cossim' : 'Error'}, ignore_index=True)\n",
    "            continue\n",
    "        hsv = rgb_to_hsv(rgb)\n",
    "        hue_list = []\n",
    "        for i in range(500):\n",
    "            for h, s, v in hsv[:,:,:][i]:\n",
    "                if v >= 254 and s <= 2:\n",
    "                    continue\n",
    "                hue = h * np.pi * 2\n",
    "                cossim = np.cos(hue-blue_hue)\n",
    "                hue_list.append(cossim)\n",
    "        result = result.append({'파일명' : img, 'cossim' : np.mean(hue_list)}, ignore_index=True)\n",
    "    except:\n",
    "        result = result.append({'파일명' : img, 'cossim' : 'Error2'}, ignore_index=True)"
   ]
  },
  {
   "cell_type": "code",
   "execution_count": 28,
   "metadata": {},
   "outputs": [
    {
     "data": {
      "text/plain": [
       "(2170, 2)"
      ]
     },
     "execution_count": 28,
     "metadata": {},
     "output_type": "execute_result"
    }
   ],
   "source": [
    "result.shape"
   ]
  },
  {
   "cell_type": "code",
   "execution_count": 29,
   "metadata": {},
   "outputs": [],
   "source": [
    "result.to_csv('data/cossim_result_blue.csv', index=False)"
   ]
  },
  {
   "cell_type": "code",
   "execution_count": 30,
   "metadata": {},
   "outputs": [],
   "source": [
    "filenames = result['파일명'].tolist()\n",
    "CategoryIDs = [f.split('-')[0] for f in filenames]\n",
    "\n",
    "ProductIDs = []\n",
    "for f in filenames:\n",
    "    try:\n",
    "        ProductIDs.append(f.split('-')[1].split('.png')[0])\n",
    "    except:\n",
    "        ProductIDs.append(f)"
   ]
  },
  {
   "cell_type": "code",
   "execution_count": 31,
   "metadata": {},
   "outputs": [],
   "source": [
    "result['ProductID'] = ProductIDs\n",
    "result['CategoryID'] = CategoryIDs"
   ]
  },
  {
   "cell_type": "code",
   "execution_count": 32,
   "metadata": {},
   "outputs": [],
   "source": [
    "result['카테고리명'] = result['CategoryID'].astype(\"category\")"
   ]
  },
  {
   "cell_type": "code",
   "execution_count": 37,
   "metadata": {},
   "outputs": [],
   "source": [
    "names = 'girl-RolePlay,girl-Doll,girl-Deco,girl-DIY,boy-RolePlay,boy-Action,boy-Control,boy-Car/Train,boy-Figure'.split(',')"
   ]
  },
  {
   "cell_type": "code",
   "execution_count": 39,
   "metadata": {},
   "outputs": [],
   "source": [
    "result['카테고리명'].cat.categories = names"
   ]
  },
  {
   "cell_type": "code",
   "execution_count": 40,
   "metadata": {},
   "outputs": [
    {
     "data": {
      "text/html": [
       "<div>\n",
       "<style scoped>\n",
       "    .dataframe tbody tr th:only-of-type {\n",
       "        vertical-align: middle;\n",
       "    }\n",
       "\n",
       "    .dataframe tbody tr th {\n",
       "        vertical-align: top;\n",
       "    }\n",
       "\n",
       "    .dataframe thead th {\n",
       "        text-align: right;\n",
       "    }\n",
       "</style>\n",
       "<table border=\"1\" class=\"dataframe\">\n",
       "  <thead>\n",
       "    <tr style=\"text-align: right;\">\n",
       "      <th></th>\n",
       "      <th>파일명</th>\n",
       "      <th>cossim</th>\n",
       "      <th>ProductID</th>\n",
       "      <th>CategoryID</th>\n",
       "      <th>카테고리명</th>\n",
       "    </tr>\n",
       "  </thead>\n",
       "  <tbody>\n",
       "    <tr>\n",
       "      <th>0</th>\n",
       "      <td>C10100020002-L000000549595.png</td>\n",
       "      <td>-0.269458</td>\n",
       "      <td>L000000549595</td>\n",
       "      <td>C10100020002</td>\n",
       "      <td>girl-Doll</td>\n",
       "    </tr>\n",
       "    <tr>\n",
       "      <th>1</th>\n",
       "      <td>C10100030004-8809311140519.png</td>\n",
       "      <td>-0.230833</td>\n",
       "      <td>8809311140519</td>\n",
       "      <td>C10100030004</td>\n",
       "      <td>boy-Car/Train</td>\n",
       "    </tr>\n",
       "    <tr>\n",
       "      <th>2</th>\n",
       "      <td>C10100030004-8809285520850.png</td>\n",
       "      <td>-0.618007</td>\n",
       "      <td>8809285520850</td>\n",
       "      <td>C10100030004</td>\n",
       "      <td>boy-Car/Train</td>\n",
       "    </tr>\n",
       "    <tr>\n",
       "      <th>3</th>\n",
       "      <td>C10100020003-L000000578099.png</td>\n",
       "      <td>-0.299191</td>\n",
       "      <td>L000000578099</td>\n",
       "      <td>C10100020003</td>\n",
       "      <td>girl-Deco</td>\n",
       "    </tr>\n",
       "    <tr>\n",
       "      <th>4</th>\n",
       "      <td>C10100020001-3032163105008.png</td>\n",
       "      <td>0.321927</td>\n",
       "      <td>3032163105008</td>\n",
       "      <td>C10100020001</td>\n",
       "      <td>girl-RolePlay</td>\n",
       "    </tr>\n",
       "  </tbody>\n",
       "</table>\n",
       "</div>"
      ],
      "text/plain": [
       "                              파일명    cossim      ProductID    CategoryID  \\\n",
       "0  C10100020002-L000000549595.png -0.269458  L000000549595  C10100020002   \n",
       "1  C10100030004-8809311140519.png -0.230833  8809311140519  C10100030004   \n",
       "2  C10100030004-8809285520850.png -0.618007  8809285520850  C10100030004   \n",
       "3  C10100020003-L000000578099.png -0.299191  L000000578099  C10100020003   \n",
       "4  C10100020001-3032163105008.png  0.321927  3032163105008  C10100020001   \n",
       "\n",
       "           카테고리명  \n",
       "0      girl-Doll  \n",
       "1  boy-Car/Train  \n",
       "2  boy-Car/Train  \n",
       "3      girl-Deco  \n",
       "4  girl-RolePlay  "
      ]
     },
     "execution_count": 40,
     "metadata": {},
     "output_type": "execute_result"
    }
   ],
   "source": [
    "result.head()"
   ]
  },
  {
   "cell_type": "code",
   "execution_count": 41,
   "metadata": {},
   "outputs": [
    {
     "data": {
      "text/html": [
       "<div>\n",
       "<style scoped>\n",
       "    .dataframe tbody tr th:only-of-type {\n",
       "        vertical-align: middle;\n",
       "    }\n",
       "\n",
       "    .dataframe tbody tr th {\n",
       "        vertical-align: top;\n",
       "    }\n",
       "\n",
       "    .dataframe thead th {\n",
       "        text-align: right;\n",
       "    }\n",
       "</style>\n",
       "<table border=\"1\" class=\"dataframe\">\n",
       "  <thead>\n",
       "    <tr style=\"text-align: right;\">\n",
       "      <th></th>\n",
       "      <th>파일명</th>\n",
       "      <th>cossim</th>\n",
       "      <th>ProductID</th>\n",
       "      <th>CategoryID</th>\n",
       "      <th>카테고리명</th>\n",
       "      <th>성구분</th>\n",
       "    </tr>\n",
       "  </thead>\n",
       "  <tbody>\n",
       "    <tr>\n",
       "      <th>0</th>\n",
       "      <td>C10100020002-L000000549595.png</td>\n",
       "      <td>-0.269458</td>\n",
       "      <td>L000000549595</td>\n",
       "      <td>C10100020002</td>\n",
       "      <td>girl-Doll</td>\n",
       "      <td>girl</td>\n",
       "    </tr>\n",
       "    <tr>\n",
       "      <th>1</th>\n",
       "      <td>C10100030004-8809311140519.png</td>\n",
       "      <td>-0.230833</td>\n",
       "      <td>8809311140519</td>\n",
       "      <td>C10100030004</td>\n",
       "      <td>boy-Car/Train</td>\n",
       "      <td>boy</td>\n",
       "    </tr>\n",
       "    <tr>\n",
       "      <th>2</th>\n",
       "      <td>C10100030004-8809285520850.png</td>\n",
       "      <td>-0.618007</td>\n",
       "      <td>8809285520850</td>\n",
       "      <td>C10100030004</td>\n",
       "      <td>boy-Car/Train</td>\n",
       "      <td>boy</td>\n",
       "    </tr>\n",
       "    <tr>\n",
       "      <th>3</th>\n",
       "      <td>C10100020003-L000000578099.png</td>\n",
       "      <td>-0.299191</td>\n",
       "      <td>L000000578099</td>\n",
       "      <td>C10100020003</td>\n",
       "      <td>girl-Deco</td>\n",
       "      <td>girl</td>\n",
       "    </tr>\n",
       "    <tr>\n",
       "      <th>4</th>\n",
       "      <td>C10100020001-3032163105008.png</td>\n",
       "      <td>0.321927</td>\n",
       "      <td>3032163105008</td>\n",
       "      <td>C10100020001</td>\n",
       "      <td>girl-RolePlay</td>\n",
       "      <td>girl</td>\n",
       "    </tr>\n",
       "  </tbody>\n",
       "</table>\n",
       "</div>"
      ],
      "text/plain": [
       "                              파일명    cossim      ProductID    CategoryID  \\\n",
       "0  C10100020002-L000000549595.png -0.269458  L000000549595  C10100020002   \n",
       "1  C10100030004-8809311140519.png -0.230833  8809311140519  C10100030004   \n",
       "2  C10100030004-8809285520850.png -0.618007  8809285520850  C10100030004   \n",
       "3  C10100020003-L000000578099.png -0.299191  L000000578099  C10100020003   \n",
       "4  C10100020001-3032163105008.png  0.321927  3032163105008  C10100020001   \n",
       "\n",
       "           카테고리명   성구분  \n",
       "0      girl-Doll  girl  \n",
       "1  boy-Car/Train   boy  \n",
       "2  boy-Car/Train   boy  \n",
       "3      girl-Deco  girl  \n",
       "4  girl-RolePlay  girl  "
      ]
     },
     "execution_count": 41,
     "metadata": {},
     "output_type": "execute_result"
    }
   ],
   "source": [
    "result['성구분'] = [n.split('-')[0] for n in result['카테고리명'].tolist()]\n",
    "result.head()"
   ]
  },
  {
   "cell_type": "code",
   "execution_count": 42,
   "metadata": {},
   "outputs": [],
   "source": [
    "result.to_csv('data/cossim_result_blue_with_IDs_eng.csv', index=False)"
   ]
  },
  {
   "cell_type": "code",
   "execution_count": 43,
   "metadata": {},
   "outputs": [
    {
     "name": "stderr",
     "output_type": "stream",
     "text": [
      "/opt/conda/lib/python3.6/site-packages/ipykernel_launcher.py:2: UserWarning: Boolean Series key will be reindexed to match DataFrame index.\n",
      "  \n"
     ]
    },
    {
     "data": {
      "text/plain": [
       "(2156, 6)"
      ]
     },
     "execution_count": 43,
     "metadata": {},
     "output_type": "execute_result"
    }
   ],
   "source": [
    "result_no_error = result[result.cossim != 'Error']\n",
    "result_no_error = result_no_error[result.cossim != 'Error2']\n",
    "result_no_error.shape"
   ]
  },
  {
   "cell_type": "code",
   "execution_count": 45,
   "metadata": {},
   "outputs": [],
   "source": [
    "result_no_error['cossim'] = result_no_error['cossim'].astype('float64')"
   ]
  },
  {
   "cell_type": "code",
   "execution_count": 47,
   "metadata": {},
   "outputs": [
    {
     "data": {
      "text/plain": [
       "count    2156.000000\n",
       "mean       -0.212538\n",
       "std         0.363711\n",
       "min        -0.966058\n",
       "25%        -0.478157\n",
       "50%        -0.225468\n",
       "75%         0.035881\n",
       "max         0.891407\n",
       "Name: cossim, dtype: float64"
      ]
     },
     "execution_count": 47,
     "metadata": {},
     "output_type": "execute_result"
    }
   ],
   "source": [
    "result_no_error['cossim'].describe()"
   ]
  },
  {
   "cell_type": "code",
   "execution_count": null,
   "metadata": {},
   "outputs": [],
   "source": []
  }
 ],
 "metadata": {
  "kernelspec": {
   "display_name": "Python 3",
   "language": "python",
   "name": "python3"
  },
  "language_info": {
   "codemirror_mode": {
    "name": "ipython",
    "version": 3
   },
   "file_extension": ".py",
   "mimetype": "text/x-python",
   "name": "python",
   "nbconvert_exporter": "python",
   "pygments_lexer": "ipython3",
   "version": "3.6.6"
  }
 },
 "nbformat": 4,
 "nbformat_minor": 2
}
