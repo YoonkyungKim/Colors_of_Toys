{
 "cells": [
  {
   "cell_type": "code",
   "execution_count": 1,
   "metadata": {},
   "outputs": [],
   "source": [
    "import numpy as np\n",
    "import os\n",
    "import pandas as pd\n",
    "from matplotlib import pyplot as plt\n",
    "import matplotlib.image as mpimg\n",
    "from matplotlib.colors import rgb_to_hsv\n",
    "from imageio import imread"
   ]
  },
  {
   "cell_type": "code",
   "execution_count": 2,
   "metadata": {},
   "outputs": [],
   "source": [
    "df = pd.read_csv('data/cossim_result_with_IDs_eng.csv')"
   ]
  },
  {
   "cell_type": "code",
   "execution_count": 3,
   "metadata": {},
   "outputs": [],
   "source": [
    "df_no_error = df[~df['cossim'].str.contains('Error')]"
   ]
  },
  {
   "cell_type": "code",
   "execution_count": 4,
   "metadata": {},
   "outputs": [
    {
     "name": "stdout",
     "output_type": "stream",
     "text": [
      "<class 'pandas.core.frame.DataFrame'>\n",
      "Int64Index: 4305 entries, 0 to 4339\n",
      "Data columns (total 6 columns):\n",
      "파일명           4305 non-null object\n",
      "cossim        4305 non-null object\n",
      "ProductID     4305 non-null object\n",
      "CategoryID    4305 non-null object\n",
      "카테고리명         4305 non-null object\n",
      "성구분           4305 non-null object\n",
      "dtypes: object(6)\n",
      "memory usage: 235.4+ KB\n"
     ]
    }
   ],
   "source": [
    "df_no_error.info()"
   ]
  },
  {
   "cell_type": "code",
   "execution_count": 5,
   "metadata": {},
   "outputs": [
    {
     "name": "stderr",
     "output_type": "stream",
     "text": [
      "/Users/yunkim/anaconda3/lib/python3.6/site-packages/pandas/core/generic.py:4401: SettingWithCopyWarning: \n",
      "A value is trying to be set on a copy of a slice from a DataFrame.\n",
      "Try using .loc[row_indexer,col_indexer] = value instead\n",
      "\n",
      "See the caveats in the documentation: http://pandas.pydata.org/pandas-docs/stable/indexing.html#indexing-view-versus-copy\n",
      "  self[name] = value\n"
     ]
    }
   ],
   "source": [
    "df_no_error.cossim = df_no_error.cossim.astype('float')"
   ]
  },
  {
   "cell_type": "code",
   "execution_count": 6,
   "metadata": {},
   "outputs": [
    {
     "data": {
      "text/html": [
       "<div>\n",
       "<style scoped>\n",
       "    .dataframe tbody tr th:only-of-type {\n",
       "        vertical-align: middle;\n",
       "    }\n",
       "\n",
       "    .dataframe tbody tr th {\n",
       "        vertical-align: top;\n",
       "    }\n",
       "\n",
       "    .dataframe thead th {\n",
       "        text-align: right;\n",
       "    }\n",
       "</style>\n",
       "<table border=\"1\" class=\"dataframe\">\n",
       "  <thead>\n",
       "    <tr style=\"text-align: right;\">\n",
       "      <th></th>\n",
       "      <th>cossim</th>\n",
       "    </tr>\n",
       "  </thead>\n",
       "  <tbody>\n",
       "    <tr>\n",
       "      <th>count</th>\n",
       "      <td>4305.000000</td>\n",
       "    </tr>\n",
       "    <tr>\n",
       "      <th>mean</th>\n",
       "      <td>0.257864</td>\n",
       "    </tr>\n",
       "    <tr>\n",
       "      <th>std</th>\n",
       "      <td>0.296465</td>\n",
       "    </tr>\n",
       "    <tr>\n",
       "      <th>min</th>\n",
       "      <td>-0.987428</td>\n",
       "    </tr>\n",
       "    <tr>\n",
       "      <th>25%</th>\n",
       "      <td>0.071640</td>\n",
       "    </tr>\n",
       "    <tr>\n",
       "      <th>50%</th>\n",
       "      <td>0.278260</td>\n",
       "    </tr>\n",
       "    <tr>\n",
       "      <th>75%</th>\n",
       "      <td>0.462642</td>\n",
       "    </tr>\n",
       "    <tr>\n",
       "      <th>max</th>\n",
       "      <td>0.985633</td>\n",
       "    </tr>\n",
       "  </tbody>\n",
       "</table>\n",
       "</div>"
      ],
      "text/plain": [
       "            cossim\n",
       "count  4305.000000\n",
       "mean      0.257864\n",
       "std       0.296465\n",
       "min      -0.987428\n",
       "25%       0.071640\n",
       "50%       0.278260\n",
       "75%       0.462642\n",
       "max       0.985633"
      ]
     },
     "execution_count": 6,
     "metadata": {},
     "output_type": "execute_result"
    }
   ],
   "source": [
    "df_no_error.describe()"
   ]
  },
  {
   "cell_type": "code",
   "execution_count": 12,
   "metadata": {},
   "outputs": [],
   "source": [
    "# 상위 25%를 따로 본다.\n",
    "df_top = df_no_error[df_no_error['cossim'] >= 0.462642]"
   ]
  },
  {
   "cell_type": "code",
   "execution_count": 17,
   "metadata": {},
   "outputs": [],
   "source": [
    "# 하위 25%를 따로 본다.\n",
    "df_bottom = df_no_error[df_no_error['cossim'] <= 0.071640]"
   ]
  },
  {
   "cell_type": "code",
   "execution_count": 13,
   "metadata": {},
   "outputs": [
    {
     "data": {
      "text/html": [
       "<div>\n",
       "<style scoped>\n",
       "    .dataframe tbody tr th:only-of-type {\n",
       "        vertical-align: middle;\n",
       "    }\n",
       "\n",
       "    .dataframe tbody tr th {\n",
       "        vertical-align: top;\n",
       "    }\n",
       "\n",
       "    .dataframe thead th {\n",
       "        text-align: right;\n",
       "    }\n",
       "</style>\n",
       "<table border=\"1\" class=\"dataframe\">\n",
       "  <thead>\n",
       "    <tr style=\"text-align: right;\">\n",
       "      <th></th>\n",
       "      <th>파일명</th>\n",
       "      <th>cossim</th>\n",
       "      <th>ProductID</th>\n",
       "      <th>CategoryID</th>\n",
       "      <th>카테고리명</th>\n",
       "      <th>성구분</th>\n",
       "    </tr>\n",
       "  </thead>\n",
       "  <tbody>\n",
       "    <tr>\n",
       "      <th>6</th>\n",
       "      <td>C10100020002-L000002760554.png</td>\n",
       "      <td>0.641645</td>\n",
       "      <td>L000002760554</td>\n",
       "      <td>C10100020002</td>\n",
       "      <td>girl-Doll</td>\n",
       "      <td>girl</td>\n",
       "    </tr>\n",
       "    <tr>\n",
       "      <th>8</th>\n",
       "      <td>C10100030005-4549660121978.png</td>\n",
       "      <td>0.524646</td>\n",
       "      <td>4549660121978</td>\n",
       "      <td>C10100030005</td>\n",
       "      <td>boy-Figure</td>\n",
       "      <td>boy</td>\n",
       "    </tr>\n",
       "    <tr>\n",
       "      <th>9</th>\n",
       "      <td>C10100030002-L000000467780.png</td>\n",
       "      <td>0.537860</td>\n",
       "      <td>L000000467780</td>\n",
       "      <td>C10100030002</td>\n",
       "      <td>boy-Action</td>\n",
       "      <td>boy</td>\n",
       "    </tr>\n",
       "    <tr>\n",
       "      <th>15</th>\n",
       "      <td>C10100020001-8809250482862.png</td>\n",
       "      <td>0.629798</td>\n",
       "      <td>8809250482862</td>\n",
       "      <td>C10100020001</td>\n",
       "      <td>girl-RolePlay</td>\n",
       "      <td>girl</td>\n",
       "    </tr>\n",
       "    <tr>\n",
       "      <th>17</th>\n",
       "      <td>C10100020001-8809226728284.png</td>\n",
       "      <td>0.510969</td>\n",
       "      <td>8809226728284</td>\n",
       "      <td>C10100020001</td>\n",
       "      <td>girl-RolePlay</td>\n",
       "      <td>girl</td>\n",
       "    </tr>\n",
       "  </tbody>\n",
       "</table>\n",
       "</div>"
      ],
      "text/plain": [
       "                               파일명    cossim      ProductID    CategoryID  \\\n",
       "6   C10100020002-L000002760554.png  0.641645  L000002760554  C10100020002   \n",
       "8   C10100030005-4549660121978.png  0.524646  4549660121978  C10100030005   \n",
       "9   C10100030002-L000000467780.png  0.537860  L000000467780  C10100030002   \n",
       "15  C10100020001-8809250482862.png  0.629798  8809250482862  C10100020001   \n",
       "17  C10100020001-8809226728284.png  0.510969  8809226728284  C10100020001   \n",
       "\n",
       "            카테고리명   성구분  \n",
       "6       girl-Doll  girl  \n",
       "8      boy-Figure   boy  \n",
       "9      boy-Action   boy  \n",
       "15  girl-RolePlay  girl  \n",
       "17  girl-RolePlay  girl  "
      ]
     },
     "execution_count": 13,
     "metadata": {},
     "output_type": "execute_result"
    }
   ],
   "source": [
    "df_top.head()"
   ]
  },
  {
   "cell_type": "code",
   "execution_count": 18,
   "metadata": {},
   "outputs": [
    {
     "data": {
      "text/html": [
       "<div>\n",
       "<style scoped>\n",
       "    .dataframe tbody tr th:only-of-type {\n",
       "        vertical-align: middle;\n",
       "    }\n",
       "\n",
       "    .dataframe tbody tr th {\n",
       "        vertical-align: top;\n",
       "    }\n",
       "\n",
       "    .dataframe thead th {\n",
       "        text-align: right;\n",
       "    }\n",
       "</style>\n",
       "<table border=\"1\" class=\"dataframe\">\n",
       "  <thead>\n",
       "    <tr style=\"text-align: right;\">\n",
       "      <th></th>\n",
       "      <th>파일명</th>\n",
       "      <th>cossim</th>\n",
       "      <th>ProductID</th>\n",
       "      <th>CategoryID</th>\n",
       "      <th>카테고리명</th>\n",
       "      <th>성구분</th>\n",
       "    </tr>\n",
       "  </thead>\n",
       "  <tbody>\n",
       "    <tr>\n",
       "      <th>2</th>\n",
       "      <td>C10100030004-8809285520850.png</td>\n",
       "      <td>-0.343740</td>\n",
       "      <td>8809285520850</td>\n",
       "      <td>C10100030004</td>\n",
       "      <td>boy-Car/Train</td>\n",
       "      <td>boy</td>\n",
       "    </tr>\n",
       "    <tr>\n",
       "      <th>4</th>\n",
       "      <td>C10100020001-3032163105008.png</td>\n",
       "      <td>-0.557942</td>\n",
       "      <td>3032163105008</td>\n",
       "      <td>C10100020001</td>\n",
       "      <td>girl-RolePlay</td>\n",
       "      <td>girl</td>\n",
       "    </tr>\n",
       "    <tr>\n",
       "      <th>16</th>\n",
       "      <td>C10100030001-8809482992214.png</td>\n",
       "      <td>0.037288</td>\n",
       "      <td>8809482992214</td>\n",
       "      <td>C10100030001</td>\n",
       "      <td>boy-RolePlay</td>\n",
       "      <td>boy</td>\n",
       "    </tr>\n",
       "    <tr>\n",
       "      <th>26</th>\n",
       "      <td>C10100030005-4543112894328.png</td>\n",
       "      <td>-0.203730</td>\n",
       "      <td>4543112894328</td>\n",
       "      <td>C10100030005</td>\n",
       "      <td>boy-Figure</td>\n",
       "      <td>boy</td>\n",
       "    </tr>\n",
       "    <tr>\n",
       "      <th>27</th>\n",
       "      <td>C10100020004-4905040791191.png</td>\n",
       "      <td>-0.150477</td>\n",
       "      <td>4905040791191</td>\n",
       "      <td>C10100020004</td>\n",
       "      <td>girl-DIY</td>\n",
       "      <td>girl</td>\n",
       "    </tr>\n",
       "  </tbody>\n",
       "</table>\n",
       "</div>"
      ],
      "text/plain": [
       "                               파일명    cossim      ProductID    CategoryID  \\\n",
       "2   C10100030004-8809285520850.png -0.343740  8809285520850  C10100030004   \n",
       "4   C10100020001-3032163105008.png -0.557942  3032163105008  C10100020001   \n",
       "16  C10100030001-8809482992214.png  0.037288  8809482992214  C10100030001   \n",
       "26  C10100030005-4543112894328.png -0.203730  4543112894328  C10100030005   \n",
       "27  C10100020004-4905040791191.png -0.150477  4905040791191  C10100020004   \n",
       "\n",
       "            카테고리명   성구분  \n",
       "2   boy-Car/Train   boy  \n",
       "4   girl-RolePlay  girl  \n",
       "16   boy-RolePlay   boy  \n",
       "26     boy-Figure   boy  \n",
       "27       girl-DIY  girl  "
      ]
     },
     "execution_count": 18,
     "metadata": {},
     "output_type": "execute_result"
    }
   ],
   "source": [
    "df_bottom.head()"
   ]
  },
  {
   "cell_type": "code",
   "execution_count": 14,
   "metadata": {},
   "outputs": [
    {
     "data": {
      "text/plain": [
       "girl    74.118738\n",
       "boy     25.881262\n",
       "Name: 성구분, dtype: float64"
      ]
     },
     "execution_count": 14,
     "metadata": {},
     "output_type": "execute_result"
    }
   ],
   "source": [
    "# 상위 25%는 어떤 성별로 구분된 장난감인지 본다.\n",
    "df_top['성구분'].value_counts(normalize=True) * 100"
   ]
  },
  {
   "cell_type": "code",
   "execution_count": 15,
   "metadata": {},
   "outputs": [
    {
     "data": {
      "text/plain": [
       "girl-Doll        43.877551\n",
       "girl-Deco        13.636364\n",
       "girl-RolePlay     9.461967\n",
       "boy-Car/Train     8.812616\n",
       "boy-Action        7.884972\n",
       "girl-DIY          7.142857\n",
       "boy-Figure        5.102041\n",
       "boy-Control       2.782931\n",
       "boy-RolePlay      1.298701\n",
       "Name: 카테고리명, dtype: float64"
      ]
     },
     "execution_count": 15,
     "metadata": {},
     "output_type": "execute_result"
    }
   ],
   "source": [
    "# 상위 25%는 어떤 카테고리의 장난감인지 본다.\n",
    "df_top['카테고리명'].value_counts(normalize=True) * 100"
   ]
  },
  {
   "cell_type": "code",
   "execution_count": 20,
   "metadata": {},
   "outputs": [
    {
     "data": {
      "text/plain": [
       "boy     60.352832\n",
       "girl    39.647168\n",
       "Name: 성구분, dtype: float64"
      ]
     },
     "execution_count": 20,
     "metadata": {},
     "output_type": "execute_result"
    }
   ],
   "source": [
    "# 하위 25%는 어떤 성별로 구분된 장난감인지 본다.\n",
    "df_bottom['성구분'].value_counts(normalize=True) * 100"
   ]
  },
  {
   "cell_type": "code",
   "execution_count": 19,
   "metadata": {},
   "outputs": [
    {
     "data": {
      "text/plain": [
       "girl-Doll        23.212628\n",
       "boy-Car/Train    17.734448\n",
       "boy-Action       16.991643\n",
       "boy-Figure       13.741876\n",
       "boy-RolePlay      8.263695\n",
       "girl-DIY          8.170845\n",
       "girl-RolePlay     4.363974\n",
       "girl-Deco         3.899721\n",
       "boy-Control       3.621170\n",
       "Name: 카테고리명, dtype: float64"
      ]
     },
     "execution_count": 19,
     "metadata": {},
     "output_type": "execute_result"
    }
   ],
   "source": [
    "# 하위 25%는 어떤 카테고리의 장난감인지 본다.\n",
    "df_bottom['카테고리명'].value_counts(normalize=True) * 100"
   ]
  }
 ],
 "metadata": {
  "kernelspec": {
   "display_name": "Python 3",
   "language": "python",
   "name": "python3"
  },
  "language_info": {
   "codemirror_mode": {
    "name": "ipython",
    "version": 3
   },
   "file_extension": ".py",
   "mimetype": "text/x-python",
   "name": "python",
   "nbconvert_exporter": "python",
   "pygments_lexer": "ipython3",
   "version": "3.6.5"
  }
 },
 "nbformat": 4,
 "nbformat_minor": 2
}
