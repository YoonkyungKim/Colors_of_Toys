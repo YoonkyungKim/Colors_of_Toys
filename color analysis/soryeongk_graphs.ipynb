{
 "cells": [
  {
   "cell_type": "code",
   "execution_count": 105,
   "metadata": {},
   "outputs": [],
   "source": [
    "import pandas as pd\n",
    "import re\n",
    "import os\n",
    "import seaborn as sns\n",
    "import matplotlib.pyplot as plt"
   ]
  },
  {
   "cell_type": "code",
   "execution_count": 5,
   "metadata": {},
   "outputs": [],
   "source": [
    "images = os.listdir('../image/')"
   ]
  },
  {
   "cell_type": "code",
   "execution_count": 3,
   "metadata": {},
   "outputs": [
    {
     "data": {
      "text/html": [
       "<div>\n",
       "<style scoped>\n",
       "    .dataframe tbody tr th:only-of-type {\n",
       "        vertical-align: middle;\n",
       "    }\n",
       "\n",
       "    .dataframe tbody tr th {\n",
       "        vertical-align: top;\n",
       "    }\n",
       "\n",
       "    .dataframe thead th {\n",
       "        text-align: right;\n",
       "    }\n",
       "</style>\n",
       "<table border=\"1\" class=\"dataframe\">\n",
       "  <thead>\n",
       "    <tr style=\"text-align: right;\">\n",
       "      <th></th>\n",
       "      <th>파일명</th>\n",
       "      <th>cossim</th>\n",
       "    </tr>\n",
       "  </thead>\n",
       "  <tbody>\n",
       "    <tr>\n",
       "      <th>0</th>\n",
       "      <td>C10100020002-L000000549595.png</td>\n",
       "      <td>0.30838029172372905</td>\n",
       "    </tr>\n",
       "    <tr>\n",
       "      <th>1</th>\n",
       "      <td>C10100030004-8809311140519.png</td>\n",
       "      <td>0.3774832204826477</td>\n",
       "    </tr>\n",
       "    <tr>\n",
       "      <th>2</th>\n",
       "      <td>C10100030004-8809285520850.png</td>\n",
       "      <td>-0.34374026732040036</td>\n",
       "    </tr>\n",
       "    <tr>\n",
       "      <th>3</th>\n",
       "      <td>C10100020003-L000000578099.png</td>\n",
       "      <td>0.26004839180984674</td>\n",
       "    </tr>\n",
       "    <tr>\n",
       "      <th>4</th>\n",
       "      <td>C10100020001-3032163105008.png</td>\n",
       "      <td>-0.5579422839012692</td>\n",
       "    </tr>\n",
       "  </tbody>\n",
       "</table>\n",
       "</div>"
      ],
      "text/plain": [
       "                              파일명                cossim\n",
       "0  C10100020002-L000000549595.png   0.30838029172372905\n",
       "1  C10100030004-8809311140519.png    0.3774832204826477\n",
       "2  C10100030004-8809285520850.png  -0.34374026732040036\n",
       "3  C10100020003-L000000578099.png   0.26004839180984674\n",
       "4  C10100020001-3032163105008.png   -0.5579422839012692"
      ]
     },
     "execution_count": 3,
     "metadata": {},
     "output_type": "execute_result"
    }
   ],
   "source": [
    "df = pd.read_csv('data/cossim_result.csv')\n",
    "df.head()"
   ]
  },
  {
   "cell_type": "code",
   "execution_count": 21,
   "metadata": {},
   "outputs": [
    {
     "data": {
      "text/plain": [
       "['C10100020002-L000000549595.png',\n",
       " 'C10100030004-8809311140519.png',\n",
       " 'C10100030004-8809285520850.png',\n",
       " 'C10100020003-L000000578099.png',\n",
       " 'C10100020001-3032163105008.png',\n",
       " 'C10100030005-8809258925262.png',\n",
       " 'C10100020002-L000002760554.png',\n",
       " 'C10100030003-8809282303999.png',\n",
       " 'C10100030005-4549660121978.png',\n",
       " 'C10100030002-L000000467780.png']"
      ]
     },
     "execution_count": 21,
     "metadata": {},
     "output_type": "execute_result"
    }
   ],
   "source": [
    "filenames = df['파일명'].tolist()\n",
    "filenames[:10]"
   ]
  },
  {
   "cell_type": "code",
   "execution_count": 11,
   "metadata": {},
   "outputs": [
    {
     "data": {
      "text/plain": [
       "['C10100020002',\n",
       " 'C10100030004',\n",
       " 'C10100030004',\n",
       " 'C10100020003',\n",
       " 'C10100020001',\n",
       " 'C10100030005',\n",
       " 'C10100020002',\n",
       " 'C10100030003',\n",
       " 'C10100030005',\n",
       " 'C10100030002']"
      ]
     },
     "execution_count": 11,
     "metadata": {},
     "output_type": "execute_result"
    }
   ],
   "source": [
    "CategoryIDs = [f.split('-')[0] for f in filenames]\n",
    "CategoryIDs[:10]"
   ]
  },
  {
   "cell_type": "code",
   "execution_count": 18,
   "metadata": {},
   "outputs": [
    {
     "data": {
      "text/plain": [
       "'L000000549595'"
      ]
     },
     "execution_count": 18,
     "metadata": {},
     "output_type": "execute_result"
    }
   ],
   "source": [
    "'C10100020002-L000000549595.png'.split('-')[1].split('.png')[0]"
   ]
  },
  {
   "cell_type": "code",
   "execution_count": 12,
   "metadata": {},
   "outputs": [
    {
     "ename": "IndexError",
     "evalue": "list index out of range",
     "output_type": "error",
     "traceback": [
      "\u001b[0;31m---------------------------------------------------------------------------\u001b[0m",
      "\u001b[0;31mIndexError\u001b[0m                                Traceback (most recent call last)",
      "\u001b[0;32m<ipython-input-12-181406378f4c>\u001b[0m in \u001b[0;36m<module>\u001b[0;34m\u001b[0m\n\u001b[0;32m----> 1\u001b[0;31m \u001b[0mProductIDs\u001b[0m \u001b[0;34m=\u001b[0m \u001b[0;34m[\u001b[0m\u001b[0mf\u001b[0m\u001b[0;34m.\u001b[0m\u001b[0msplit\u001b[0m\u001b[0;34m(\u001b[0m\u001b[0;34m'-'\u001b[0m\u001b[0;34m)\u001b[0m\u001b[0;34m[\u001b[0m\u001b[0;36m1\u001b[0m\u001b[0;34m]\u001b[0m \u001b[0;32mfor\u001b[0m \u001b[0mf\u001b[0m \u001b[0;32min\u001b[0m \u001b[0mfilenames\u001b[0m\u001b[0;34m]\u001b[0m\u001b[0;34m\u001b[0m\u001b[0m\n\u001b[0m",
      "\u001b[0;32m<ipython-input-12-181406378f4c>\u001b[0m in \u001b[0;36m<listcomp>\u001b[0;34m(.0)\u001b[0m\n\u001b[0;32m----> 1\u001b[0;31m \u001b[0mProductIDs\u001b[0m \u001b[0;34m=\u001b[0m \u001b[0;34m[\u001b[0m\u001b[0mf\u001b[0m\u001b[0;34m.\u001b[0m\u001b[0msplit\u001b[0m\u001b[0;34m(\u001b[0m\u001b[0;34m'-'\u001b[0m\u001b[0;34m)\u001b[0m\u001b[0;34m[\u001b[0m\u001b[0;36m1\u001b[0m\u001b[0;34m]\u001b[0m \u001b[0;32mfor\u001b[0m \u001b[0mf\u001b[0m \u001b[0;32min\u001b[0m \u001b[0mfilenames\u001b[0m\u001b[0;34m]\u001b[0m\u001b[0;34m\u001b[0m\u001b[0m\n\u001b[0m",
      "\u001b[0;31mIndexError\u001b[0m: list index out of range"
     ]
    }
   ],
   "source": [
    "ProductIDs = [f.split('-')[1].split('.png')[0] for f in filenames]"
   ]
  },
  {
   "cell_type": "code",
   "execution_count": 15,
   "metadata": {},
   "outputs": [
    {
     "name": "stdout",
     "output_type": "stream",
     "text": [
      ".ipynb_checkpoints\n"
     ]
    }
   ],
   "source": [
    "ProductIDs = []\n",
    "for f in filenames:\n",
    "    try:\n",
    "        ProductIDs.append(f.split('-')[1])\n",
    "    except:\n",
    "        print(f)"
   ]
  },
  {
   "cell_type": "code",
   "execution_count": 17,
   "metadata": {},
   "outputs": [
    {
     "data": {
      "text/plain": [
       "'.ipynb_checkpoints'"
      ]
     },
     "execution_count": 17,
     "metadata": {},
     "output_type": "execute_result"
    }
   ],
   "source": [
    "filenames.pop(3113)"
   ]
  },
  {
   "cell_type": "code",
   "execution_count": 19,
   "metadata": {},
   "outputs": [],
   "source": [
    "ProductIDs = [f.split('-')[1].split('.png')[0] for f in filenames]"
   ]
  },
  {
   "cell_type": "code",
   "execution_count": 20,
   "metadata": {},
   "outputs": [
    {
     "data": {
      "text/html": [
       "<div>\n",
       "<style scoped>\n",
       "    .dataframe tbody tr th:only-of-type {\n",
       "        vertical-align: middle;\n",
       "    }\n",
       "\n",
       "    .dataframe tbody tr th {\n",
       "        vertical-align: top;\n",
       "    }\n",
       "\n",
       "    .dataframe thead th {\n",
       "        text-align: right;\n",
       "    }\n",
       "</style>\n",
       "<table border=\"1\" class=\"dataframe\">\n",
       "  <thead>\n",
       "    <tr style=\"text-align: right;\">\n",
       "      <th></th>\n",
       "      <th>파일명</th>\n",
       "      <th>cossim</th>\n",
       "    </tr>\n",
       "  </thead>\n",
       "  <tbody>\n",
       "    <tr>\n",
       "      <th>3113</th>\n",
       "      <td>.ipynb_checkpoints</td>\n",
       "      <td>Error2</td>\n",
       "    </tr>\n",
       "  </tbody>\n",
       "</table>\n",
       "</div>"
      ],
      "text/plain": [
       "                     파일명  cossim\n",
       "3113  .ipynb_checkpoints  Error2"
      ]
     },
     "execution_count": 20,
     "metadata": {},
     "output_type": "execute_result"
    }
   ],
   "source": [
    "df.loc[df['파일명'] == '.ipynb_checkpoints']"
   ]
  },
  {
   "cell_type": "code",
   "execution_count": 22,
   "metadata": {},
   "outputs": [],
   "source": [
    "ProductIDs = []\n",
    "for f in filenames:\n",
    "    try:\n",
    "        ProductIDs.append(f.split('-')[1].split('.png')[0])\n",
    "    except:\n",
    "        ProductIDs.append(f)"
   ]
  },
  {
   "cell_type": "code",
   "execution_count": 23,
   "metadata": {},
   "outputs": [
    {
     "data": {
      "text/plain": [
       "(4340, 4340)"
      ]
     },
     "execution_count": 23,
     "metadata": {},
     "output_type": "execute_result"
    }
   ],
   "source": [
    "len(ProductIDs), len(CategoryIDs)"
   ]
  },
  {
   "cell_type": "code",
   "execution_count": 24,
   "metadata": {},
   "outputs": [],
   "source": [
    "df['ProductID'] = ProductIDs"
   ]
  },
  {
   "cell_type": "code",
   "execution_count": 25,
   "metadata": {},
   "outputs": [],
   "source": [
    "df['CategoryID'] = CategoryIDs"
   ]
  },
  {
   "cell_type": "code",
   "execution_count": 26,
   "metadata": {},
   "outputs": [
    {
     "data": {
      "text/html": [
       "<div>\n",
       "<style scoped>\n",
       "    .dataframe tbody tr th:only-of-type {\n",
       "        vertical-align: middle;\n",
       "    }\n",
       "\n",
       "    .dataframe tbody tr th {\n",
       "        vertical-align: top;\n",
       "    }\n",
       "\n",
       "    .dataframe thead th {\n",
       "        text-align: right;\n",
       "    }\n",
       "</style>\n",
       "<table border=\"1\" class=\"dataframe\">\n",
       "  <thead>\n",
       "    <tr style=\"text-align: right;\">\n",
       "      <th></th>\n",
       "      <th>파일명</th>\n",
       "      <th>cossim</th>\n",
       "      <th>ProductID</th>\n",
       "      <th>CategoryID</th>\n",
       "    </tr>\n",
       "  </thead>\n",
       "  <tbody>\n",
       "    <tr>\n",
       "      <th>0</th>\n",
       "      <td>C10100020002-L000000549595.png</td>\n",
       "      <td>0.30838029172372905</td>\n",
       "      <td>L000000549595</td>\n",
       "      <td>C10100020002</td>\n",
       "    </tr>\n",
       "    <tr>\n",
       "      <th>1</th>\n",
       "      <td>C10100030004-8809311140519.png</td>\n",
       "      <td>0.3774832204826477</td>\n",
       "      <td>8809311140519</td>\n",
       "      <td>C10100030004</td>\n",
       "    </tr>\n",
       "    <tr>\n",
       "      <th>2</th>\n",
       "      <td>C10100030004-8809285520850.png</td>\n",
       "      <td>-0.34374026732040036</td>\n",
       "      <td>8809285520850</td>\n",
       "      <td>C10100030004</td>\n",
       "    </tr>\n",
       "    <tr>\n",
       "      <th>3</th>\n",
       "      <td>C10100020003-L000000578099.png</td>\n",
       "      <td>0.26004839180984674</td>\n",
       "      <td>L000000578099</td>\n",
       "      <td>C10100020003</td>\n",
       "    </tr>\n",
       "    <tr>\n",
       "      <th>4</th>\n",
       "      <td>C10100020001-3032163105008.png</td>\n",
       "      <td>-0.5579422839012692</td>\n",
       "      <td>3032163105008</td>\n",
       "      <td>C10100020001</td>\n",
       "    </tr>\n",
       "  </tbody>\n",
       "</table>\n",
       "</div>"
      ],
      "text/plain": [
       "                              파일명                cossim      ProductID  \\\n",
       "0  C10100020002-L000000549595.png   0.30838029172372905  L000000549595   \n",
       "1  C10100030004-8809311140519.png    0.3774832204826477  8809311140519   \n",
       "2  C10100030004-8809285520850.png  -0.34374026732040036  8809285520850   \n",
       "3  C10100020003-L000000578099.png   0.26004839180984674  L000000578099   \n",
       "4  C10100020001-3032163105008.png   -0.5579422839012692  3032163105008   \n",
       "\n",
       "     CategoryID  \n",
       "0  C10100020002  \n",
       "1  C10100030004  \n",
       "2  C10100030004  \n",
       "3  C10100020003  \n",
       "4  C10100020001  "
      ]
     },
     "execution_count": 26,
     "metadata": {},
     "output_type": "execute_result"
    }
   ],
   "source": [
    "df.head()"
   ]
  },
  {
   "cell_type": "code",
   "execution_count": 27,
   "metadata": {},
   "outputs": [],
   "source": [
    "girls = pd.read_csv('../data/colors_of_toys_category_girl.csv')\n",
    "boys = pd.read_csv('../data/colors_of_toys_category_boy.csv')"
   ]
  },
  {
   "cell_type": "code",
   "execution_count": 28,
   "metadata": {},
   "outputs": [
    {
     "data": {
      "text/html": [
       "<div>\n",
       "<style scoped>\n",
       "    .dataframe tbody tr th:only-of-type {\n",
       "        vertical-align: middle;\n",
       "    }\n",
       "\n",
       "    .dataframe tbody tr th {\n",
       "        vertical-align: top;\n",
       "    }\n",
       "\n",
       "    .dataframe thead th {\n",
       "        text-align: right;\n",
       "    }\n",
       "</style>\n",
       "<table border=\"1\" class=\"dataframe\">\n",
       "  <thead>\n",
       "    <tr style=\"text-align: right;\">\n",
       "      <th></th>\n",
       "      <th>성별구분</th>\n",
       "      <th>카테고리명</th>\n",
       "      <th>카테고리ID</th>\n",
       "      <th>총 개수</th>\n",
       "    </tr>\n",
       "  </thead>\n",
       "  <tbody>\n",
       "    <tr>\n",
       "      <th>0</th>\n",
       "      <td>여아</td>\n",
       "      <td>역할놀이</td>\n",
       "      <td>C10100020001</td>\n",
       "      <td>436</td>\n",
       "    </tr>\n",
       "    <tr>\n",
       "      <th>1</th>\n",
       "      <td>여아</td>\n",
       "      <td>인형</td>\n",
       "      <td>C10100020002</td>\n",
       "      <td>2105</td>\n",
       "    </tr>\n",
       "    <tr>\n",
       "      <th>2</th>\n",
       "      <td>여아</td>\n",
       "      <td>꾸미기</td>\n",
       "      <td>C10100020003</td>\n",
       "      <td>394</td>\n",
       "    </tr>\n",
       "    <tr>\n",
       "      <th>3</th>\n",
       "      <td>여아</td>\n",
       "      <td>DIY/취미</td>\n",
       "      <td>C10100020004</td>\n",
       "      <td>466</td>\n",
       "    </tr>\n",
       "  </tbody>\n",
       "</table>\n",
       "</div>"
      ],
      "text/plain": [
       "  성별구분   카테고리명        카테고리ID  총 개수\n",
       "0   여아    역할놀이  C10100020001   436\n",
       "1   여아      인형  C10100020002  2105\n",
       "2   여아     꾸미기  C10100020003   394\n",
       "3   여아  DIY/취미  C10100020004   466"
      ]
     },
     "execution_count": 28,
     "metadata": {},
     "output_type": "execute_result"
    }
   ],
   "source": [
    "girls"
   ]
  },
  {
   "cell_type": "code",
   "execution_count": 29,
   "metadata": {},
   "outputs": [
    {
     "data": {
      "text/html": [
       "<div>\n",
       "<style scoped>\n",
       "    .dataframe tbody tr th:only-of-type {\n",
       "        vertical-align: middle;\n",
       "    }\n",
       "\n",
       "    .dataframe tbody tr th {\n",
       "        vertical-align: top;\n",
       "    }\n",
       "\n",
       "    .dataframe thead th {\n",
       "        text-align: right;\n",
       "    }\n",
       "</style>\n",
       "<table border=\"1\" class=\"dataframe\">\n",
       "  <thead>\n",
       "    <tr style=\"text-align: right;\">\n",
       "      <th></th>\n",
       "      <th>성별구분</th>\n",
       "      <th>카테고리명</th>\n",
       "      <th>카테고리ID</th>\n",
       "      <th>총 개수</th>\n",
       "    </tr>\n",
       "  </thead>\n",
       "  <tbody>\n",
       "    <tr>\n",
       "      <th>0</th>\n",
       "      <td>남아</td>\n",
       "      <td>역할놀이</td>\n",
       "      <td>C10100030001</td>\n",
       "      <td>279</td>\n",
       "    </tr>\n",
       "    <tr>\n",
       "      <th>1</th>\n",
       "      <td>남아</td>\n",
       "      <td>액션</td>\n",
       "      <td>C10100030002</td>\n",
       "      <td>707</td>\n",
       "    </tr>\n",
       "    <tr>\n",
       "      <th>2</th>\n",
       "      <td>남아</td>\n",
       "      <td>조종</td>\n",
       "      <td>C10100030003</td>\n",
       "      <td>227</td>\n",
       "    </tr>\n",
       "    <tr>\n",
       "      <th>3</th>\n",
       "      <td>남아</td>\n",
       "      <td>자동차/기차</td>\n",
       "      <td>C10100030004</td>\n",
       "      <td>767</td>\n",
       "    </tr>\n",
       "    <tr>\n",
       "      <th>4</th>\n",
       "      <td>남아</td>\n",
       "      <td>프라모델/피규어</td>\n",
       "      <td>C10100030005</td>\n",
       "      <td>553</td>\n",
       "    </tr>\n",
       "  </tbody>\n",
       "</table>\n",
       "</div>"
      ],
      "text/plain": [
       "  성별구분     카테고리명        카테고리ID  총 개수\n",
       "0   남아      역할놀이  C10100030001   279\n",
       "1   남아        액션  C10100030002   707\n",
       "2   남아        조종  C10100030003   227\n",
       "3   남아    자동차/기차  C10100030004   767\n",
       "4   남아  프라모델/피규어  C10100030005   553"
      ]
     },
     "execution_count": 29,
     "metadata": {},
     "output_type": "execute_result"
    }
   ],
   "source": [
    "boys"
   ]
  },
  {
   "cell_type": "code",
   "execution_count": 30,
   "metadata": {},
   "outputs": [],
   "source": [
    "df.to_csv('data/cossim_result_with_IDs.csv', index=False)"
   ]
  },
  {
   "cell_type": "code",
   "execution_count": 59,
   "metadata": {},
   "outputs": [
    {
     "data": {
      "text/plain": [
       "0       C10100020002\n",
       "1       C10100030004\n",
       "2       C10100030004\n",
       "3       C10100020003\n",
       "4       C10100020001\n",
       "5       C10100030005\n",
       "6       C10100020002\n",
       "7       C10100030003\n",
       "8       C10100030005\n",
       "9       C10100030002\n",
       "10      C10100020001\n",
       "11      C10100030005\n",
       "12      C10100020002\n",
       "13      C10100020004\n",
       "14      C10100020002\n",
       "15      C10100020001\n",
       "16      C10100030001\n",
       "17      C10100020001\n",
       "18      C10100030004\n",
       "19      C10100020002\n",
       "20      C10100020004\n",
       "21      C10100020001\n",
       "22      C10100020002\n",
       "23      C10100020002\n",
       "24      C10100020002\n",
       "25      C10100030001\n",
       "26      C10100030005\n",
       "27      C10100020004\n",
       "28      C10100020004\n",
       "29      C10100020001\n",
       "            ...     \n",
       "4310    C10100020002\n",
       "4311    C10100020002\n",
       "4312    C10100030005\n",
       "4313    C10100020002\n",
       "4314    C10100030005\n",
       "4315    C10100030002\n",
       "4316    C10100020002\n",
       "4317    C10100020002\n",
       "4318    C10100030002\n",
       "4319    C10100020001\n",
       "4320    C10100030003\n",
       "4321    C10100020002\n",
       "4322    C10100020002\n",
       "4323    C10100030001\n",
       "4324    C10100020001\n",
       "4325    C10100030004\n",
       "4326    C10100020003\n",
       "4327    C10100020001\n",
       "4328    C10100030005\n",
       "4329    C10100030003\n",
       "4330    C10100020004\n",
       "4331    C10100020003\n",
       "4332    C10100020002\n",
       "4333    C10100020002\n",
       "4334    C10100020003\n",
       "4335    C10100020001\n",
       "4336    C10100030002\n",
       "4337    C10100020002\n",
       "4338    C10100020004\n",
       "4339    C10100020001\n",
       "Name: 카테고리명, Length: 4340, dtype: category\n",
       "Categories (10, object): [.ipynb_checkpoints, C10100020001, C10100020002, C10100020003, ..., C10100030002, C10100030003, C10100030004, C10100030005]"
      ]
     },
     "execution_count": 59,
     "metadata": {},
     "output_type": "execute_result"
    }
   ],
   "source": [
    "df['카테고리명'] = df['CategoryID'].astype(\"category\")\n",
    "df['카테고리명']"
   ]
  },
  {
   "cell_type": "code",
   "execution_count": 50,
   "metadata": {},
   "outputs": [
    {
     "data": {
      "text/plain": [
       "['C10100020002',\n",
       " 'C10100030004',\n",
       " 'C10100020003',\n",
       " 'C10100020001',\n",
       " 'C10100030005',\n",
       " 'C10100030003',\n",
       " 'C10100030002',\n",
       " 'C10100020004',\n",
       " 'C10100030001',\n",
       " '.ipynb_checkpoints']"
      ]
     },
     "execution_count": 50,
     "metadata": {},
     "output_type": "execute_result"
    }
   ],
   "source": [
    "ls = df['카테고리명'].unique().tolist()\n",
    "ls"
   ]
  },
  {
   "cell_type": "code",
   "execution_count": 39,
   "metadata": {},
   "outputs": [
    {
     "data": {
      "text/html": [
       "<div>\n",
       "<style scoped>\n",
       "    .dataframe tbody tr th:only-of-type {\n",
       "        vertical-align: middle;\n",
       "    }\n",
       "\n",
       "    .dataframe tbody tr th {\n",
       "        vertical-align: top;\n",
       "    }\n",
       "\n",
       "    .dataframe thead th {\n",
       "        text-align: right;\n",
       "    }\n",
       "</style>\n",
       "<table border=\"1\" class=\"dataframe\">\n",
       "  <thead>\n",
       "    <tr style=\"text-align: right;\">\n",
       "      <th></th>\n",
       "      <th>성별구분</th>\n",
       "      <th>카테고리명</th>\n",
       "      <th>카테고리ID</th>\n",
       "      <th>총 개수</th>\n",
       "    </tr>\n",
       "  </thead>\n",
       "  <tbody>\n",
       "    <tr>\n",
       "      <th>0</th>\n",
       "      <td>여아</td>\n",
       "      <td>역할놀이</td>\n",
       "      <td>C10100020001</td>\n",
       "      <td>436</td>\n",
       "    </tr>\n",
       "    <tr>\n",
       "      <th>1</th>\n",
       "      <td>여아</td>\n",
       "      <td>인형</td>\n",
       "      <td>C10100020002</td>\n",
       "      <td>2105</td>\n",
       "    </tr>\n",
       "    <tr>\n",
       "      <th>2</th>\n",
       "      <td>여아</td>\n",
       "      <td>꾸미기</td>\n",
       "      <td>C10100020003</td>\n",
       "      <td>394</td>\n",
       "    </tr>\n",
       "    <tr>\n",
       "      <th>3</th>\n",
       "      <td>여아</td>\n",
       "      <td>DIY/취미</td>\n",
       "      <td>C10100020004</td>\n",
       "      <td>466</td>\n",
       "    </tr>\n",
       "  </tbody>\n",
       "</table>\n",
       "</div>"
      ],
      "text/plain": [
       "  성별구분   카테고리명        카테고리ID  총 개수\n",
       "0   여아    역할놀이  C10100020001   436\n",
       "1   여아      인형  C10100020002  2105\n",
       "2   여아     꾸미기  C10100020003   394\n",
       "3   여아  DIY/취미  C10100020004   466"
      ]
     },
     "execution_count": 39,
     "metadata": {},
     "output_type": "execute_result"
    }
   ],
   "source": [
    "girls"
   ]
  },
  {
   "cell_type": "code",
   "execution_count": 40,
   "metadata": {},
   "outputs": [
    {
     "data": {
      "text/html": [
       "<div>\n",
       "<style scoped>\n",
       "    .dataframe tbody tr th:only-of-type {\n",
       "        vertical-align: middle;\n",
       "    }\n",
       "\n",
       "    .dataframe tbody tr th {\n",
       "        vertical-align: top;\n",
       "    }\n",
       "\n",
       "    .dataframe thead th {\n",
       "        text-align: right;\n",
       "    }\n",
       "</style>\n",
       "<table border=\"1\" class=\"dataframe\">\n",
       "  <thead>\n",
       "    <tr style=\"text-align: right;\">\n",
       "      <th></th>\n",
       "      <th>성별구분</th>\n",
       "      <th>카테고리명</th>\n",
       "      <th>카테고리ID</th>\n",
       "      <th>총 개수</th>\n",
       "    </tr>\n",
       "  </thead>\n",
       "  <tbody>\n",
       "    <tr>\n",
       "      <th>0</th>\n",
       "      <td>남아</td>\n",
       "      <td>역할놀이</td>\n",
       "      <td>C10100030001</td>\n",
       "      <td>279</td>\n",
       "    </tr>\n",
       "    <tr>\n",
       "      <th>1</th>\n",
       "      <td>남아</td>\n",
       "      <td>액션</td>\n",
       "      <td>C10100030002</td>\n",
       "      <td>707</td>\n",
       "    </tr>\n",
       "    <tr>\n",
       "      <th>2</th>\n",
       "      <td>남아</td>\n",
       "      <td>조종</td>\n",
       "      <td>C10100030003</td>\n",
       "      <td>227</td>\n",
       "    </tr>\n",
       "    <tr>\n",
       "      <th>3</th>\n",
       "      <td>남아</td>\n",
       "      <td>자동차/기차</td>\n",
       "      <td>C10100030004</td>\n",
       "      <td>767</td>\n",
       "    </tr>\n",
       "    <tr>\n",
       "      <th>4</th>\n",
       "      <td>남아</td>\n",
       "      <td>프라모델/피규어</td>\n",
       "      <td>C10100030005</td>\n",
       "      <td>553</td>\n",
       "    </tr>\n",
       "  </tbody>\n",
       "</table>\n",
       "</div>"
      ],
      "text/plain": [
       "  성별구분     카테고리명        카테고리ID  총 개수\n",
       "0   남아      역할놀이  C10100030001   279\n",
       "1   남아        액션  C10100030002   707\n",
       "2   남아        조종  C10100030003   227\n",
       "3   남아    자동차/기차  C10100030004   767\n",
       "4   남아  프라모델/피규어  C10100030005   553"
      ]
     },
     "execution_count": 40,
     "metadata": {},
     "output_type": "execute_result"
    }
   ],
   "source": [
    "boys"
   ]
  },
  {
   "cell_type": "code",
   "execution_count": 55,
   "metadata": {},
   "outputs": [
    {
     "data": {
      "text/plain": [
       "Index(['.ipynb_checkpoints', 'C10100020001', 'C10100020002', 'C10100020003',\n",
       "       'C10100020004', 'C10100030001', 'C10100030002', 'C10100030003',\n",
       "       'C10100030004', 'C10100030005'],\n",
       "      dtype='object')"
      ]
     },
     "execution_count": 55,
     "metadata": {},
     "output_type": "execute_result"
    }
   ],
   "source": [
    "df['카테고리명'].cat.categories"
   ]
  },
  {
   "cell_type": "code",
   "execution_count": 124,
   "metadata": {},
   "outputs": [],
   "source": [
    "names = '.ipynb_checkpoints,girl-RolePlay,girl-Doll,girl-Deco,girl-DIY,boy-RolePlay,boy-Action,boy-Control,boy-Car/Train,boy-Figure'.split(',')"
   ]
  },
  {
   "cell_type": "code",
   "execution_count": 125,
   "metadata": {},
   "outputs": [
    {
     "data": {
      "text/plain": [
       "['.ipynb_checkpoints',\n",
       " 'girl-RolePlay',\n",
       " 'girl-Doll',\n",
       " 'girl-Deco',\n",
       " 'girl-DIY',\n",
       " 'boy-RolePlay',\n",
       " 'boy-Action',\n",
       " 'boy-Control',\n",
       " 'boy-Car/Train',\n",
       " 'boy-Figure']"
      ]
     },
     "execution_count": 125,
     "metadata": {},
     "output_type": "execute_result"
    }
   ],
   "source": [
    "names"
   ]
  },
  {
   "cell_type": "code",
   "execution_count": 126,
   "metadata": {},
   "outputs": [],
   "source": [
    "df['카테고리명'].cat.categories = names"
   ]
  },
  {
   "cell_type": "code",
   "execution_count": 127,
   "metadata": {},
   "outputs": [
    {
     "data": {
      "text/html": [
       "<div>\n",
       "<style scoped>\n",
       "    .dataframe tbody tr th:only-of-type {\n",
       "        vertical-align: middle;\n",
       "    }\n",
       "\n",
       "    .dataframe tbody tr th {\n",
       "        vertical-align: top;\n",
       "    }\n",
       "\n",
       "    .dataframe thead th {\n",
       "        text-align: right;\n",
       "    }\n",
       "</style>\n",
       "<table border=\"1\" class=\"dataframe\">\n",
       "  <thead>\n",
       "    <tr style=\"text-align: right;\">\n",
       "      <th></th>\n",
       "      <th>파일명</th>\n",
       "      <th>cossim</th>\n",
       "      <th>ProductID</th>\n",
       "      <th>CategoryID</th>\n",
       "      <th>카테고리명</th>\n",
       "      <th>성구분</th>\n",
       "    </tr>\n",
       "  </thead>\n",
       "  <tbody>\n",
       "    <tr>\n",
       "      <th>0</th>\n",
       "      <td>C10100020002-L000000549595.png</td>\n",
       "      <td>0.30838029172372905</td>\n",
       "      <td>L000000549595</td>\n",
       "      <td>C10100020002</td>\n",
       "      <td>girl-Doll</td>\n",
       "      <td>여아</td>\n",
       "    </tr>\n",
       "    <tr>\n",
       "      <th>1</th>\n",
       "      <td>C10100030004-8809311140519.png</td>\n",
       "      <td>0.3774832204826477</td>\n",
       "      <td>8809311140519</td>\n",
       "      <td>C10100030004</td>\n",
       "      <td>boy-Car/Train</td>\n",
       "      <td>남아</td>\n",
       "    </tr>\n",
       "    <tr>\n",
       "      <th>2</th>\n",
       "      <td>C10100030004-8809285520850.png</td>\n",
       "      <td>-0.34374026732040036</td>\n",
       "      <td>8809285520850</td>\n",
       "      <td>C10100030004</td>\n",
       "      <td>boy-Car/Train</td>\n",
       "      <td>남아</td>\n",
       "    </tr>\n",
       "    <tr>\n",
       "      <th>3</th>\n",
       "      <td>C10100020003-L000000578099.png</td>\n",
       "      <td>0.26004839180984674</td>\n",
       "      <td>L000000578099</td>\n",
       "      <td>C10100020003</td>\n",
       "      <td>girl-Deco</td>\n",
       "      <td>여아</td>\n",
       "    </tr>\n",
       "    <tr>\n",
       "      <th>4</th>\n",
       "      <td>C10100020001-3032163105008.png</td>\n",
       "      <td>-0.5579422839012692</td>\n",
       "      <td>3032163105008</td>\n",
       "      <td>C10100020001</td>\n",
       "      <td>girl-RolePlay</td>\n",
       "      <td>여아</td>\n",
       "    </tr>\n",
       "  </tbody>\n",
       "</table>\n",
       "</div>"
      ],
      "text/plain": [
       "                              파일명                cossim      ProductID  \\\n",
       "0  C10100020002-L000000549595.png   0.30838029172372905  L000000549595   \n",
       "1  C10100030004-8809311140519.png    0.3774832204826477  8809311140519   \n",
       "2  C10100030004-8809285520850.png  -0.34374026732040036  8809285520850   \n",
       "3  C10100020003-L000000578099.png   0.26004839180984674  L000000578099   \n",
       "4  C10100020001-3032163105008.png   -0.5579422839012692  3032163105008   \n",
       "\n",
       "     CategoryID          카테고리명 성구분  \n",
       "0  C10100020002      girl-Doll  여아  \n",
       "1  C10100030004  boy-Car/Train  남아  \n",
       "2  C10100030004  boy-Car/Train  남아  \n",
       "3  C10100020003      girl-Deco  여아  \n",
       "4  C10100020001  girl-RolePlay  여아  "
      ]
     },
     "execution_count": 127,
     "metadata": {},
     "output_type": "execute_result"
    }
   ],
   "source": [
    "df.head()"
   ]
  },
  {
   "cell_type": "code",
   "execution_count": 128,
   "metadata": {},
   "outputs": [
    {
     "data": {
      "text/html": [
       "<div>\n",
       "<style scoped>\n",
       "    .dataframe tbody tr th:only-of-type {\n",
       "        vertical-align: middle;\n",
       "    }\n",
       "\n",
       "    .dataframe tbody tr th {\n",
       "        vertical-align: top;\n",
       "    }\n",
       "\n",
       "    .dataframe thead th {\n",
       "        text-align: right;\n",
       "    }\n",
       "</style>\n",
       "<table border=\"1\" class=\"dataframe\">\n",
       "  <thead>\n",
       "    <tr style=\"text-align: right;\">\n",
       "      <th></th>\n",
       "      <th>파일명</th>\n",
       "      <th>cossim</th>\n",
       "      <th>ProductID</th>\n",
       "      <th>CategoryID</th>\n",
       "      <th>카테고리명</th>\n",
       "      <th>성구분</th>\n",
       "    </tr>\n",
       "  </thead>\n",
       "  <tbody>\n",
       "    <tr>\n",
       "      <th>0</th>\n",
       "      <td>C10100020002-L000000549595.png</td>\n",
       "      <td>0.30838029172372905</td>\n",
       "      <td>L000000549595</td>\n",
       "      <td>C10100020002</td>\n",
       "      <td>girl-Doll</td>\n",
       "      <td>girl</td>\n",
       "    </tr>\n",
       "    <tr>\n",
       "      <th>1</th>\n",
       "      <td>C10100030004-8809311140519.png</td>\n",
       "      <td>0.3774832204826477</td>\n",
       "      <td>8809311140519</td>\n",
       "      <td>C10100030004</td>\n",
       "      <td>boy-Car/Train</td>\n",
       "      <td>boy</td>\n",
       "    </tr>\n",
       "    <tr>\n",
       "      <th>2</th>\n",
       "      <td>C10100030004-8809285520850.png</td>\n",
       "      <td>-0.34374026732040036</td>\n",
       "      <td>8809285520850</td>\n",
       "      <td>C10100030004</td>\n",
       "      <td>boy-Car/Train</td>\n",
       "      <td>boy</td>\n",
       "    </tr>\n",
       "    <tr>\n",
       "      <th>3</th>\n",
       "      <td>C10100020003-L000000578099.png</td>\n",
       "      <td>0.26004839180984674</td>\n",
       "      <td>L000000578099</td>\n",
       "      <td>C10100020003</td>\n",
       "      <td>girl-Deco</td>\n",
       "      <td>girl</td>\n",
       "    </tr>\n",
       "    <tr>\n",
       "      <th>4</th>\n",
       "      <td>C10100020001-3032163105008.png</td>\n",
       "      <td>-0.5579422839012692</td>\n",
       "      <td>3032163105008</td>\n",
       "      <td>C10100020001</td>\n",
       "      <td>girl-RolePlay</td>\n",
       "      <td>girl</td>\n",
       "    </tr>\n",
       "  </tbody>\n",
       "</table>\n",
       "</div>"
      ],
      "text/plain": [
       "                              파일명                cossim      ProductID  \\\n",
       "0  C10100020002-L000000549595.png   0.30838029172372905  L000000549595   \n",
       "1  C10100030004-8809311140519.png    0.3774832204826477  8809311140519   \n",
       "2  C10100030004-8809285520850.png  -0.34374026732040036  8809285520850   \n",
       "3  C10100020003-L000000578099.png   0.26004839180984674  L000000578099   \n",
       "4  C10100020001-3032163105008.png   -0.5579422839012692  3032163105008   \n",
       "\n",
       "     CategoryID          카테고리명   성구분  \n",
       "0  C10100020002      girl-Doll  girl  \n",
       "1  C10100030004  boy-Car/Train   boy  \n",
       "2  C10100030004  boy-Car/Train   boy  \n",
       "3  C10100020003      girl-Deco  girl  \n",
       "4  C10100020001  girl-RolePlay  girl  "
      ]
     },
     "execution_count": 128,
     "metadata": {},
     "output_type": "execute_result"
    }
   ],
   "source": [
    "df['성구분'] = [n.split('-')[0] for n in df['카테고리명'].tolist()]\n",
    "df.head()"
   ]
  },
  {
   "cell_type": "code",
   "execution_count": 129,
   "metadata": {},
   "outputs": [],
   "source": [
    "df.to_csv('data/cossim_result_with_IDs_eng.csv', index=False)"
   ]
  },
  {
   "cell_type": "code",
   "execution_count": 130,
   "metadata": {},
   "outputs": [
    {
     "data": {
      "text/html": [
       "<div>\n",
       "<style scoped>\n",
       "    .dataframe tbody tr th:only-of-type {\n",
       "        vertical-align: middle;\n",
       "    }\n",
       "\n",
       "    .dataframe tbody tr th {\n",
       "        vertical-align: top;\n",
       "    }\n",
       "\n",
       "    .dataframe thead th {\n",
       "        text-align: right;\n",
       "    }\n",
       "</style>\n",
       "<table border=\"1\" class=\"dataframe\">\n",
       "  <thead>\n",
       "    <tr style=\"text-align: right;\">\n",
       "      <th></th>\n",
       "      <th>파일명</th>\n",
       "      <th>cossim</th>\n",
       "      <th>ProductID</th>\n",
       "      <th>CategoryID</th>\n",
       "      <th>카테고리명</th>\n",
       "      <th>성구분</th>\n",
       "    </tr>\n",
       "  </thead>\n",
       "  <tbody>\n",
       "    <tr>\n",
       "      <th>0</th>\n",
       "      <td>C10100020002-L000000549595.png</td>\n",
       "      <td>0.30838029172372905</td>\n",
       "      <td>L000000549595</td>\n",
       "      <td>C10100020002</td>\n",
       "      <td>girl-Doll</td>\n",
       "      <td>girl</td>\n",
       "    </tr>\n",
       "    <tr>\n",
       "      <th>1</th>\n",
       "      <td>C10100030004-8809311140519.png</td>\n",
       "      <td>0.3774832204826477</td>\n",
       "      <td>8809311140519</td>\n",
       "      <td>C10100030004</td>\n",
       "      <td>boy-Car/Train</td>\n",
       "      <td>boy</td>\n",
       "    </tr>\n",
       "    <tr>\n",
       "      <th>2</th>\n",
       "      <td>C10100030004-8809285520850.png</td>\n",
       "      <td>-0.34374026732040036</td>\n",
       "      <td>8809285520850</td>\n",
       "      <td>C10100030004</td>\n",
       "      <td>boy-Car/Train</td>\n",
       "      <td>boy</td>\n",
       "    </tr>\n",
       "    <tr>\n",
       "      <th>3</th>\n",
       "      <td>C10100020003-L000000578099.png</td>\n",
       "      <td>0.26004839180984674</td>\n",
       "      <td>L000000578099</td>\n",
       "      <td>C10100020003</td>\n",
       "      <td>girl-Deco</td>\n",
       "      <td>girl</td>\n",
       "    </tr>\n",
       "    <tr>\n",
       "      <th>4</th>\n",
       "      <td>C10100020001-3032163105008.png</td>\n",
       "      <td>-0.5579422839012692</td>\n",
       "      <td>3032163105008</td>\n",
       "      <td>C10100020001</td>\n",
       "      <td>girl-RolePlay</td>\n",
       "      <td>girl</td>\n",
       "    </tr>\n",
       "    <tr>\n",
       "      <th>5</th>\n",
       "      <td>C10100030005-8809258925262.png</td>\n",
       "      <td>0.22814667109435743</td>\n",
       "      <td>8809258925262</td>\n",
       "      <td>C10100030005</td>\n",
       "      <td>boy-Figure</td>\n",
       "      <td>boy</td>\n",
       "    </tr>\n",
       "    <tr>\n",
       "      <th>6</th>\n",
       "      <td>C10100020002-L000002760554.png</td>\n",
       "      <td>0.641644745426853</td>\n",
       "      <td>L000002760554</td>\n",
       "      <td>C10100020002</td>\n",
       "      <td>girl-Doll</td>\n",
       "      <td>girl</td>\n",
       "    </tr>\n",
       "    <tr>\n",
       "      <th>7</th>\n",
       "      <td>C10100030003-8809282303999.png</td>\n",
       "      <td>0.09389356202923496</td>\n",
       "      <td>8809282303999</td>\n",
       "      <td>C10100030003</td>\n",
       "      <td>boy-Control</td>\n",
       "      <td>boy</td>\n",
       "    </tr>\n",
       "    <tr>\n",
       "      <th>8</th>\n",
       "      <td>C10100030005-4549660121978.png</td>\n",
       "      <td>0.5246464303714282</td>\n",
       "      <td>4549660121978</td>\n",
       "      <td>C10100030005</td>\n",
       "      <td>boy-Figure</td>\n",
       "      <td>boy</td>\n",
       "    </tr>\n",
       "    <tr>\n",
       "      <th>9</th>\n",
       "      <td>C10100030002-L000000467780.png</td>\n",
       "      <td>0.5378601101271819</td>\n",
       "      <td>L000000467780</td>\n",
       "      <td>C10100030002</td>\n",
       "      <td>boy-Action</td>\n",
       "      <td>boy</td>\n",
       "    </tr>\n",
       "    <tr>\n",
       "      <th>10</th>\n",
       "      <td>C10100020001-8809182326807.png</td>\n",
       "      <td>0.4021732637809552</td>\n",
       "      <td>8809182326807</td>\n",
       "      <td>C10100020001</td>\n",
       "      <td>girl-RolePlay</td>\n",
       "      <td>girl</td>\n",
       "    </tr>\n",
       "    <tr>\n",
       "      <th>11</th>\n",
       "      <td>C10100030005-0053941191160.png</td>\n",
       "      <td>0.23393021677869025</td>\n",
       "      <td>0053941191160</td>\n",
       "      <td>C10100030005</td>\n",
       "      <td>boy-Figure</td>\n",
       "      <td>boy</td>\n",
       "    </tr>\n",
       "    <tr>\n",
       "      <th>12</th>\n",
       "      <td>C10100020002-L000000535156.png</td>\n",
       "      <td>0.2678146053917026</td>\n",
       "      <td>L000000535156</td>\n",
       "      <td>C10100020002</td>\n",
       "      <td>girl-Doll</td>\n",
       "      <td>girl</td>\n",
       "    </tr>\n",
       "    <tr>\n",
       "      <th>13</th>\n",
       "      <td>C10100020004-L000002669260.png</td>\n",
       "      <td>0.24994247436308561</td>\n",
       "      <td>L000002669260</td>\n",
       "      <td>C10100020004</td>\n",
       "      <td>girl-DIY</td>\n",
       "      <td>girl</td>\n",
       "    </tr>\n",
       "    <tr>\n",
       "      <th>14</th>\n",
       "      <td>C10100020002-L000001462780.png</td>\n",
       "      <td>0.4184783399550763</td>\n",
       "      <td>L000001462780</td>\n",
       "      <td>C10100020002</td>\n",
       "      <td>girl-Doll</td>\n",
       "      <td>girl</td>\n",
       "    </tr>\n",
       "    <tr>\n",
       "      <th>15</th>\n",
       "      <td>C10100020001-8809250482862.png</td>\n",
       "      <td>0.6297976258219118</td>\n",
       "      <td>8809250482862</td>\n",
       "      <td>C10100020001</td>\n",
       "      <td>girl-RolePlay</td>\n",
       "      <td>girl</td>\n",
       "    </tr>\n",
       "    <tr>\n",
       "      <th>16</th>\n",
       "      <td>C10100030001-8809482992214.png</td>\n",
       "      <td>0.037288181250757675</td>\n",
       "      <td>8809482992214</td>\n",
       "      <td>C10100030001</td>\n",
       "      <td>boy-RolePlay</td>\n",
       "      <td>boy</td>\n",
       "    </tr>\n",
       "    <tr>\n",
       "      <th>17</th>\n",
       "      <td>C10100020001-8809226728284.png</td>\n",
       "      <td>0.510969318374698</td>\n",
       "      <td>8809226728284</td>\n",
       "      <td>C10100020001</td>\n",
       "      <td>girl-RolePlay</td>\n",
       "      <td>girl</td>\n",
       "    </tr>\n",
       "    <tr>\n",
       "      <th>18</th>\n",
       "      <td>C10100030004-8809365533855.png</td>\n",
       "      <td>0.1484635229890113</td>\n",
       "      <td>8809365533855</td>\n",
       "      <td>C10100030004</td>\n",
       "      <td>boy-Car/Train</td>\n",
       "      <td>boy</td>\n",
       "    </tr>\n",
       "    <tr>\n",
       "      <th>19</th>\n",
       "      <td>C10100020002-L000001511643.png</td>\n",
       "      <td>0.5854254105399319</td>\n",
       "      <td>L000001511643</td>\n",
       "      <td>C10100020002</td>\n",
       "      <td>girl-Doll</td>\n",
       "      <td>girl</td>\n",
       "    </tr>\n",
       "    <tr>\n",
       "      <th>20</th>\n",
       "      <td>C10100020004-4904810883944.png</td>\n",
       "      <td>0.5035555091672916</td>\n",
       "      <td>4904810883944</td>\n",
       "      <td>C10100020004</td>\n",
       "      <td>girl-DIY</td>\n",
       "      <td>girl</td>\n",
       "    </tr>\n",
       "    <tr>\n",
       "      <th>21</th>\n",
       "      <td>C10100020001-L000002812160.png</td>\n",
       "      <td>0.4875425538727723</td>\n",
       "      <td>L000002812160</td>\n",
       "      <td>C10100020001</td>\n",
       "      <td>girl-RolePlay</td>\n",
       "      <td>girl</td>\n",
       "    </tr>\n",
       "    <tr>\n",
       "      <th>22</th>\n",
       "      <td>C10100020002-L000000518873.png</td>\n",
       "      <td>0.3651056957103842</td>\n",
       "      <td>L000000518873</td>\n",
       "      <td>C10100020002</td>\n",
       "      <td>girl-Doll</td>\n",
       "      <td>girl</td>\n",
       "    </tr>\n",
       "    <tr>\n",
       "      <th>23</th>\n",
       "      <td>C10100020002-L000002760576.png</td>\n",
       "      <td>0.5635713751477327</td>\n",
       "      <td>L000002760576</td>\n",
       "      <td>C10100020002</td>\n",
       "      <td>girl-Doll</td>\n",
       "      <td>girl</td>\n",
       "    </tr>\n",
       "    <tr>\n",
       "      <th>24</th>\n",
       "      <td>C10100020002-L000002760552.png</td>\n",
       "      <td>0.7000313609760073</td>\n",
       "      <td>L000002760552</td>\n",
       "      <td>C10100020002</td>\n",
       "      <td>girl-Doll</td>\n",
       "      <td>girl</td>\n",
       "    </tr>\n",
       "    <tr>\n",
       "      <th>25</th>\n",
       "      <td>C10100030001-L000001544304.png</td>\n",
       "      <td>0.3521282133084678</td>\n",
       "      <td>L000001544304</td>\n",
       "      <td>C10100030001</td>\n",
       "      <td>boy-RolePlay</td>\n",
       "      <td>boy</td>\n",
       "    </tr>\n",
       "    <tr>\n",
       "      <th>26</th>\n",
       "      <td>C10100030005-4543112894328.png</td>\n",
       "      <td>-0.20372966005781487</td>\n",
       "      <td>4543112894328</td>\n",
       "      <td>C10100030005</td>\n",
       "      <td>boy-Figure</td>\n",
       "      <td>boy</td>\n",
       "    </tr>\n",
       "    <tr>\n",
       "      <th>27</th>\n",
       "      <td>C10100020004-4905040791191.png</td>\n",
       "      <td>-0.15047691115267334</td>\n",
       "      <td>4905040791191</td>\n",
       "      <td>C10100020004</td>\n",
       "      <td>girl-DIY</td>\n",
       "      <td>girl</td>\n",
       "    </tr>\n",
       "    <tr>\n",
       "      <th>28</th>\n",
       "      <td>C10100020004-L000002628995.png</td>\n",
       "      <td>-0.1094846131995816</td>\n",
       "      <td>L000002628995</td>\n",
       "      <td>C10100020004</td>\n",
       "      <td>girl-DIY</td>\n",
       "      <td>girl</td>\n",
       "    </tr>\n",
       "    <tr>\n",
       "      <th>29</th>\n",
       "      <td>C10100020001-8809182326784.png</td>\n",
       "      <td>0.5962958292488014</td>\n",
       "      <td>8809182326784</td>\n",
       "      <td>C10100020001</td>\n",
       "      <td>girl-RolePlay</td>\n",
       "      <td>girl</td>\n",
       "    </tr>\n",
       "    <tr>\n",
       "      <th>...</th>\n",
       "      <td>...</td>\n",
       "      <td>...</td>\n",
       "      <td>...</td>\n",
       "      <td>...</td>\n",
       "      <td>...</td>\n",
       "      <td>...</td>\n",
       "    </tr>\n",
       "    <tr>\n",
       "      <th>4310</th>\n",
       "      <td>C10100020002-8809121094903.png</td>\n",
       "      <td>0.8505361335847063</td>\n",
       "      <td>8809121094903</td>\n",
       "      <td>C10100020002</td>\n",
       "      <td>girl-Doll</td>\n",
       "      <td>girl</td>\n",
       "    </tr>\n",
       "    <tr>\n",
       "      <th>4311</th>\n",
       "      <td>C10100020002-8801198082319.png</td>\n",
       "      <td>0.5061736479300821</td>\n",
       "      <td>8801198082319</td>\n",
       "      <td>C10100020002</td>\n",
       "      <td>girl-Doll</td>\n",
       "      <td>girl</td>\n",
       "    </tr>\n",
       "    <tr>\n",
       "      <th>4312</th>\n",
       "      <td>C10100030005-4549660167426.png</td>\n",
       "      <td>0.4459113184162243</td>\n",
       "      <td>4549660167426</td>\n",
       "      <td>C10100030005</td>\n",
       "      <td>boy-Figure</td>\n",
       "      <td>boy</td>\n",
       "    </tr>\n",
       "    <tr>\n",
       "      <th>4313</th>\n",
       "      <td>C10100020002-L000001515944.png</td>\n",
       "      <td>0.1485985083454332</td>\n",
       "      <td>L000001515944</td>\n",
       "      <td>C10100020002</td>\n",
       "      <td>girl-Doll</td>\n",
       "      <td>girl</td>\n",
       "    </tr>\n",
       "    <tr>\n",
       "      <th>4314</th>\n",
       "      <td>C10100030005-8809354060461.png</td>\n",
       "      <td>0.33187384617063126</td>\n",
       "      <td>8809354060461</td>\n",
       "      <td>C10100030005</td>\n",
       "      <td>boy-Figure</td>\n",
       "      <td>boy</td>\n",
       "    </tr>\n",
       "    <tr>\n",
       "      <th>4315</th>\n",
       "      <td>C10100030002-8809073338025.png</td>\n",
       "      <td>0.1482055708400818</td>\n",
       "      <td>8809073338025</td>\n",
       "      <td>C10100030002</td>\n",
       "      <td>boy-Action</td>\n",
       "      <td>boy</td>\n",
       "    </tr>\n",
       "    <tr>\n",
       "      <th>4316</th>\n",
       "      <td>C10100020002-8809121094583.png</td>\n",
       "      <td>0.523930386512971</td>\n",
       "      <td>8809121094583</td>\n",
       "      <td>C10100020002</td>\n",
       "      <td>girl-Doll</td>\n",
       "      <td>girl</td>\n",
       "    </tr>\n",
       "    <tr>\n",
       "      <th>4317</th>\n",
       "      <td>C10100020002-L000000540026.png</td>\n",
       "      <td>-0.024082173832332528</td>\n",
       "      <td>L000000540026</td>\n",
       "      <td>C10100020002</td>\n",
       "      <td>girl-Doll</td>\n",
       "      <td>girl</td>\n",
       "    </tr>\n",
       "    <tr>\n",
       "      <th>4318</th>\n",
       "      <td>C10100030002-0630509686445.png</td>\n",
       "      <td>0.16822120858670836</td>\n",
       "      <td>0630509686445</td>\n",
       "      <td>C10100030002</td>\n",
       "      <td>boy-Action</td>\n",
       "      <td>boy</td>\n",
       "    </tr>\n",
       "    <tr>\n",
       "      <th>4319</th>\n",
       "      <td>C10100020001-8801198061918.png</td>\n",
       "      <td>0.28395347682454397</td>\n",
       "      <td>8801198061918</td>\n",
       "      <td>C10100020001</td>\n",
       "      <td>girl-RolePlay</td>\n",
       "      <td>girl</td>\n",
       "    </tr>\n",
       "    <tr>\n",
       "      <th>4320</th>\n",
       "      <td>C10100030003-8809245342027.png</td>\n",
       "      <td>0.32604691829884985</td>\n",
       "      <td>8809245342027</td>\n",
       "      <td>C10100030003</td>\n",
       "      <td>boy-Control</td>\n",
       "      <td>boy</td>\n",
       "    </tr>\n",
       "    <tr>\n",
       "      <th>4321</th>\n",
       "      <td>C10100020002-8801198061949.png</td>\n",
       "      <td>0.21517252501062967</td>\n",
       "      <td>8801198061949</td>\n",
       "      <td>C10100020002</td>\n",
       "      <td>girl-Doll</td>\n",
       "      <td>girl</td>\n",
       "    </tr>\n",
       "    <tr>\n",
       "      <th>4322</th>\n",
       "      <td>C10100020002-L000002657810.png</td>\n",
       "      <td>0.7645523276163098</td>\n",
       "      <td>L000002657810</td>\n",
       "      <td>C10100020002</td>\n",
       "      <td>girl-Doll</td>\n",
       "      <td>girl</td>\n",
       "    </tr>\n",
       "    <tr>\n",
       "      <th>4323</th>\n",
       "      <td>C10100030001-0653569907015.png</td>\n",
       "      <td>0.10580167522788184</td>\n",
       "      <td>0653569907015</td>\n",
       "      <td>C10100030001</td>\n",
       "      <td>boy-RolePlay</td>\n",
       "      <td>boy</td>\n",
       "    </tr>\n",
       "    <tr>\n",
       "      <th>4324</th>\n",
       "      <td>C10100020001-8804275375298.png</td>\n",
       "      <td>0.807993884317145</td>\n",
       "      <td>8804275375298</td>\n",
       "      <td>C10100020001</td>\n",
       "      <td>girl-RolePlay</td>\n",
       "      <td>girl</td>\n",
       "    </tr>\n",
       "    <tr>\n",
       "      <th>4325</th>\n",
       "      <td>C10100030004-8809482993341.png</td>\n",
       "      <td>-0.029257952948717383</td>\n",
       "      <td>8809482993341</td>\n",
       "      <td>C10100030004</td>\n",
       "      <td>boy-Car/Train</td>\n",
       "      <td>boy</td>\n",
       "    </tr>\n",
       "    <tr>\n",
       "      <th>4326</th>\n",
       "      <td>C10100020003-8809526490492.png</td>\n",
       "      <td>0.3856650216554809</td>\n",
       "      <td>8809526490492</td>\n",
       "      <td>C10100020003</td>\n",
       "      <td>girl-Deco</td>\n",
       "      <td>girl</td>\n",
       "    </tr>\n",
       "    <tr>\n",
       "      <th>4327</th>\n",
       "      <td>C10100020001-L000000578093.png</td>\n",
       "      <td>0.41229321971458127</td>\n",
       "      <td>L000000578093</td>\n",
       "      <td>C10100020001</td>\n",
       "      <td>girl-RolePlay</td>\n",
       "      <td>girl</td>\n",
       "    </tr>\n",
       "    <tr>\n",
       "      <th>4328</th>\n",
       "      <td>C10100030005-4549660197553.png</td>\n",
       "      <td>0.33170059897273424</td>\n",
       "      <td>4549660197553</td>\n",
       "      <td>C10100030005</td>\n",
       "      <td>boy-Figure</td>\n",
       "      <td>boy</td>\n",
       "    </tr>\n",
       "    <tr>\n",
       "      <th>4329</th>\n",
       "      <td>C10100030003-8809194423266.png</td>\n",
       "      <td>-0.18391994578986473</td>\n",
       "      <td>8809194423266</td>\n",
       "      <td>C10100030003</td>\n",
       "      <td>boy-Control</td>\n",
       "      <td>boy</td>\n",
       "    </tr>\n",
       "    <tr>\n",
       "      <th>4330</th>\n",
       "      <td>C10100020004-8801198082456.png</td>\n",
       "      <td>0.11742833522605182</td>\n",
       "      <td>8801198082456</td>\n",
       "      <td>C10100020004</td>\n",
       "      <td>girl-DIY</td>\n",
       "      <td>girl</td>\n",
       "    </tr>\n",
       "    <tr>\n",
       "      <th>4331</th>\n",
       "      <td>C10100020003-8809517410904.png</td>\n",
       "      <td>0.42621612450033747</td>\n",
       "      <td>8809517410904</td>\n",
       "      <td>C10100020003</td>\n",
       "      <td>girl-Deco</td>\n",
       "      <td>girl</td>\n",
       "    </tr>\n",
       "    <tr>\n",
       "      <th>4332</th>\n",
       "      <td>C10100020002-8809482993068.png</td>\n",
       "      <td>0.28397472099421783</td>\n",
       "      <td>8809482993068</td>\n",
       "      <td>C10100020002</td>\n",
       "      <td>girl-Doll</td>\n",
       "      <td>girl</td>\n",
       "    </tr>\n",
       "    <tr>\n",
       "      <th>4333</th>\n",
       "      <td>C10100020002-8809223826136.png</td>\n",
       "      <td>-0.12646763159108537</td>\n",
       "      <td>8809223826136</td>\n",
       "      <td>C10100020002</td>\n",
       "      <td>girl-Doll</td>\n",
       "      <td>girl</td>\n",
       "    </tr>\n",
       "    <tr>\n",
       "      <th>4334</th>\n",
       "      <td>C10100020003-8801198061505.png</td>\n",
       "      <td>0.43542074878022496</td>\n",
       "      <td>8801198061505</td>\n",
       "      <td>C10100020003</td>\n",
       "      <td>girl-Deco</td>\n",
       "      <td>girl</td>\n",
       "    </tr>\n",
       "    <tr>\n",
       "      <th>4335</th>\n",
       "      <td>C10100020001-L000002676660.png</td>\n",
       "      <td>0.3327894635563336</td>\n",
       "      <td>L000002676660</td>\n",
       "      <td>C10100020001</td>\n",
       "      <td>girl-RolePlay</td>\n",
       "      <td>girl</td>\n",
       "    </tr>\n",
       "    <tr>\n",
       "      <th>4336</th>\n",
       "      <td>C10100030002-4891813833604.png</td>\n",
       "      <td>0.22026674579945393</td>\n",
       "      <td>4891813833604</td>\n",
       "      <td>C10100030002</td>\n",
       "      <td>boy-Action</td>\n",
       "      <td>boy</td>\n",
       "    </tr>\n",
       "    <tr>\n",
       "      <th>4337</th>\n",
       "      <td>C10100020002-L000001477479.png</td>\n",
       "      <td>0.37123125530059126</td>\n",
       "      <td>L000001477479</td>\n",
       "      <td>C10100020002</td>\n",
       "      <td>girl-Doll</td>\n",
       "      <td>girl</td>\n",
       "    </tr>\n",
       "    <tr>\n",
       "      <th>4338</th>\n",
       "      <td>C10100020004-8804275157108.png</td>\n",
       "      <td>0.3026910760161374</td>\n",
       "      <td>8804275157108</td>\n",
       "      <td>C10100020004</td>\n",
       "      <td>girl-DIY</td>\n",
       "      <td>girl</td>\n",
       "    </tr>\n",
       "    <tr>\n",
       "      <th>4339</th>\n",
       "      <td>C10100020001-L000000538877.png</td>\n",
       "      <td>0.7149547096698903</td>\n",
       "      <td>L000000538877</td>\n",
       "      <td>C10100020001</td>\n",
       "      <td>girl-RolePlay</td>\n",
       "      <td>girl</td>\n",
       "    </tr>\n",
       "  </tbody>\n",
       "</table>\n",
       "<p>4305 rows × 6 columns</p>\n",
       "</div>"
      ],
      "text/plain": [
       "                                 파일명                 cossim      ProductID  \\\n",
       "0     C10100020002-L000000549595.png    0.30838029172372905  L000000549595   \n",
       "1     C10100030004-8809311140519.png     0.3774832204826477  8809311140519   \n",
       "2     C10100030004-8809285520850.png   -0.34374026732040036  8809285520850   \n",
       "3     C10100020003-L000000578099.png    0.26004839180984674  L000000578099   \n",
       "4     C10100020001-3032163105008.png    -0.5579422839012692  3032163105008   \n",
       "5     C10100030005-8809258925262.png    0.22814667109435743  8809258925262   \n",
       "6     C10100020002-L000002760554.png      0.641644745426853  L000002760554   \n",
       "7     C10100030003-8809282303999.png    0.09389356202923496  8809282303999   \n",
       "8     C10100030005-4549660121978.png     0.5246464303714282  4549660121978   \n",
       "9     C10100030002-L000000467780.png     0.5378601101271819  L000000467780   \n",
       "10    C10100020001-8809182326807.png     0.4021732637809552  8809182326807   \n",
       "11    C10100030005-0053941191160.png    0.23393021677869025  0053941191160   \n",
       "12    C10100020002-L000000535156.png     0.2678146053917026  L000000535156   \n",
       "13    C10100020004-L000002669260.png    0.24994247436308561  L000002669260   \n",
       "14    C10100020002-L000001462780.png     0.4184783399550763  L000001462780   \n",
       "15    C10100020001-8809250482862.png     0.6297976258219118  8809250482862   \n",
       "16    C10100030001-8809482992214.png   0.037288181250757675  8809482992214   \n",
       "17    C10100020001-8809226728284.png      0.510969318374698  8809226728284   \n",
       "18    C10100030004-8809365533855.png     0.1484635229890113  8809365533855   \n",
       "19    C10100020002-L000001511643.png     0.5854254105399319  L000001511643   \n",
       "20    C10100020004-4904810883944.png     0.5035555091672916  4904810883944   \n",
       "21    C10100020001-L000002812160.png     0.4875425538727723  L000002812160   \n",
       "22    C10100020002-L000000518873.png     0.3651056957103842  L000000518873   \n",
       "23    C10100020002-L000002760576.png     0.5635713751477327  L000002760576   \n",
       "24    C10100020002-L000002760552.png     0.7000313609760073  L000002760552   \n",
       "25    C10100030001-L000001544304.png     0.3521282133084678  L000001544304   \n",
       "26    C10100030005-4543112894328.png   -0.20372966005781487  4543112894328   \n",
       "27    C10100020004-4905040791191.png   -0.15047691115267334  4905040791191   \n",
       "28    C10100020004-L000002628995.png    -0.1094846131995816  L000002628995   \n",
       "29    C10100020001-8809182326784.png     0.5962958292488014  8809182326784   \n",
       "...                              ...                    ...            ...   \n",
       "4310  C10100020002-8809121094903.png     0.8505361335847063  8809121094903   \n",
       "4311  C10100020002-8801198082319.png     0.5061736479300821  8801198082319   \n",
       "4312  C10100030005-4549660167426.png     0.4459113184162243  4549660167426   \n",
       "4313  C10100020002-L000001515944.png     0.1485985083454332  L000001515944   \n",
       "4314  C10100030005-8809354060461.png    0.33187384617063126  8809354060461   \n",
       "4315  C10100030002-8809073338025.png     0.1482055708400818  8809073338025   \n",
       "4316  C10100020002-8809121094583.png      0.523930386512971  8809121094583   \n",
       "4317  C10100020002-L000000540026.png  -0.024082173832332528  L000000540026   \n",
       "4318  C10100030002-0630509686445.png    0.16822120858670836  0630509686445   \n",
       "4319  C10100020001-8801198061918.png    0.28395347682454397  8801198061918   \n",
       "4320  C10100030003-8809245342027.png    0.32604691829884985  8809245342027   \n",
       "4321  C10100020002-8801198061949.png    0.21517252501062967  8801198061949   \n",
       "4322  C10100020002-L000002657810.png     0.7645523276163098  L000002657810   \n",
       "4323  C10100030001-0653569907015.png    0.10580167522788184  0653569907015   \n",
       "4324  C10100020001-8804275375298.png      0.807993884317145  8804275375298   \n",
       "4325  C10100030004-8809482993341.png  -0.029257952948717383  8809482993341   \n",
       "4326  C10100020003-8809526490492.png     0.3856650216554809  8809526490492   \n",
       "4327  C10100020001-L000000578093.png    0.41229321971458127  L000000578093   \n",
       "4328  C10100030005-4549660197553.png    0.33170059897273424  4549660197553   \n",
       "4329  C10100030003-8809194423266.png   -0.18391994578986473  8809194423266   \n",
       "4330  C10100020004-8801198082456.png    0.11742833522605182  8801198082456   \n",
       "4331  C10100020003-8809517410904.png    0.42621612450033747  8809517410904   \n",
       "4332  C10100020002-8809482993068.png    0.28397472099421783  8809482993068   \n",
       "4333  C10100020002-8809223826136.png   -0.12646763159108537  8809223826136   \n",
       "4334  C10100020003-8801198061505.png    0.43542074878022496  8801198061505   \n",
       "4335  C10100020001-L000002676660.png     0.3327894635563336  L000002676660   \n",
       "4336  C10100030002-4891813833604.png    0.22026674579945393  4891813833604   \n",
       "4337  C10100020002-L000001477479.png    0.37123125530059126  L000001477479   \n",
       "4338  C10100020004-8804275157108.png     0.3026910760161374  8804275157108   \n",
       "4339  C10100020001-L000000538877.png     0.7149547096698903  L000000538877   \n",
       "\n",
       "        CategoryID          카테고리명   성구분  \n",
       "0     C10100020002      girl-Doll  girl  \n",
       "1     C10100030004  boy-Car/Train   boy  \n",
       "2     C10100030004  boy-Car/Train   boy  \n",
       "3     C10100020003      girl-Deco  girl  \n",
       "4     C10100020001  girl-RolePlay  girl  \n",
       "5     C10100030005     boy-Figure   boy  \n",
       "6     C10100020002      girl-Doll  girl  \n",
       "7     C10100030003    boy-Control   boy  \n",
       "8     C10100030005     boy-Figure   boy  \n",
       "9     C10100030002     boy-Action   boy  \n",
       "10    C10100020001  girl-RolePlay  girl  \n",
       "11    C10100030005     boy-Figure   boy  \n",
       "12    C10100020002      girl-Doll  girl  \n",
       "13    C10100020004       girl-DIY  girl  \n",
       "14    C10100020002      girl-Doll  girl  \n",
       "15    C10100020001  girl-RolePlay  girl  \n",
       "16    C10100030001   boy-RolePlay   boy  \n",
       "17    C10100020001  girl-RolePlay  girl  \n",
       "18    C10100030004  boy-Car/Train   boy  \n",
       "19    C10100020002      girl-Doll  girl  \n",
       "20    C10100020004       girl-DIY  girl  \n",
       "21    C10100020001  girl-RolePlay  girl  \n",
       "22    C10100020002      girl-Doll  girl  \n",
       "23    C10100020002      girl-Doll  girl  \n",
       "24    C10100020002      girl-Doll  girl  \n",
       "25    C10100030001   boy-RolePlay   boy  \n",
       "26    C10100030005     boy-Figure   boy  \n",
       "27    C10100020004       girl-DIY  girl  \n",
       "28    C10100020004       girl-DIY  girl  \n",
       "29    C10100020001  girl-RolePlay  girl  \n",
       "...            ...            ...   ...  \n",
       "4310  C10100020002      girl-Doll  girl  \n",
       "4311  C10100020002      girl-Doll  girl  \n",
       "4312  C10100030005     boy-Figure   boy  \n",
       "4313  C10100020002      girl-Doll  girl  \n",
       "4314  C10100030005     boy-Figure   boy  \n",
       "4315  C10100030002     boy-Action   boy  \n",
       "4316  C10100020002      girl-Doll  girl  \n",
       "4317  C10100020002      girl-Doll  girl  \n",
       "4318  C10100030002     boy-Action   boy  \n",
       "4319  C10100020001  girl-RolePlay  girl  \n",
       "4320  C10100030003    boy-Control   boy  \n",
       "4321  C10100020002      girl-Doll  girl  \n",
       "4322  C10100020002      girl-Doll  girl  \n",
       "4323  C10100030001   boy-RolePlay   boy  \n",
       "4324  C10100020001  girl-RolePlay  girl  \n",
       "4325  C10100030004  boy-Car/Train   boy  \n",
       "4326  C10100020003      girl-Deco  girl  \n",
       "4327  C10100020001  girl-RolePlay  girl  \n",
       "4328  C10100030005     boy-Figure   boy  \n",
       "4329  C10100030003    boy-Control   boy  \n",
       "4330  C10100020004       girl-DIY  girl  \n",
       "4331  C10100020003      girl-Deco  girl  \n",
       "4332  C10100020002      girl-Doll  girl  \n",
       "4333  C10100020002      girl-Doll  girl  \n",
       "4334  C10100020003      girl-Deco  girl  \n",
       "4335  C10100020001  girl-RolePlay  girl  \n",
       "4336  C10100030002     boy-Action   boy  \n",
       "4337  C10100020002      girl-Doll  girl  \n",
       "4338  C10100020004       girl-DIY  girl  \n",
       "4339  C10100020001  girl-RolePlay  girl  \n",
       "\n",
       "[4305 rows x 6 columns]"
      ]
     },
     "execution_count": 130,
     "metadata": {},
     "output_type": "execute_result"
    }
   ],
   "source": [
    "df2 = df[df.cossim != 'Error']\n",
    "df2 = df2[df2.cossim != 'Error2']\n",
    "df2"
   ]
  },
  {
   "cell_type": "code",
   "execution_count": 131,
   "metadata": {},
   "outputs": [
    {
     "data": {
      "text/plain": [
       "0.9856330825025118"
      ]
     },
     "execution_count": 131,
     "metadata": {},
     "output_type": "execute_result"
    }
   ],
   "source": [
    "df2['cossim'] = df2['cossim'].astype('float64')\n",
    "df2['cossim'].max()"
   ]
  },
  {
   "cell_type": "code",
   "execution_count": 132,
   "metadata": {},
   "outputs": [
    {
     "data": {
      "text/plain": [
       "count    4305.000000\n",
       "mean        0.257864\n",
       "std         0.296465\n",
       "min        -0.987428\n",
       "25%         0.071640\n",
       "50%         0.278260\n",
       "75%         0.462642\n",
       "max         0.985633\n",
       "Name: cossim, dtype: float64"
      ]
     },
     "execution_count": 132,
     "metadata": {},
     "output_type": "execute_result"
    }
   ],
   "source": [
    "df2['cossim'].describe()"
   ]
  },
  {
   "cell_type": "code",
   "execution_count": 134,
   "metadata": {},
   "outputs": [
    {
     "data": {
      "text/plain": [
       "count    2436.000000\n",
       "mean        0.321193\n",
       "std         0.297797\n",
       "min        -0.987428\n",
       "25%         0.155084\n",
       "50%         0.343190\n",
       "75%         0.521737\n",
       "max         0.985633\n",
       "Name: cossim, dtype: float64"
      ]
     },
     "execution_count": 134,
     "metadata": {},
     "output_type": "execute_result"
    }
   ],
   "source": [
    "df2[df2.성구분 == 'girl']['cossim'].describe()"
   ]
  },
  {
   "cell_type": "code",
   "execution_count": 135,
   "metadata": {},
   "outputs": [
    {
     "data": {
      "text/plain": [
       "count    1869.000000\n",
       "mean        0.175323\n",
       "std         0.273606\n",
       "min        -0.714828\n",
       "25%        -0.013385\n",
       "50%         0.188229\n",
       "75%         0.372250\n",
       "max         0.840778\n",
       "Name: cossim, dtype: float64"
      ]
     },
     "execution_count": 135,
     "metadata": {},
     "output_type": "execute_result"
    }
   ],
   "source": [
    "df2[df2.성구분 == 'boy']['cossim'].describe()"
   ]
  },
  {
   "cell_type": "code",
   "execution_count": 179,
   "metadata": {},
   "outputs": [
    {
     "data": {
      "text/html": [
       "<div>\n",
       "<style scoped>\n",
       "    .dataframe tbody tr th:only-of-type {\n",
       "        vertical-align: middle;\n",
       "    }\n",
       "\n",
       "    .dataframe tbody tr th {\n",
       "        vertical-align: top;\n",
       "    }\n",
       "\n",
       "    .dataframe thead th {\n",
       "        text-align: right;\n",
       "    }\n",
       "</style>\n",
       "<table border=\"1\" class=\"dataframe\">\n",
       "  <thead>\n",
       "    <tr style=\"text-align: right;\">\n",
       "      <th></th>\n",
       "      <th>파일명</th>\n",
       "      <th>cossim</th>\n",
       "      <th>ProductID</th>\n",
       "      <th>CategoryID</th>\n",
       "      <th>카테고리명</th>\n",
       "      <th>성구분</th>\n",
       "    </tr>\n",
       "  </thead>\n",
       "  <tbody>\n",
       "    <tr>\n",
       "      <th>0</th>\n",
       "      <td>C10100020002-L000000549595.png</td>\n",
       "      <td>0.308380</td>\n",
       "      <td>L000000549595</td>\n",
       "      <td>C10100020002</td>\n",
       "      <td>girl-Doll</td>\n",
       "      <td>girl</td>\n",
       "    </tr>\n",
       "    <tr>\n",
       "      <th>3</th>\n",
       "      <td>C10100020003-L000000578099.png</td>\n",
       "      <td>0.260048</td>\n",
       "      <td>L000000578099</td>\n",
       "      <td>C10100020003</td>\n",
       "      <td>girl-Deco</td>\n",
       "      <td>girl</td>\n",
       "    </tr>\n",
       "    <tr>\n",
       "      <th>4</th>\n",
       "      <td>C10100020001-3032163105008.png</td>\n",
       "      <td>-0.557942</td>\n",
       "      <td>3032163105008</td>\n",
       "      <td>C10100020001</td>\n",
       "      <td>girl-RolePlay</td>\n",
       "      <td>girl</td>\n",
       "    </tr>\n",
       "    <tr>\n",
       "      <th>6</th>\n",
       "      <td>C10100020002-L000002760554.png</td>\n",
       "      <td>0.641645</td>\n",
       "      <td>L000002760554</td>\n",
       "      <td>C10100020002</td>\n",
       "      <td>girl-Doll</td>\n",
       "      <td>girl</td>\n",
       "    </tr>\n",
       "    <tr>\n",
       "      <th>10</th>\n",
       "      <td>C10100020001-8809182326807.png</td>\n",
       "      <td>0.402173</td>\n",
       "      <td>8809182326807</td>\n",
       "      <td>C10100020001</td>\n",
       "      <td>girl-RolePlay</td>\n",
       "      <td>girl</td>\n",
       "    </tr>\n",
       "  </tbody>\n",
       "</table>\n",
       "</div>"
      ],
      "text/plain": [
       "                               파일명    cossim      ProductID    CategoryID  \\\n",
       "0   C10100020002-L000000549595.png  0.308380  L000000549595  C10100020002   \n",
       "3   C10100020003-L000000578099.png  0.260048  L000000578099  C10100020003   \n",
       "4   C10100020001-3032163105008.png -0.557942  3032163105008  C10100020001   \n",
       "6   C10100020002-L000002760554.png  0.641645  L000002760554  C10100020002   \n",
       "10  C10100020001-8809182326807.png  0.402173  8809182326807  C10100020001   \n",
       "\n",
       "            카테고리명   성구분  \n",
       "0       girl-Doll  girl  \n",
       "3       girl-Deco  girl  \n",
       "4   girl-RolePlay  girl  \n",
       "6       girl-Doll  girl  \n",
       "10  girl-RolePlay  girl  "
      ]
     },
     "execution_count": 179,
     "metadata": {},
     "output_type": "execute_result"
    }
   ],
   "source": [
    "df_girls.head()"
   ]
  },
  {
   "cell_type": "code",
   "execution_count": 189,
   "metadata": {},
   "outputs": [
    {
     "name": "stdout",
     "output_type": "stream",
     "text": [
      "\n",
      "카테고리명 : girl-RolePlay\n",
      "평균 : 0.3336542544324178\n",
      "분산 : 0.26672937494714855\n",
      "최소 : -0.56370700526881\n",
      "최대 : 0.8549061596552157\n",
      "\n",
      "--------------------\n",
      "\n",
      "카테고리명 : girl-Doll\n",
      "평균 : 0.316429871269877\n",
      "분산 : 0.29916052199161053\n",
      "최소 : -0.852873336423393\n",
      "최대 : 0.9856330825025118\n",
      "\n",
      "--------------------\n",
      "\n",
      "카테고리명 : girl-Deco\n",
      "평균 : 0.4149441264122056\n",
      "분산 : 0.31452918837075583\n",
      "최소 : -0.7866059799406425\n",
      "최대 : 0.9444158313609993\n",
      "\n",
      "--------------------\n",
      "\n",
      "카테고리명 : girl-DIY\n",
      "평균 : 0.2463598849271239\n",
      "분산 : 0.283002976635975\n",
      "최소 : -0.9874275616582838\n",
      "최대 : 0.9617439850226983\n",
      "\n",
      "--------------------\n",
      "\n",
      "카테고리명 : boy-RolePlay\n",
      "평균 : 0.11770270200115326\n",
      "분산 : 0.24168256926599618\n",
      "최소 : -0.5593221988340066\n",
      "최대 : 0.7396583659622211\n",
      "\n",
      "--------------------\n",
      "\n",
      "카테고리명 : boy-Action\n",
      "평균 : 0.1827613424520017\n",
      "분산 : 0.2708855999942331\n",
      "최소 : -0.6793156581747347\n",
      "최대 : 0.8034961480318831\n",
      "\n",
      "--------------------\n",
      "\n",
      "카테고리명 : boy-Control\n",
      "평균 : 0.21924060815584473\n",
      "분산 : 0.2924472285470771\n",
      "최소 : -0.6815075350298601\n",
      "최대 : 0.8407779069854971\n",
      "\n",
      "--------------------\n",
      "\n",
      "카테고리명 : boy-Car/Train\n",
      "평균 : 0.17690277619762124\n",
      "분산 : 0.2827901530619583\n",
      "최소 : -0.6478801927402964\n",
      "최대 : 0.8125538909608991\n",
      "\n",
      "--------------------\n",
      "\n",
      "카테고리명 : boy-Figure\n",
      "평균 : 0.17506792158877854\n",
      "분산 : 0.26891836359216614\n",
      "최소 : -0.7148276952221668\n",
      "최대 : 0.811229128966991\n",
      "\n",
      "--------------------\n"
     ]
    }
   ],
   "source": [
    "for name in names:\n",
    "    if name == '.ipynb_checkpoints':\n",
    "        continue\n",
    "    d = df2[df2['카테고리명'] == name]['cossim'].describe()\n",
    "    print(f'\\n카테고리명 : {name}\\n평균 : {d[1]}\\n분산 : {d[2]}\\n최소 : {d[3]}\\n최대 : {d[-1]}\\n')\n",
    "    print('-' * 20)"
   ]
  },
  {
   "cell_type": "code",
   "execution_count": 185,
   "metadata": {},
   "outputs": [
    {
     "name": "stderr",
     "output_type": "stream",
     "text": [
      "/opt/conda/lib/python3.6/site-packages/ipykernel_launcher.py:1: UserWarning: Boolean Series key will be reindexed to match DataFrame index.\n",
      "  \"\"\"Entry point for launching an IPython kernel.\n"
     ]
    },
    {
     "data": {
      "text/plain": [
       "count    1453.000000\n",
       "mean        0.316430\n",
       "std         0.299161\n",
       "min        -0.852873\n",
       "25%         0.163607\n",
       "50%         0.338394\n",
       "75%         0.514735\n",
       "max         0.985633\n",
       "Name: cossim, dtype: float64"
      ]
     },
     "execution_count": 185,
     "metadata": {},
     "output_type": "execute_result"
    }
   ],
   "source": [
    "df_girls[df.카테고리명 == 'girl-Doll']['cossim'].describe()"
   ]
  },
  {
   "cell_type": "code",
   "execution_count": 187,
   "metadata": {},
   "outputs": [
    {
     "name": "stderr",
     "output_type": "stream",
     "text": [
      "/opt/conda/lib/python3.6/site-packages/ipykernel_launcher.py:1: UserWarning: Boolean Series key will be reindexed to match DataFrame index.\n",
      "  \"\"\"Entry point for launching an IPython kernel.\n"
     ]
    },
    {
     "data": {
      "text/plain": [
       "0.9856330825025118"
      ]
     },
     "execution_count": 187,
     "metadata": {},
     "output_type": "execute_result"
    }
   ],
   "source": [
    "df_girls[df.카테고리명 == 'girl-Doll']['cossim'].describe()[-1]"
   ]
  },
  {
   "cell_type": "code",
   "execution_count": 161,
   "metadata": {},
   "outputs": [],
   "source": [
    "sns.set(style=\"ticks\", color_codes=True, rc={'figure.figsize':(40,30)})"
   ]
  },
  {
   "cell_type": "code",
   "execution_count": 162,
   "metadata": {},
   "outputs": [
    {
     "data": {
      "text/plain": [
       "<seaborn.axisgrid.FacetGrid at 0x7f7cd2dd40f0>"
      ]
     },
     "execution_count": 162,
     "metadata": {},
     "output_type": "execute_result"
    },
    {
     "data": {
      "image/png": "[encoded data removed]",
      "text/plain": [
       "<Figure size 360x360 with 1 Axes>"
      ]
     },
     "metadata": {},
     "output_type": "display_data"
    }
   ],
   "source": [
    "# 파란색이 여아, 주황색이 남아\n",
    "sns.catplot(x=\"성구분\", y=\"cossim\", data=df2, kind='violin')"
   ]
  },
  {
   "cell_type": "code",
   "execution_count": 138,
   "metadata": {},
   "outputs": [],
   "source": [
    "df_girls = df2[df2.성구분 == 'girl']"
   ]
  },
  {
   "cell_type": "code",
   "execution_count": 146,
   "metadata": {},
   "outputs": [
    {
     "data": {
      "text/plain": [
       "[girl-Doll, girl-Deco, girl-RolePlay, girl-DIY]\n",
       "Categories (4, object): [girl-Doll, girl-Deco, girl-RolePlay, girl-DIY]"
      ]
     },
     "execution_count": 146,
     "metadata": {},
     "output_type": "execute_result"
    }
   ],
   "source": [
    "df_girls['카테고리명'].unique()"
   ]
  },
  {
   "cell_type": "code",
   "execution_count": 148,
   "metadata": {},
   "outputs": [],
   "source": [
    "g_categ = ['girl-RolePlay', 'girl-Doll', 'girl-Deco', 'girl-DIY']"
   ]
  },
  {
   "cell_type": "code",
   "execution_count": 172,
   "metadata": {},
   "outputs": [
    {
     "data": {
      "text/plain": [
       "<seaborn.axisgrid.FacetGrid at 0x7f7cd2b72fd0>"
      ]
     },
     "execution_count": 172,
     "metadata": {},
     "output_type": "execute_result"
    },
    {
     "data": {
      "image/png": "[encoded data removed]",
      "text/plain": [
       "<Figure size 360x360 with 1 Axes>"
      ]
     },
     "metadata": {},
     "output_type": "display_data"
    }
   ],
   "source": [
    "sns.catplot(x='cossim', y=\"카테고리명\", data=df2, kind='violin')"
   ]
  },
  {
   "cell_type": "code",
   "execution_count": 173,
   "metadata": {},
   "outputs": [
    {
     "data": {
      "text/plain": [
       "<seaborn.axisgrid.FacetGrid at 0x7f7cd28cff28>"
      ]
     },
     "execution_count": 173,
     "metadata": {},
     "output_type": "execute_result"
    },
    {
     "data": {
      "image/png": "[encoded data removed]",
      "text/plain": [
       "<Figure size 360x360 with 1 Axes>"
      ]
     },
     "metadata": {},
     "output_type": "display_data"
    }
   ],
   "source": [
    "sns.catplot(x='cossim', y=\"카테고리명\", data=df2, kind='box')"
   ]
  },
  {
   "cell_type": "code",
   "execution_count": 190,
   "metadata": {},
   "outputs": [
    {
     "data": {
      "text/plain": [
       "<seaborn.axisgrid.FacetGrid at 0x7f7ccf9cc1d0>"
      ]
     },
     "execution_count": 190,
     "metadata": {},
     "output_type": "execute_result"
    },
    {
     "data": {
      "image/png": "[encoded data removed]",
      "text/plain": [
       "<Figure size 360x360 with 1 Axes>"
      ]
     },
     "metadata": {},
     "output_type": "display_data"
    }
   ],
   "source": [
    "sns.catplot(x='cossim', data=df2, kind='box')"
   ]
  },
  {
   "cell_type": "code",
   "execution_count": null,
   "metadata": {},
   "outputs": [],
   "source": []
  }
 ],
 "metadata": {
  "kernelspec": {
   "display_name": "Python 3",
   "language": "python",
   "name": "python3"
  },
  "language_info": {
   "codemirror_mode": {
    "name": "ipython",
    "version": 3
   },
   "file_extension": ".py",
   "mimetype": "text/x-python",
   "name": "python",
   "nbconvert_exporter": "python",
   "pygments_lexer": "ipython3",
   "version": "3.6.6"
  }
 },
 "nbformat": 4,
 "nbformat_minor": 2
}
