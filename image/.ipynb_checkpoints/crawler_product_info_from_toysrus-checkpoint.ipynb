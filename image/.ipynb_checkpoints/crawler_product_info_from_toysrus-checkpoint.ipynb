{
 "cells": [
  {
   "cell_type": "markdown",
   "metadata": {},
   "source": [
    "### 제품 정보 가져오는 크롤링 코드\n",
    "이 노트북의 코드는 M5_Idol_lyrics 레파지토리의 url_crawling, melon_crawling 노트북들을 참고하였습니다.\n",
    "@kavin, @pje1740 님 감사합니다."
   ]
  },
  {
   "cell_type": "code",
   "execution_count": 3,
   "metadata": {},
   "outputs": [],
   "source": [
    "from selenium import webdriver\n",
    "from bs4 import BeautifulSoup\n",
    "from time import sleep\n",
    "import requests\n",
    "import json\n",
    "import re\n",
    "import pandas as pd\n",
    "import numpy as np"
   ]
  },
  {
   "cell_type": "code",
   "execution_count": 4,
   "metadata": {},
   "outputs": [],
   "source": [
    "from urllib import request\n",
    "from selenium import webdriver\n",
    "from selenium.webdriver.support.ui import WebDriverWait\n",
    "from selenium.common.exceptions import NoSuchElementException\n",
    "from selenium.webdriver.common.keys import Keys"
   ]
  },
  {
   "cell_type": "code",
   "execution_count": null,
   "metadata": {},
   "outputs": [],
   "source": [
    "# id가 flaot으로 저장되어 있습니다. int로 바꿔주고 저장하겠습니다. \n",
    "_list['idol_id'] = idol_list['idol_id'].astype(int)\n",
    "_list.info()"
   ]
  },
  {
   "cell_type": "code",
   "execution_count": 5,
   "metadata": {},
   "outputs": [],
   "source": [
    "# 수집을 위한 빈 리스트 생성\n",
    "\n",
    "category_main = []  # 카테고리_대분류\n",
    "category_small = []  # 카테고리_소분류\n",
    "product_name = []  # 제품명\n",
    "price = []  # 가격_판매가(고정가. 최저가 없이 하나만 있음)\n",
    "price_curr = []  # 가격_판매가(현재가)\n",
    "price_lowest = []  # 가격_최저가 \n",
    "selling_code = []  # 판매코드\n",
    "color = []  # 색상\n",
    "age = []  # 사용연령\n",
    "release_date = []  #동일모델의 출시년월\n",
    "manufacturer = []  # 제조자\n",
    "satisfaction = []  # 고객만족도\n",
    "review_count = []  # 상품평 갯수\n",
    "review = []  # 상품평"
   ]
  },
  {
   "cell_type": "markdown",
   "metadata": {},
   "source": [
    "## 크롤러"
   ]
  },
  {
   "cell_type": "code",
   "execution_count": 58,
   "metadata": {},
   "outputs": [],
   "source": [
    "# 전체 카테고리 클릭\n",
    "driver.find_element_by_xpath('//*[@id=\"btn_gnb_category\"]/span').click()\n",
    "\n",
    "# 카테고리_대분류 클릭\n",
    "driver.find_element_by_xpath('//*[@id=\"gnb_category_list\"]/div[1]/div[2]/ul/li[1]/h5/a').click()\n",
    "\n",
    "driver.find_element_by_xpath('//*[@id=\"goods_list\"]/li[1]/a/div[2]/h3/span').click()\n",
    "\n",
    "# # 제품 클릭\n",
    "# page_path1 = '//*[@id=\"goods_list\"]/li['\n",
    "# page_path2 = ']/a/div[2]/h3/span'\n",
    "\n",
    "# driver.find_element_by_xpath(page_path1 + str(i) + page_path2).click()\n",
    "\n",
    "# index = 1\n",
    "# reset_time = 0\n",
    "# while True:\n",
    "#     for i in range(1, len(goods_length)):\n",
    "#         print(\"==for문의 시작으로 왔습니다==\")\n",
    "#         while True:\n",
    "\n",
    "#             # 제품 클릭\n",
    "#             sleep(2)\n",
    "#             link1 = '//*[@id=\"goods_list\"]/li['\n",
    "#             link2 = ']/a/div[2]/h3/span'\n",
    "\n",
    "#             driver.find_element_by_xpath(link1 + str(i) + link2).click()\n",
    "#             append_list()\n",
    "\n",
    "#             print(len(name), name[len(name)-1])\n",
    "\n",
    "#             # 뒤로가기 누르기\n",
    "#             sleep(2)\n",
    "#             driver.execute_script(\"window.history.go(-1)\")\n",
    "\n",
    "#             index += 1\n",
    "\n",
    "#             if (len(name) % 30 == 0):\n",
    "#                 index = 1\n",
    "#                 print(\"30까지 왔습니다\")\n",
    "#                 break\n",
    "#         driver.find_element_by_xpath('//*[@id=\"pagingDiv\"]/a[10]').click() #  '다음' 버튼을 클릭하도록\n",
    "        \n",
    "#         if (len(page_length) == 1) and (len(title) % 50 == 0) :\n",
    "#             driver.find_element_by_xpath('//*[@id=\"pageObjNavgation\"]/div/a[4]').click() #   페이지개수가 2개이면'맨끝' 버튼 누르\n",
    "        \n",
    "# #         page_path1 = '//*[@id=\"pageObjNavgation\"]/div/span/a['\n",
    "# #         page_path2 = ']'\n",
    "# #         # i 가 9일때 xpath요소 못찾음\n",
    "# #         if (i == 10) and (len(title) % 50 == 0) : #  마지막 10page에 도달하면\n",
    "# #             driver.find_element_by_xpath('//*[@id=\"pageObjNavgation\"]/div/a[3]').click() #  '다음' 버튼을 클릭하도록\n",
    "# #             continue\n",
    "# #         elif (len(page_length) == 1) and (len(title) % 50 == 0) :\n",
    "# #             driver.find_element_by_xpath('//*[@id=\"pageObjNavgation\"]/div/a[4]').click() #   페이지개수가 2개이면'맨끝' 버튼 누르\n",
    "# #         driver.find_element_by_xpath(page_path1 + str(i) + page_path2).click()\n",
    "#         print('변경전:', i)\n",
    "#         i = i + 1 \n",
    "#         print('변경후', i)\n",
    "#         continue"
   ]
  },
  {
   "cell_type": "code",
   "execution_count": 44,
   "metadata": {},
   "outputs": [],
   "source": [
    "product_list = pd.read_csv('../data/CategoryID_ProductName.csv')"
   ]
  },
  {
   "cell_type": "code",
   "execution_count": 45,
   "metadata": {
    "scrolled": true
   },
   "outputs": [
    {
     "data": {
      "text/plain": [
       "(5934, 2)"
      ]
     },
     "execution_count": 45,
     "metadata": {},
     "output_type": "execute_result"
    }
   ],
   "source": [
    "product_list = product_list.rename(index=str, columns={\"카테고리ID\": \"category_ID\", \"제품명\": \"product_name\"})\n",
    "product_list.shape"
   ]
  },
  {
   "cell_type": "code",
   "execution_count": 42,
   "metadata": {},
   "outputs": [
    {
     "data": {
      "text/html": [
       "<div>\n",
       "<style scoped>\n",
       "    .dataframe tbody tr th:only-of-type {\n",
       "        vertical-align: middle;\n",
       "    }\n",
       "\n",
       "    .dataframe tbody tr th {\n",
       "        vertical-align: top;\n",
       "    }\n",
       "\n",
       "    .dataframe thead th {\n",
       "        text-align: right;\n",
       "    }\n",
       "</style>\n",
       "<table border=\"1\" class=\"dataframe\">\n",
       "  <thead>\n",
       "    <tr style=\"text-align: right;\">\n",
       "      <th></th>\n",
       "      <th>category_ID</th>\n",
       "      <th>product_name</th>\n",
       "    </tr>\n",
       "  </thead>\n",
       "  <tbody>\n",
       "    <tr>\n",
       "      <th>0</th>\n",
       "      <td>C10100030001</td>\n",
       "      <td>베이블레이드초Z 리바이브피닉스</td>\n",
       "    </tr>\n",
       "    <tr>\n",
       "      <th>1</th>\n",
       "      <td>C10100030001</td>\n",
       "      <td>베이블레이드갓 커스터마이즈</td>\n",
       "    </tr>\n",
       "    <tr>\n",
       "      <th>2</th>\n",
       "      <td>C10100030001</td>\n",
       "      <td>베이블레이드초Z 올인원세트</td>\n",
       "    </tr>\n",
       "    <tr>\n",
       "      <th>3</th>\n",
       "      <td>C10100030001</td>\n",
       "      <td>베이블레이드 갓배틀세트</td>\n",
       "    </tr>\n",
       "    <tr>\n",
       "      <th>4</th>\n",
       "      <td>C10100030001</td>\n",
       "      <td>베이블레이드초Z 랜덤부스터11</td>\n",
       "    </tr>\n",
       "  </tbody>\n",
       "</table>\n",
       "</div>"
      ],
      "text/plain": [
       "    category_ID      product_name\n",
       "0  C10100030001  베이블레이드초Z 리바이브피닉스\n",
       "1  C10100030001    베이블레이드갓 커스터마이즈\n",
       "2  C10100030001    베이블레이드초Z 올인원세트\n",
       "3  C10100030001      베이블레이드 갓배틀세트\n",
       "4  C10100030001  베이블레이드초Z 랜덤부스터11"
      ]
     },
     "execution_count": 42,
     "metadata": {},
     "output_type": "execute_result"
    }
   ],
   "source": [
    "product_list.head()"
   ]
  },
  {
   "cell_type": "code",
   "execution_count": 47,
   "metadata": {},
   "outputs": [
    {
     "data": {
      "text/plain": [
       "(5020, 2)"
      ]
     },
     "execution_count": 47,
     "metadata": {},
     "output_type": "execute_result"
    }
   ],
   "source": [
    "# 중복값 제거(검색은 유니크한 제품만 하면 되므로)\n",
    "product_list.drop_duplicates(subset='product_name', keep='first', inplace=False).shape"
   ]
  },
  {
   "cell_type": "code",
   "execution_count": 21,
   "metadata": {},
   "outputs": [
    {
     "data": {
      "text/plain": [
       "'베이블레이드초Z 리바이브피닉스'"
      ]
     },
     "execution_count": 21,
     "metadata": {},
     "output_type": "execute_result"
    }
   ],
   "source": [
    "names = product_list.product_name\n",
    "names[0]"
   ]
  },
  {
   "cell_type": "code",
   "execution_count": null,
   "metadata": {},
   "outputs": [],
   "source": [
    "# # 곡마다 가수 이름을 붙여주어야 하기에 가수 이름 리스트로 받아오기\n",
    "# p_names = product_list.product_name\n",
    "# p_names[0]"
   ]
  },
  {
   "cell_type": "code",
   "execution_count": 19,
   "metadata": {},
   "outputs": [],
   "source": [
    "search = driver.find_element_by_xpath('//*[@id=\"searchTerm\"]')\n",
    "search.send_keys(Keys.CONTROL + \"a\")\n",
    "search.clear()\n",
    "search.send_keys('[캐스돈] CASDON 네비운전놀이 (CD06347)')\n",
    "\n",
    "# 제품 이름 검색\n",
    "search.send_keys(Keys.RETURN)\n",
    "\n",
    "    \n",
    "# try:\n",
    "        \n",
    "# 제품 클릭\n",
    "driver.find_element_by_xpath('//*[@id=\"document\"]/div[4]/ul/li/div[1]/a').click()"
   ]
  },
  {
   "cell_type": "code",
   "execution_count": 17,
   "metadata": {},
   "outputs": [],
   "source": [
    "def list_clear():\n",
    "    category_main.clear()\n",
    "    category_small.clear()\n",
    "    product_name.clear()\n",
    "    price.clear()\n",
    "    price_curr.clear()\n",
    "    price_lowest.clear()\n",
    "    selling_code.clear()\n",
    "    color.clear()\n",
    "    age.clear()\n",
    "    release_date.clear()\n",
    "    manufacturer.clear()\n",
    "    satisfaction.clear()\n",
    "    review_count.clear()\n",
    "    review.clear()"
   ]
  },
  {
   "cell_type": "code",
   "execution_count": 106,
   "metadata": {},
   "outputs": [],
   "source": [
    "list_clear()"
   ]
  },
  {
   "cell_type": "code",
   "execution_count": 38,
   "metadata": {},
   "outputs": [],
   "source": [
    "path=r'../../shoppingmall/chromedriver'\n",
    "driver=webdriver.Chrome(path)\n",
    "driver.get(\"http://toysrus.lottemart.com/index.do;jsessionid=JRTV4GA2AXOTOWPvFI70goBv22rvNVdyg5kKtiH9DalebEQ108mVkLXQt1qnql9Y.lmtrwas01_servlet_engine1\")"
   ]
  },
  {
   "cell_type": "code",
   "execution_count": 39,
   "metadata": {
    "scrolled": true
   },
   "outputs": [
    {
     "name": "stdout",
     "output_type": "stream",
     "text": [
      "['빠른배송 감사합니다. 가격이 좋아요', '빠른배송 감사합니다. 가격이 좋아요']\n",
      "['빠른배송 감사합니다. 가격이 좋아요', '빠른배송 감사합니다. 가격이 좋아요', '아이가 엄청좋아해요^^', '아이가 엄청좋아해요^^']\n",
      "['빠른배송 감사합니다. 가격이 좋아요', '빠른배송 감사합니다. 가격이 좋아요', '아이가 엄청좋아해요^^', '아이가 엄청좋아해요^^', '싸게 너무잘샀어요최고에요', '']\n",
      "['빠른배송 감사합니다. 가격이 좋아요', '빠른배송 감사합니다. 가격이 좋아요', '아이가 엄청좋아해요^^', '아이가 엄청좋아해요^^', '싸게 너무잘샀어요최고에요', '', '아들이 너무 좋아해요', '']\n",
      "['빠른배송 감사합니다. 가격이 좋아요', '빠른배송 감사합니다. 가격이 좋아요', '아이가 엄청좋아해요^^', '아이가 엄청좋아해요^^', '싸게 너무잘샀어요최고에요', '', '아들이 너무 좋아해요', '', '초z사주지 않아서 베이놀이 안한다는 아들이 굉장히 좋아하네요 ㅋ', '초z사주지 않아서 베이놀이 안한다는 아들이 굉장히 좋아하네요 ㅋ']\n",
      "['빠른배송 감사합니다. 가격이 좋아요', '빠른배송 감사합니다. 가격이 좋아요', '아이가 엄청좋아해요^^', '아이가 엄청좋아해요^^', '싸게 너무잘샀어요최고에요', '', '아들이 너무 좋아해요', '', '초z사주지 않아서 베이놀이 안한다는 아들이 굉장히 좋아하네요 ㅋ', '초z사주지 않아서 베이놀이 안한다는 아들이 굉장히 좋아하네요 ㅋ', '잘받았습니다 아이가좋아해요', '']\n",
      "['빠른배송 감사합니다. 가격이 좋아요', '빠른배송 감사합니다. 가격이 좋아요', '아이가 엄청좋아해요^^', '아이가 엄청좋아해요^^', '싸게 너무잘샀어요최고에요', '', '아들이 너무 좋아해요', '', '초z사주지 않아서 베이놀이 안한다는 아들이 굉장히 좋아하네요 ㅋ', '초z사주지 않아서 베이놀이 안한다는 아들이 굉장히 좋아하네요 ㅋ', '잘받았습니다 아이가좋아해요', '', '감사합니다 감사합니다', '감사합니다 감사합니다']\n",
      "['빠른배송 감사합니다. 가격이 좋아요', '빠른배송 감사합니다. 가격이 좋아요', '아이가 엄청좋아해요^^', '아이가 엄청좋아해요^^', '싸게 너무잘샀어요최고에요', '', '아들이 너무 좋아해요', '', '초z사주지 않아서 베이놀이 안한다는 아들이 굉장히 좋아하네요 ㅋ', '초z사주지 않아서 베이놀이 안한다는 아들이 굉장히 좋아하네요 ㅋ', '잘받았습니다 아이가좋아해요', '', '감사합니다 감사합니다', '감사합니다 감사합니다', '감사합니다 감사합니다', '감사합니다 감사합니다']\n",
      "['빠른배송 감사합니다. 가격이 좋아요', '빠른배송 감사합니다. 가격이 좋아요', '아이가 엄청좋아해요^^', '아이가 엄청좋아해요^^', '싸게 너무잘샀어요최고에요', '', '아들이 너무 좋아해요', '', '초z사주지 않아서 베이놀이 안한다는 아들이 굉장히 좋아하네요 ㅋ', '초z사주지 않아서 베이놀이 안한다는 아들이 굉장히 좋아하네요 ㅋ', '잘받았습니다 아이가좋아해요', '', '감사합니다 감사합니다', '감사합니다 감사합니다', '감사합니다 감사합니다', '감사합니다 감사합니다', '감사합니다 감사합니다', '감사합니다 감사합니다']\n",
      "['빠른배송 감사합니다. 가격이 좋아요', '빠른배송 감사합니다. 가격이 좋아요', '아이가 엄청좋아해요^^', '아이가 엄청좋아해요^^', '싸게 너무잘샀어요최고에요', '', '아들이 너무 좋아해요', '', '초z사주지 않아서 베이놀이 안한다는 아들이 굉장히 좋아하네요 ㅋ', '초z사주지 않아서 베이놀이 안한다는 아들이 굉장히 좋아하네요 ㅋ', '잘받았습니다 아이가좋아해요', '', '감사합니다 감사합니다', '감사합니다 감사합니다', '감사합니다 감사합니다', '감사합니다 감사합니다', '감사합니다 감사합니다', '감사합니다 감사합니다', '감사합니다 감사합니다', '감사합니다 감사합니다']\n"
     ]
    },
    {
     "ename": "NoSuchElementException",
     "evalue": "Message: no such element: Unable to locate element: {\"method\":\"xpath\",\"selector\":\"//*[@id=\"r_38\"]/td/div/p\"}\n  (Session info: chrome=70.0.3538.77)\n  (Driver info: chromedriver=2.41.578706 (5f725d1b4f0a4acbf5259df887244095596231db),platform=Mac OS X 10.11.6 x86_64)\n",
     "output_type": "error",
     "traceback": [
      "\u001b[0;31m---------------------------------------------------------------------------\u001b[0m",
      "\u001b[0;31mNoSuchElementException\u001b[0m                    Traceback (most recent call last)",
      "\u001b[0;32m<ipython-input-27-b7e783da8c6a>\u001b[0m in \u001b[0;36mget_review\u001b[0;34m(whole, last, decrease)\u001b[0m\n\u001b[1;32m     17\u001b[0m         \u001b[0;32mtry\u001b[0m\u001b[0;34m:\u001b[0m\u001b[0;34m\u001b[0m\u001b[0m\n\u001b[0;32m---> 18\u001b[0;31m             \u001b[0mreview\u001b[0m\u001b[0;34m.\u001b[0m\u001b[0mappend\u001b[0m\u001b[0;34m(\u001b[0m\u001b[0mdriver\u001b[0m\u001b[0;34m.\u001b[0m\u001b[0mfind_element_by_xpath\u001b[0m\u001b[0;34m(\u001b[0m\u001b[0mp1\u001b[0m \u001b[0;34m+\u001b[0m \u001b[0mstr\u001b[0m\u001b[0;34m(\u001b[0m\u001b[0mi\u001b[0m\u001b[0;34m)\u001b[0m \u001b[0;34m+\u001b[0m \u001b[0mp2\u001b[0m\u001b[0;34m)\u001b[0m\u001b[0;34m.\u001b[0m\u001b[0mtext\u001b[0m\u001b[0;34m)\u001b[0m\u001b[0;34m\u001b[0m\u001b[0m\n\u001b[0m\u001b[1;32m     19\u001b[0m         \u001b[0;32mexcept\u001b[0m \u001b[0mNoSuchElementException\u001b[0m \u001b[0;32mas\u001b[0m \u001b[0me\u001b[0m\u001b[0;34m:\u001b[0m\u001b[0;34m\u001b[0m\u001b[0m\n",
      "\u001b[0;32m~/anaconda3/lib/python3.6/site-packages/selenium/webdriver/remote/webdriver.py\u001b[0m in \u001b[0;36mfind_element_by_xpath\u001b[0;34m(self, xpath)\u001b[0m\n\u001b[1;32m    392\u001b[0m         \"\"\"\n\u001b[0;32m--> 393\u001b[0;31m         \u001b[0;32mreturn\u001b[0m \u001b[0mself\u001b[0m\u001b[0;34m.\u001b[0m\u001b[0mfind_element\u001b[0m\u001b[0;34m(\u001b[0m\u001b[0mby\u001b[0m\u001b[0;34m=\u001b[0m\u001b[0mBy\u001b[0m\u001b[0;34m.\u001b[0m\u001b[0mXPATH\u001b[0m\u001b[0;34m,\u001b[0m \u001b[0mvalue\u001b[0m\u001b[0;34m=\u001b[0m\u001b[0mxpath\u001b[0m\u001b[0;34m)\u001b[0m\u001b[0;34m\u001b[0m\u001b[0m\n\u001b[0m\u001b[1;32m    394\u001b[0m \u001b[0;34m\u001b[0m\u001b[0m\n",
      "\u001b[0;32m~/anaconda3/lib/python3.6/site-packages/selenium/webdriver/remote/webdriver.py\u001b[0m in \u001b[0;36mfind_element\u001b[0;34m(self, by, value)\u001b[0m\n\u001b[1;32m    965\u001b[0m             \u001b[0;34m'using'\u001b[0m\u001b[0;34m:\u001b[0m \u001b[0mby\u001b[0m\u001b[0;34m,\u001b[0m\u001b[0;34m\u001b[0m\u001b[0m\n\u001b[0;32m--> 966\u001b[0;31m             'value': value})['value']\n\u001b[0m\u001b[1;32m    967\u001b[0m \u001b[0;34m\u001b[0m\u001b[0m\n",
      "\u001b[0;32m~/anaconda3/lib/python3.6/site-packages/selenium/webdriver/remote/webdriver.py\u001b[0m in \u001b[0;36mexecute\u001b[0;34m(self, driver_command, params)\u001b[0m\n\u001b[1;32m    319\u001b[0m         \u001b[0;32mif\u001b[0m \u001b[0mresponse\u001b[0m\u001b[0;34m:\u001b[0m\u001b[0;34m\u001b[0m\u001b[0m\n\u001b[0;32m--> 320\u001b[0;31m             \u001b[0mself\u001b[0m\u001b[0;34m.\u001b[0m\u001b[0merror_handler\u001b[0m\u001b[0;34m.\u001b[0m\u001b[0mcheck_response\u001b[0m\u001b[0;34m(\u001b[0m\u001b[0mresponse\u001b[0m\u001b[0;34m)\u001b[0m\u001b[0;34m\u001b[0m\u001b[0m\n\u001b[0m\u001b[1;32m    321\u001b[0m             response['value'] = self._unwrap_value(\n",
      "\u001b[0;32m~/anaconda3/lib/python3.6/site-packages/selenium/webdriver/remote/errorhandler.py\u001b[0m in \u001b[0;36mcheck_response\u001b[0;34m(self, response)\u001b[0m\n\u001b[1;32m    241\u001b[0m             \u001b[0;32mraise\u001b[0m \u001b[0mexception_class\u001b[0m\u001b[0;34m(\u001b[0m\u001b[0mmessage\u001b[0m\u001b[0;34m,\u001b[0m \u001b[0mscreen\u001b[0m\u001b[0;34m,\u001b[0m \u001b[0mstacktrace\u001b[0m\u001b[0;34m,\u001b[0m \u001b[0malert_text\u001b[0m\u001b[0;34m)\u001b[0m\u001b[0;34m\u001b[0m\u001b[0m\n\u001b[0;32m--> 242\u001b[0;31m         \u001b[0;32mraise\u001b[0m \u001b[0mexception_class\u001b[0m\u001b[0;34m(\u001b[0m\u001b[0mmessage\u001b[0m\u001b[0;34m,\u001b[0m \u001b[0mscreen\u001b[0m\u001b[0;34m,\u001b[0m \u001b[0mstacktrace\u001b[0m\u001b[0;34m)\u001b[0m\u001b[0;34m\u001b[0m\u001b[0m\n\u001b[0m\u001b[1;32m    243\u001b[0m \u001b[0;34m\u001b[0m\u001b[0m\n",
      "\u001b[0;31mNoSuchElementException\u001b[0m: Message: no such element: Unable to locate element: {\"method\":\"xpath\",\"selector\":\"//*[@id=\"r_38\"]/td/div/p[2]\"}\n  (Session info: chrome=70.0.3538.77)\n  (Driver info: chromedriver=2.41.578706 (5f725d1b4f0a4acbf5259df887244095596231db),platform=Mac OS X 10.11.6 x86_64)\n",
      "\nDuring handling of the above exception, another exception occurred:\n",
      "\u001b[0;31mNoSuchElementException\u001b[0m                    Traceback (most recent call last)",
      "\u001b[0;32m<ipython-input-39-b9bac6ed1209>\u001b[0m in \u001b[0;36m<module>\u001b[0;34m()\u001b[0m\n\u001b[1;32m     13\u001b[0m     \u001b[0mdriver\u001b[0m\u001b[0;34m.\u001b[0m\u001b[0mfind_element_by_xpath\u001b[0m\u001b[0;34m(\u001b[0m\u001b[0;34m'//*[@id=\"document\"]/div[4]/ul/li/div[1]/a'\u001b[0m\u001b[0;34m)\u001b[0m\u001b[0;34m.\u001b[0m\u001b[0mclick\u001b[0m\u001b[0;34m(\u001b[0m\u001b[0;34m)\u001b[0m\u001b[0;34m\u001b[0m\u001b[0m\n\u001b[1;32m     14\u001b[0m \u001b[0;34m\u001b[0m\u001b[0m\n\u001b[0;32m---> 15\u001b[0;31m     \u001b[0mappend_list\u001b[0m\u001b[0;34m(\u001b[0m\u001b[0;34m)\u001b[0m\u001b[0;34m\u001b[0m\u001b[0m\n\u001b[0m\u001b[1;32m     16\u001b[0m \u001b[0;31m#     append_review()\u001b[0m\u001b[0;34m\u001b[0m\u001b[0;34m\u001b[0m\u001b[0m\n\u001b[1;32m     17\u001b[0m \u001b[0;31m#     search.send_keys(Keys.CONTROL + \"a\")\u001b[0m\u001b[0;34m\u001b[0m\u001b[0;34m\u001b[0m\u001b[0m\n",
      "\u001b[0;32m<ipython-input-37-d982fde98ac1>\u001b[0m in \u001b[0;36mappend_list\u001b[0;34m()\u001b[0m\n\u001b[1;32m    105\u001b[0m                             \u001b[0mnext2\u001b[0m \u001b[0;34m=\u001b[0m \u001b[0;34m']'\u001b[0m\u001b[0;34m\u001b[0m\u001b[0m\n\u001b[1;32m    106\u001b[0m                             \u001b[0mdriver\u001b[0m\u001b[0;34m.\u001b[0m\u001b[0mfind_element_by_xpath\u001b[0m\u001b[0;34m(\u001b[0m\u001b[0mnext1\u001b[0m \u001b[0;34m+\u001b[0m \u001b[0mstr\u001b[0m\u001b[0;34m(\u001b[0m\u001b[0mn\u001b[0m\u001b[0;34m)\u001b[0m \u001b[0;34m+\u001b[0m \u001b[0mnext2\u001b[0m\u001b[0;34m)\u001b[0m\u001b[0;34m.\u001b[0m\u001b[0mclick\u001b[0m\u001b[0;34m(\u001b[0m\u001b[0;34m)\u001b[0m\u001b[0;34m\u001b[0m\u001b[0m\n\u001b[0;32m--> 107\u001b[0;31m                             \u001b[0mget_review\u001b[0m\u001b[0;34m(\u001b[0m\u001b[0mp_count_page2\u001b[0m\u001b[0;34m-\u001b[0m\u001b[0;36m20\u001b[0m\u001b[0;34m,\u001b[0m\u001b[0mp_count_page2\u001b[0m\u001b[0;34m-\u001b[0m\u001b[0;36m29\u001b[0m\u001b[0;34m,\u001b[0m\u001b[0;34m-\u001b[0m\u001b[0;36m1\u001b[0m\u001b[0;34m)\u001b[0m\u001b[0;34m\u001b[0m\u001b[0m\n\u001b[0m\u001b[1;32m    108\u001b[0m \u001b[0;34m\u001b[0m\u001b[0m\n\u001b[1;32m    109\u001b[0m                         \u001b[0;32melif\u001b[0m \u001b[0mn\u001b[0m \u001b[0;34m>\u001b[0m \u001b[0;36m10\u001b[0m\u001b[0;34m:\u001b[0m\u001b[0;34m\u001b[0m\u001b[0m\n",
      "\u001b[0;32m<ipython-input-27-b7e783da8c6a>\u001b[0m in \u001b[0;36mget_review\u001b[0;34m(whole, last, decrease)\u001b[0m\n\u001b[1;32m     18\u001b[0m             \u001b[0mreview\u001b[0m\u001b[0;34m.\u001b[0m\u001b[0mappend\u001b[0m\u001b[0;34m(\u001b[0m\u001b[0mdriver\u001b[0m\u001b[0;34m.\u001b[0m\u001b[0mfind_element_by_xpath\u001b[0m\u001b[0;34m(\u001b[0m\u001b[0mp1\u001b[0m \u001b[0;34m+\u001b[0m \u001b[0mstr\u001b[0m\u001b[0;34m(\u001b[0m\u001b[0mi\u001b[0m\u001b[0;34m)\u001b[0m \u001b[0;34m+\u001b[0m \u001b[0mp2\u001b[0m\u001b[0;34m)\u001b[0m\u001b[0;34m.\u001b[0m\u001b[0mtext\u001b[0m\u001b[0;34m)\u001b[0m\u001b[0;34m\u001b[0m\u001b[0m\n\u001b[1;32m     19\u001b[0m         \u001b[0;32mexcept\u001b[0m \u001b[0mNoSuchElementException\u001b[0m \u001b[0;32mas\u001b[0m \u001b[0me\u001b[0m\u001b[0;34m:\u001b[0m\u001b[0;34m\u001b[0m\u001b[0m\n\u001b[0;32m---> 20\u001b[0;31m             \u001b[0mreview\u001b[0m\u001b[0;34m.\u001b[0m\u001b[0mappend\u001b[0m\u001b[0;34m(\u001b[0m\u001b[0mdriver\u001b[0m\u001b[0;34m.\u001b[0m\u001b[0mfind_element_by_xpath\u001b[0m\u001b[0;34m(\u001b[0m\u001b[0mp1_no_picture\u001b[0m \u001b[0;34m+\u001b[0m \u001b[0mstr\u001b[0m\u001b[0;34m(\u001b[0m\u001b[0mi\u001b[0m\u001b[0;34m)\u001b[0m \u001b[0;34m+\u001b[0m \u001b[0mp2_no_picture\u001b[0m\u001b[0;34m)\u001b[0m\u001b[0;34m.\u001b[0m\u001b[0mtext\u001b[0m\u001b[0;34m)\u001b[0m\u001b[0;34m\u001b[0m\u001b[0m\n\u001b[0m\u001b[1;32m     21\u001b[0m         \u001b[0;32mexcept\u001b[0m \u001b[0mNoSuchElementException\u001b[0m \u001b[0;32mas\u001b[0m \u001b[0me\u001b[0m\u001b[0;34m:\u001b[0m\u001b[0;34m\u001b[0m\u001b[0m\n\u001b[1;32m     22\u001b[0m             \u001b[0mreview\u001b[0m\u001b[0;34m.\u001b[0m\u001b[0mappend\u001b[0m\u001b[0;34m(\u001b[0m\u001b[0;34m''\u001b[0m\u001b[0;34m)\u001b[0m\u001b[0;34m\u001b[0m\u001b[0m\n",
      "\u001b[0;32m~/anaconda3/lib/python3.6/site-packages/selenium/webdriver/remote/webdriver.py\u001b[0m in \u001b[0;36mfind_element_by_xpath\u001b[0;34m(self, xpath)\u001b[0m\n\u001b[1;32m    391\u001b[0m             \u001b[0melement\u001b[0m \u001b[0;34m=\u001b[0m \u001b[0mdriver\u001b[0m\u001b[0;34m.\u001b[0m\u001b[0mfind_element_by_xpath\u001b[0m\u001b[0;34m(\u001b[0m\u001b[0;34m'//div/td[1]'\u001b[0m\u001b[0;34m)\u001b[0m\u001b[0;34m\u001b[0m\u001b[0m\n\u001b[1;32m    392\u001b[0m         \"\"\"\n\u001b[0;32m--> 393\u001b[0;31m         \u001b[0;32mreturn\u001b[0m \u001b[0mself\u001b[0m\u001b[0;34m.\u001b[0m\u001b[0mfind_element\u001b[0m\u001b[0;34m(\u001b[0m\u001b[0mby\u001b[0m\u001b[0;34m=\u001b[0m\u001b[0mBy\u001b[0m\u001b[0;34m.\u001b[0m\u001b[0mXPATH\u001b[0m\u001b[0;34m,\u001b[0m \u001b[0mvalue\u001b[0m\u001b[0;34m=\u001b[0m\u001b[0mxpath\u001b[0m\u001b[0;34m)\u001b[0m\u001b[0;34m\u001b[0m\u001b[0m\n\u001b[0m\u001b[1;32m    394\u001b[0m \u001b[0;34m\u001b[0m\u001b[0m\n\u001b[1;32m    395\u001b[0m     \u001b[0;32mdef\u001b[0m \u001b[0mfind_elements_by_xpath\u001b[0m\u001b[0;34m(\u001b[0m\u001b[0mself\u001b[0m\u001b[0;34m,\u001b[0m \u001b[0mxpath\u001b[0m\u001b[0;34m)\u001b[0m\u001b[0;34m:\u001b[0m\u001b[0;34m\u001b[0m\u001b[0m\n",
      "\u001b[0;32m~/anaconda3/lib/python3.6/site-packages/selenium/webdriver/remote/webdriver.py\u001b[0m in \u001b[0;36mfind_element\u001b[0;34m(self, by, value)\u001b[0m\n\u001b[1;32m    964\u001b[0m         return self.execute(Command.FIND_ELEMENT, {\n\u001b[1;32m    965\u001b[0m             \u001b[0;34m'using'\u001b[0m\u001b[0;34m:\u001b[0m \u001b[0mby\u001b[0m\u001b[0;34m,\u001b[0m\u001b[0;34m\u001b[0m\u001b[0m\n\u001b[0;32m--> 966\u001b[0;31m             'value': value})['value']\n\u001b[0m\u001b[1;32m    967\u001b[0m \u001b[0;34m\u001b[0m\u001b[0m\n\u001b[1;32m    968\u001b[0m     \u001b[0;32mdef\u001b[0m \u001b[0mfind_elements\u001b[0m\u001b[0;34m(\u001b[0m\u001b[0mself\u001b[0m\u001b[0;34m,\u001b[0m \u001b[0mby\u001b[0m\u001b[0;34m=\u001b[0m\u001b[0mBy\u001b[0m\u001b[0;34m.\u001b[0m\u001b[0mID\u001b[0m\u001b[0;34m,\u001b[0m \u001b[0mvalue\u001b[0m\u001b[0;34m=\u001b[0m\u001b[0;32mNone\u001b[0m\u001b[0;34m)\u001b[0m\u001b[0;34m:\u001b[0m\u001b[0;34m\u001b[0m\u001b[0m\n",
      "\u001b[0;32m~/anaconda3/lib/python3.6/site-packages/selenium/webdriver/remote/webdriver.py\u001b[0m in \u001b[0;36mexecute\u001b[0;34m(self, driver_command, params)\u001b[0m\n\u001b[1;32m    318\u001b[0m         \u001b[0mresponse\u001b[0m \u001b[0;34m=\u001b[0m \u001b[0mself\u001b[0m\u001b[0;34m.\u001b[0m\u001b[0mcommand_executor\u001b[0m\u001b[0;34m.\u001b[0m\u001b[0mexecute\u001b[0m\u001b[0;34m(\u001b[0m\u001b[0mdriver_command\u001b[0m\u001b[0;34m,\u001b[0m \u001b[0mparams\u001b[0m\u001b[0;34m)\u001b[0m\u001b[0;34m\u001b[0m\u001b[0m\n\u001b[1;32m    319\u001b[0m         \u001b[0;32mif\u001b[0m \u001b[0mresponse\u001b[0m\u001b[0;34m:\u001b[0m\u001b[0;34m\u001b[0m\u001b[0m\n\u001b[0;32m--> 320\u001b[0;31m             \u001b[0mself\u001b[0m\u001b[0;34m.\u001b[0m\u001b[0merror_handler\u001b[0m\u001b[0;34m.\u001b[0m\u001b[0mcheck_response\u001b[0m\u001b[0;34m(\u001b[0m\u001b[0mresponse\u001b[0m\u001b[0;34m)\u001b[0m\u001b[0;34m\u001b[0m\u001b[0m\n\u001b[0m\u001b[1;32m    321\u001b[0m             response['value'] = self._unwrap_value(\n\u001b[1;32m    322\u001b[0m                 response.get('value', None))\n",
      "\u001b[0;32m~/anaconda3/lib/python3.6/site-packages/selenium/webdriver/remote/errorhandler.py\u001b[0m in \u001b[0;36mcheck_response\u001b[0;34m(self, response)\u001b[0m\n\u001b[1;32m    240\u001b[0m                 \u001b[0malert_text\u001b[0m \u001b[0;34m=\u001b[0m \u001b[0mvalue\u001b[0m\u001b[0;34m[\u001b[0m\u001b[0;34m'alert'\u001b[0m\u001b[0;34m]\u001b[0m\u001b[0;34m.\u001b[0m\u001b[0mget\u001b[0m\u001b[0;34m(\u001b[0m\u001b[0;34m'text'\u001b[0m\u001b[0;34m)\u001b[0m\u001b[0;34m\u001b[0m\u001b[0m\n\u001b[1;32m    241\u001b[0m             \u001b[0;32mraise\u001b[0m \u001b[0mexception_class\u001b[0m\u001b[0;34m(\u001b[0m\u001b[0mmessage\u001b[0m\u001b[0;34m,\u001b[0m \u001b[0mscreen\u001b[0m\u001b[0;34m,\u001b[0m \u001b[0mstacktrace\u001b[0m\u001b[0;34m,\u001b[0m \u001b[0malert_text\u001b[0m\u001b[0;34m)\u001b[0m\u001b[0;34m\u001b[0m\u001b[0m\n\u001b[0;32m--> 242\u001b[0;31m         \u001b[0;32mraise\u001b[0m \u001b[0mexception_class\u001b[0m\u001b[0;34m(\u001b[0m\u001b[0mmessage\u001b[0m\u001b[0;34m,\u001b[0m \u001b[0mscreen\u001b[0m\u001b[0;34m,\u001b[0m \u001b[0mstacktrace\u001b[0m\u001b[0;34m)\u001b[0m\u001b[0;34m\u001b[0m\u001b[0m\n\u001b[0m\u001b[1;32m    243\u001b[0m \u001b[0;34m\u001b[0m\u001b[0m\n\u001b[1;32m    244\u001b[0m     \u001b[0;32mdef\u001b[0m \u001b[0m_value_or_default\u001b[0m\u001b[0;34m(\u001b[0m\u001b[0mself\u001b[0m\u001b[0;34m,\u001b[0m \u001b[0mobj\u001b[0m\u001b[0;34m,\u001b[0m \u001b[0mkey\u001b[0m\u001b[0;34m,\u001b[0m \u001b[0mdefault\u001b[0m\u001b[0;34m)\u001b[0m\u001b[0;34m:\u001b[0m\u001b[0;34m\u001b[0m\u001b[0m\n",
      "\u001b[0;31mNoSuchElementException\u001b[0m: Message: no such element: Unable to locate element: {\"method\":\"xpath\",\"selector\":\"//*[@id=\"r_38\"]/td/div/p\"}\n  (Session info: chrome=70.0.3538.77)\n  (Driver info: chromedriver=2.41.578706 (5f725d1b4f0a4acbf5259df887244095596231db),platform=Mac OS X 10.11.6 x86_64)\n"
     ]
    }
   ],
   "source": [
    "list_clear()\n",
    "i = 0\n",
    "for names[i] in names:\n",
    "    search = driver.find_element_by_xpath('//*[@id=\"searchTerm\"]')\n",
    "    search.send_keys(Keys.CONTROL + \"a\")\n",
    "    search.clear()\n",
    "    search.send_keys(names[i])\n",
    "    \n",
    "    # 검색버튼 클릭\n",
    "    driver.find_element_by_xpath('//*[@id=\"mainSearchForm\"]/button').click()\n",
    "    \n",
    "    # 제품 클릭\n",
    "    driver.find_element_by_xpath('//*[@id=\"document\"]/div[4]/ul/li/div[1]/a').click()\n",
    "    \n",
    "    append_list()\n",
    "#     append_review()\n",
    "#     search.send_keys(Keys.CONTROL + \"a\")\n",
    "#     search.clear()\n",
    "#     i =+ 1"
   ]
  },
  {
   "cell_type": "code",
   "execution_count": 121,
   "metadata": {},
   "outputs": [
    {
     "name": "stdout",
     "output_type": "stream",
     "text": [
      "['유아 Toys', '유아 Toys']\n",
      "done\n"
     ]
    }
   ],
   "source": [
    "# 테스트\n",
    "# list_clear()\n",
    "# i = 0\n",
    "# for names[i] in names:\n",
    "search = driver.find_element_by_xpath('//*[@id=\"searchTerm\"]')\n",
    "search.send_keys(Keys.CONTROL + \"a\")\n",
    "search.clear()\n",
    "search.send_keys('[캐스돈] CASDON 네비운전놀이 (CD06347)')\n",
    "#     search.send_keys(names[i])\n",
    "    \n",
    "    # 검색버튼 클릭\n",
    "driver.find_element_by_xpath('//*[@id=\"mainSearchForm\"]/button').click()\n",
    "\n",
    "    # 제품 클릭\n",
    "driver.find_element_by_xpath('//*[@id=\"document\"]/div[4]/ul/li/div[1]/a').click()\n",
    "    \n",
    "append_list()\n",
    "\n",
    "#     search.send_keys(Keys.CONTROL + \"a\")\n",
    "#     search.clear()\n",
    "#     i =+ 1"
   ]
  },
  {
   "cell_type": "code",
   "execution_count": 178,
   "metadata": {},
   "outputs": [
    {
     "data": {
      "text/plain": [
       "['저렴하게 구매해서 아들한테 좋은 선물 했어요', '', '']"
      ]
     },
     "execution_count": 178,
     "metadata": {},
     "output_type": "execute_result"
    }
   ],
   "source": [
    "review"
   ]
  },
  {
   "cell_type": "code",
   "execution_count": 8,
   "metadata": {},
   "outputs": [
    {
     "data": {
      "text/plain": [
       "'베이블레이드초Z 리바이브피닉스'"
      ]
     },
     "execution_count": 8,
     "metadata": {},
     "output_type": "execute_result"
    }
   ],
   "source": [
    "products = product_list.product_name\n",
    "products[0]"
   ]
  },
  {
   "cell_type": "code",
   "execution_count": 44,
   "metadata": {},
   "outputs": [],
   "source": [
    "def append_list():   \n",
    "    product_name.append(driver.find_element_by_xpath('//*[@id=\"document\"]/article/div[1]/div[1]/h3').text)\n",
    "    selling_code.append(driver.find_element_by_xpath('//*[@id=\"ItemSrcmkCD\"]').text)\n",
    "    color.append(driver.find_element_by_xpath('//*[@id=\"itemDetail\"]/div[1]/table/tbody/tr[5]/td').text)\n",
    "    age.append(driver.find_element_by_xpath('//*[@id=\"itemDetail\"]/div[1]/table/tbody/tr[7]/td').text)\n",
    "    release_date.append(driver.find_element_by_xpath('//*[@id=\"itemDetail\"]/div[1]/table/tbody/tr[8]/td').text)\n",
    "    manufacturer.append(driver.find_element_by_xpath('//*[@id=\"itemDetail\"]/div[1]/table/tbody/tr[9]/td').text)\n",
    "    \n",
    "    \n",
    "    # 카테고리가 '기획전' 등 기타 카테고리인 경우가 있음    \n",
    "    try:\n",
    "        category_main.append(driver.find_element_by_xpath('//*[@id=\"list_prod_top\"]/a[3]').text)\n",
    "    except NoSuchElementException as e:\n",
    "        category_main.append('기타')\n",
    "        \n",
    "    try:\n",
    "        category_small.append(driver.find_element_by_xpath('//*[@id=\"list_prod_top\"]/a[4]').text)\n",
    "    except NoSuchElementException as e:\n",
    "        category_main.append('기타')\n",
    "        \n",
    "    \n",
    "    # 판매가가 고정가/ 현재가,최저가 로 나뉘어 있어서 있는 것만 담아준다.\n",
    "    \n",
    "    try:\n",
    "        price.append(driver.find_element_by_xpath('//*[@id=\"ItemSalePrc\"]').text)\n",
    "    except NoSuchElementException as e:\n",
    "        price.append('')\n",
    "                                                     \n",
    "    try:\n",
    "        price_curr.append(driver.find_element_by_xpath('//*[@id=\"ItemCurrSalePrc\"]').text)\n",
    "    except NoSuchElementException as e:\n",
    "        price_curr.append('')\n",
    "        \n",
    "    try:\n",
    "        price_lowest.append(driver.find_element_by_xpath('//*[@id=\"ItemCurrSalePrc\"]').text)\n",
    "    except NoSuchElementException as e:\n",
    "        price_lowest.append('') \n",
    "        \n",
    "        \n",
    "    # 고객 만족도와 상품평 없는 경우\n",
    "    \n",
    "    try:\n",
    "        satisfaction.append(driver.find_element_by_xpath('//*[@id=\"document\"]/article/div[2]/div[3]/div[2]/div[1]/span[3]').text)\n",
    "    except NoSuchElementException as e:\n",
    "        satisfaction.append('') \n",
    "        \n",
    "    try:\n",
    "        review_count.append(driver.find_element_by_xpath('//*[@id=\"document\"]/article/div[2]/div[3]/div[2]/div[2]/a/span/strong').text)\n",
    "    except NoSuchElementException as e:\n",
    "        review_count.append('')\n",
    "        \n",
    "    # 상품평 가져오기\n",
    "#     index = 1\n",
    "    p_count = int(driver.find_element_by_xpath('//*[@id=\"prdComment\"]/div[3]/div[1]/button[1]/span').text)\n",
    "    for x in range():\n",
    "    for i in range(p_count,1,-1):\n",
    "        a1 = '//*[@id=\"'\n",
    "        a2 = '\"]/td[3]/a'\n",
    "        try:\n",
    "            driver.find_element_by_xpath(a1 + str(i) + a2).click()\n",
    "        except NoSuchElementException as e:\n",
    "            review.append('')\n",
    "            \n",
    "        p1 = '//*[@id=\"r_'\n",
    "        p2 = '\"]/td/div/p[2]'\n",
    "    \n",
    "        p1_no_picture = '//*[@id=\"r_'\n",
    "        p2_no_picture = '\"]/td/div/p'\n",
    "    \n",
    "        try:\n",
    "            review.append(driver.find_element_by_xpath(p1 + str(i) + p2).text)\n",
    "        except NoSuchElementException as e:\n",
    "            review.append(driver.find_element_by_xpath(p1_no_picture + str(i) + p2_no_picture).text)\n",
    "        except NoSuchElementException as e:\n",
    "            review.append('')    \n",
    "            \n",
    "        try:\n",
    "            review.append(driver.find_element_by_xpath(p1_no_picture + str(i) + p2_no_picture).text)\n",
    "        except NoSuchElementException as e:\n",
    "            review.append(driver.find_element_by_xpath(p1 + str(i) + p2).text)\n",
    "        except NoSuchElementException as e:\n",
    "            review.append('')\n",
    "            \n",
    "        print(review)\n",
    "    \n",
    "        \n",
    "        if (i % 10 == (p_count % 10) +1):\n",
    "#             index += 1\n",
    "#             break\n",
    "            \n",
    "            for n in range(1, 10):\n",
    "\n",
    "                if (driver.find_element_by_xpath('//*[@id=\"pagingDiv\"]/strong').text) == '1':\n",
    "                    driver.find_element_by_xpath('//*[@id=\"pagingDiv\"]/a[1]').click()\n",
    "                else:\n",
    "                    driver.find_element_by_xpath('//*[@id=\"pagingDiv\"]/a[3]').click()\n",
    "                \n",
    "                get_review()\n",
    "                \n",
    "                for n in range(3, 10):\n",
    "                    if n <= 10:\n",
    "                        next1 = '//*[@id=\"pagingDiv\"]/a['\n",
    "                        next2 = ']'\n",
    "                        driver.find_element_by_xpath(next1 + str(n) + next2).click()\n",
    "            \n",
    "                    elif n > 10:\n",
    "                        for n2 in range(3, p_count % 10):\n",
    "                            driver.find_element_by_xpath(next1 + str(n2) + next2).click()\n",
    "                            \n",
    "                get_review()\n",
    "\n",
    "#             first = 'http://toysrus.lottemart.com/product/ProductDetail.do?CategoryID=C00300020100&ProductCD=8801198125306&cPage='\n",
    "#             second = '&selBoard=REG_DATE&selBoard2=ALL_RECOMM#prdComment'      \n",
    "#             # 이거 하려면 프로덕트CD 를 전부 알아서 그 안에서 for 문을 돌려야 함..\n",
    "            \n",
    "#             for n in range(2, p_count // 10 + 1):\n",
    "#                 while True:\n",
    "#                     driver.get(first+str(n)+second)      \n",
    "    print(review)\n",
    "#     print('done')\n",
    "    \n",
    "#     print(category_main)\n",
    "#     print('done')\n",
    "        \n",
    "# 'http://toysrus.lottemart.com/product/ProductDetail.do?CategoryID=C00300020100&ProductCD=8801198125306&cPage=1&selBoard=REG_DATE&selBoard2=ALL_RECOMM#prdComment'"
   ]
  },
  {
   "cell_type": "code",
   "execution_count": 37,
   "metadata": {},
   "outputs": [],
   "source": [
    "def append_list():   \n",
    "    product_name.append(driver.find_element_by_xpath('//*[@id=\"document\"]/article/div[1]/div[1]/h3').text)\n",
    "    selling_code.append(driver.find_element_by_xpath('//*[@id=\"ItemSrcmkCD\"]').text)\n",
    "    color.append(driver.find_element_by_xpath('//*[@id=\"itemDetail\"]/div[1]/table/tbody/tr[5]/td').text)\n",
    "    age.append(driver.find_element_by_xpath('//*[@id=\"itemDetail\"]/div[1]/table/tbody/tr[7]/td').text)\n",
    "    release_date.append(driver.find_element_by_xpath('//*[@id=\"itemDetail\"]/div[1]/table/tbody/tr[8]/td').text)\n",
    "    manufacturer.append(driver.find_element_by_xpath('//*[@id=\"itemDetail\"]/div[1]/table/tbody/tr[9]/td').text)\n",
    "    \n",
    "    \n",
    "    # 카테고리가 '기획전' 등 기타 카테고리인 경우가 있음    \n",
    "    try:\n",
    "        category_main.append(driver.find_element_by_xpath('//*[@id=\"list_prod_top\"]/a[3]').text)\n",
    "    except NoSuchElementException as e:\n",
    "        category_main.append('기타')\n",
    "        \n",
    "    try:\n",
    "        category_small.append(driver.find_element_by_xpath('//*[@id=\"list_prod_top\"]/a[4]').text)\n",
    "    except NoSuchElementException as e:\n",
    "        category_main.append('기타')\n",
    "        \n",
    "    \n",
    "    # 판매가가 고정가/ 현재가,최저가 로 나뉘어 있어서 있는 것만 담아준다.\n",
    "    \n",
    "    try:\n",
    "        price.append(driver.find_element_by_xpath('//*[@id=\"ItemSalePrc\"]').text)\n",
    "    except NoSuchElementException as e:\n",
    "        price.append('')\n",
    "                                                     \n",
    "    try:\n",
    "        price_curr.append(driver.find_element_by_xpath('//*[@id=\"ItemCurrSalePrc\"]').text)\n",
    "    except NoSuchElementException as e:\n",
    "        price_curr.append('')\n",
    "        \n",
    "    try:\n",
    "        price_lowest.append(driver.find_element_by_xpath('//*[@id=\"ItemCurrSalePrc\"]').text)\n",
    "    except NoSuchElementException as e:\n",
    "        price_lowest.append('') \n",
    "        \n",
    "        \n",
    "    # 고객 만족도와 상품평 없는 경우\n",
    "    \n",
    "    try:\n",
    "        satisfaction.append(driver.find_element_by_xpath('//*[@id=\"document\"]/article/div[2]/div[3]/div[2]/div[1]/span[3]').text)\n",
    "    except NoSuchElementException as e:\n",
    "        satisfaction.append('') \n",
    "        \n",
    "    try:\n",
    "        review_count.append(driver.find_element_by_xpath('//*[@id=\"document\"]/article/div[2]/div[3]/div[2]/div[2]/a/span/strong').text)\n",
    "    except NoSuchElementException as e:\n",
    "        review_count.append('')\n",
    "        \n",
    "    # 상품평 가져오기\n",
    "#     index = 1\n",
    "    p_count = int(driver.find_element_by_xpath('//*[@id=\"prdComment\"]/div[3]/div[1]/button[1]/span').text)\n",
    "    for x in range(p_count//10+1):\n",
    "        for i in range(p_count,1,-1):\n",
    "            a1 = '//*[@id=\"'\n",
    "            a2 = '\"]/td[3]/a'\n",
    "            try:\n",
    "                driver.find_element_by_xpath(a1 + str(i) + a2).click()\n",
    "            except NoSuchElementException as e:\n",
    "                review.append('')\n",
    "\n",
    "            p1 = '//*[@id=\"r_'\n",
    "            p2 = '\"]/td/div/p[2]'\n",
    "\n",
    "            p1_no_picture = '//*[@id=\"r_'\n",
    "            p2_no_picture = '\"]/td/div/p'\n",
    "\n",
    "            try:\n",
    "                review.append(driver.find_element_by_xpath(p1 + str(i) + p2).text)\n",
    "            except NoSuchElementException as e:\n",
    "                review.append(driver.find_element_by_xpath(p1_no_picture + str(i) + p2_no_picture).text)\n",
    "#             except NoSuchElementException as e:\n",
    "#                 review.append('')    \n",
    "\n",
    "            try:\n",
    "                review.append(driver.find_element_by_xpath(p1_no_picture + str(i) + p2_no_picture).text)\n",
    "            except NoSuchElementException as e:\n",
    "                review.append(driver.find_element_by_xpath(p1 + str(i) + p2).text)\n",
    "#             except NoSuchElementException as e:\n",
    "#                 review.append('')\n",
    "\n",
    "            print(review)\n",
    "\n",
    "\n",
    "            if (i % 10 == (p_count % 10) +1):\n",
    "    #             index += 1\n",
    "    #             break\n",
    "\n",
    "                for n in range(1, 10):\n",
    "\n",
    "                    if (driver.find_element_by_xpath('//*[@id=\"pagingDiv\"]/strong').text) == '1':\n",
    "                        driver.find_element_by_xpath('//*[@id=\"pagingDiv\"]/a[1]').click()\n",
    "                        \n",
    "                    else:\n",
    "                        driver.find_element_by_xpath('//*[@id=\"pagingDiv\"]/a[3]').click()\n",
    "                        \n",
    "                    p_count_page2 = p_count-10\n",
    "                    get_review(p_count_page2,p_count_page2-9,-1)\n",
    "                    \n",
    "                    for n in range(3, 10):\n",
    "                        if n <= 10:\n",
    "                            next1 = '//*[@id=\"pagingDiv\"]/a['\n",
    "                            next2 = ']'\n",
    "                            driver.find_element_by_xpath(next1 + str(n) + next2).click()\n",
    "                            get_review(p_count_page2-20,p_count_page2-29,-1)\n",
    "\n",
    "                        elif n > 10:\n",
    "                            for n2 in range(3, p_count % 10):\n",
    "                                driver.find_element_by_xpath(next1 + str(n2) + next2).click()\n",
    "\n",
    "#                     get_review()\n",
    "\n",
    "#             first = 'http://toysrus.lottemart.com/product/ProductDetail.do?CategoryID=C00300020100&ProductCD=8801198125306&cPage='\n",
    "#             second = '&selBoard=REG_DATE&selBoard2=ALL_RECOMM#prdComment'      \n",
    "#             # 이거 하려면 프로덕트CD 를 전부 알아서 그 안에서 for 문을 돌려야 함..\n",
    "            \n",
    "#             for n in range(2, p_count // 10 + 1):\n",
    "#                 while True:\n",
    "#                     driver.get(first+str(n)+second)      \n",
    "    print(review)\n",
    "#     print('done')\n",
    "    \n",
    "#     print(category_main)\n",
    "#     print('done')\n",
    "        \n",
    "# 'http://toysrus.lottemart.com/product/ProductDetail.do?CategoryID=C00300020100&ProductCD=8801198125306&cPage=1&selBoard=REG_DATE&selBoard2=ALL_RECOMM#prdComment'"
   ]
  },
  {
   "cell_type": "code",
   "execution_count": null,
   "metadata": {},
   "outputs": [],
   "source": [
    "get_review(p_count,1,-1)"
   ]
  },
  {
   "cell_type": "code",
   "execution_count": 27,
   "metadata": {},
   "outputs": [],
   "source": [
    "def get_review(whole,last,decrease):\n",
    "    p_count = int(driver.find_element_by_xpath('//*[@id=\"prdComment\"]/div[3]/div[1]/button[1]/span').text)    \n",
    "    for i in range(whole,last,decrease):\n",
    "        a1 = '//*[@id=\"'\n",
    "        a2 = '\"]/td[3]/a'\n",
    "        try:\n",
    "            driver.find_element_by_xpath(a1 + str(i) + a2).click()\n",
    "        except NoSuchElementException as e:\n",
    "            review.append('')\n",
    "            \n",
    "        p1 = '//*[@id=\"r_'\n",
    "        p2 = '\"]/td/div/p[2]'\n",
    "    \n",
    "        p1_no_picture = '//*[@id=\"r_'\n",
    "        p2_no_picture = '\"]/td/div/p'\n",
    "    \n",
    "        try:\n",
    "            review.append(driver.find_element_by_xpath(p1 + str(i) + p2).text)\n",
    "        except NoSuchElementException as e:\n",
    "            review.append(driver.find_element_by_xpath(p1_no_picture + str(i) + p2_no_picture).text)\n",
    "        except NoSuchElementException as e:\n",
    "            review.append('')    \n",
    "            \n",
    "        try:\n",
    "            review.append(driver.find_element_by_xpath(p1_no_picture + str(i) + p2_no_picture).text)\n",
    "        except NoSuchElementException as e:\n",
    "            review.append(driver.find_element_by_xpath(p1 + str(i) + p2).text)\n",
    "        except NoSuchElementException as e:\n",
    "            review.append('')"
   ]
  },
  {
   "cell_type": "code",
   "execution_count": 13,
   "metadata": {},
   "outputs": [
    {
     "data": {
      "text/plain": [
       "'8801198125306'"
      ]
     },
     "execution_count": 13,
     "metadata": {},
     "output_type": "execute_result"
    }
   ],
   "source": [
    "url = 'http://toysrus.lottemart.com/product/ProductDetail.do?CategoryID=C00300020100&ProductCD=8801198125306&cPage=1&selBoard=REG_DATE&selBoard2=ALL_RECOMM#prdComment'\n",
    "# url = driver.current_url\n",
    "id = url.replace('http://toysrus.lottemart.com/product/ProductDetail.do?CategoryID=C00300020100&ProductCD=',\n",
    "                  '')\n",
    "id = id.replace('&cPage=1&selBoard=REG_DATE&selBoard2=ALL_RECOMM#prdComment','')\n",
    "id\n"
   ]
  },
  {
   "cell_type": "code",
   "execution_count": 11,
   "metadata": {},
   "outputs": [
    {
     "ename": "KeyboardInterrupt",
     "evalue": "",
     "output_type": "error",
     "traceback": [
      "\u001b[0;31m---------------------------------------------------------------------------\u001b[0m",
      "\u001b[0;31mKeyboardInterrupt\u001b[0m                         Traceback (most recent call last)",
      "\u001b[0;32m<ipython-input-11-822f8aeedd60>\u001b[0m in \u001b[0;36m<module>\u001b[0;34m()\u001b[0m\n\u001b[1;32m      9\u001b[0m \u001b[0;34m\u001b[0m\u001b[0m\n\u001b[1;32m     10\u001b[0m \u001b[0;32mfor\u001b[0m \u001b[0mproduct\u001b[0m \u001b[0;32min\u001b[0m \u001b[0mproducts\u001b[0m\u001b[0;34m:\u001b[0m\u001b[0;34m\u001b[0m\u001b[0m\n\u001b[0;32m---> 11\u001b[0;31m     \u001b[0msleep\u001b[0m\u001b[0;34m(\u001b[0m\u001b[0;36m3\u001b[0m\u001b[0;34m)\u001b[0m\u001b[0;34m\u001b[0m\u001b[0m\n\u001b[0m\u001b[1;32m     12\u001b[0m     \u001b[0msearch\u001b[0m \u001b[0;34m=\u001b[0m \u001b[0mdriver\u001b[0m\u001b[0;34m.\u001b[0m\u001b[0mfind_element_by_xpath\u001b[0m\u001b[0;34m(\u001b[0m\u001b[0;34m'//*[@id=\"searchTerm\"]'\u001b[0m\u001b[0;34m)\u001b[0m\u001b[0;34m\u001b[0m\u001b[0m\n\u001b[1;32m     13\u001b[0m     \u001b[0msearch\u001b[0m\u001b[0;34m.\u001b[0m\u001b[0msend_keys\u001b[0m\u001b[0;34m(\u001b[0m\u001b[0mKeys\u001b[0m\u001b[0;34m.\u001b[0m\u001b[0mCONTROL\u001b[0m \u001b[0;34m+\u001b[0m \u001b[0;34m\"a\"\u001b[0m\u001b[0;34m)\u001b[0m\u001b[0;34m\u001b[0m\u001b[0m\n",
      "\u001b[0;31mKeyboardInterrupt\u001b[0m: "
     ]
    }
   ],
   "source": [
    "product_id = []\n",
    "#productCD 가져오기\n",
    "# url = 'http://toysrus.lottemart.com/product/ProductDetail.do?CategoryID=C00300020100&ProductCD=8801198125306&cPage=1&selBoard=REG_DATE&selBoard2=ALL_RECOMM#prdComment'\n",
    "# url = driver.current_url\n",
    "# id = url.replace('http://toysrus.lottemart.com/product/ProductDetail.do?CategoryID=C00300020100&ProductCD=',\n",
    "#                   '')\n",
    "# id = id.replace('&cPage=1&selBoard=REG_DATE&selBoard2=ALL_RECOMM#prdComment','')\n",
    "# id\n",
    "\n",
    "for product in products:\n",
    "    sleep(3)\n",
    "    search = driver.find_element_by_xpath('//*[@id=\"searchTerm\"]')\n",
    "    search.send_keys(Keys.CONTROL + \"a\")\n",
    "    search.clear()\n",
    "    search.send_keys(product)\n",
    "\n",
    "    # 검색버튼 클릭\n",
    "    driver.find_element_by_xpath('//*[@id=\"mainSearchForm\"]/button').click()\n",
    "    \n",
    "    try:\n",
    "    \n",
    "        # 제품 클릭\n",
    "        driver.find_element_by_xpath('//*[@id=\"document\"]/div[4]/ul/li/div[1]/a').click()\n",
    "\n",
    "\n",
    "        url = driver.current_url\n",
    "        id = url.replace('http://toysrus.lottemart.com/product/ProductDetail.do?CategoryID=C00300020100&ProductCD=',\n",
    "                  '')\n",
    "        id = id.replace('&cPage=1&selBoard=REG_DATE&selBoard2=ALL_RECOMM#prdComment','')\n",
    "        product_id.append(id)\n",
    "\n",
    "    \n",
    "    except NoSuchElementException:\n",
    "        product_id.append('')"
   ]
  },
  {
   "cell_type": "code",
   "execution_count": null,
   "metadata": {},
   "outputs": [],
   "source": [
    "len(product_id)"
   ]
  },
  {
   "cell_type": "code",
   "execution_count": null,
   "metadata": {},
   "outputs": [],
   "source": [
    "# for loop decreasing\n",
    "# >>> range(6, 0, -1)\n",
    "# [6, 5, 4, 3, 2, 1]\n",
    "\n",
    "# for number in reversed(range(0,10,1)):\n",
    "# print number;"
   ]
  },
  {
   "cell_type": "code",
   "execution_count": 148,
   "metadata": {},
   "outputs": [],
   "source": [
    "def append_review(): \n",
    "    \n",
    "    a1 = '//*[@id=\"'\n",
    "    a2 = '\"]/td[3]/a'\n",
    "    try:\n",
    "        driver.find_element_by_xpath(a1 + str(i) + a2).click()\n",
    "    except NoSuchElementException as e:\n",
    "        review.append('')\n",
    "    \n",
    "    p1 = '//*[@id=\"r_'\n",
    "    p2 = '\"]/td/div/p[2]'\n",
    "    \n",
    "    p1_no_picture = '//*[@id=\"r_'\n",
    "    p2_no_picture = '\"]/td/div/p'\n",
    "    \n",
    "    try:\n",
    "        review.append(driver.find_element_by_xpath(p1 + str(i) + p2).text)\n",
    "    except NoSuchElementException as e:\n",
    "        review.append(driver.find_element_by_xpath(p1_no_picture + str(i) + p2_no_picture).text)\n",
    "        \n",
    "    print(review)\n",
    "    print('done')"
   ]
  },
  {
   "cell_type": "code",
   "execution_count": 134,
   "metadata": {},
   "outputs": [],
   "source": [
    "test_list = [category_main, category_small, product_name, price, price_curr, price_lowest, selling_code, color,\n",
    "             age, release_date, manufacturer, satisfaction, review_count, review]\n",
    "column_names = ['category_main', 'category_small', 'product_name', 'price', 'price_curr', 'price_lowest', 'selling_code', 'color',\n",
    "             'age', 'release_date', 'manufacturer', 'satisfaction', 'review_count', 'review']\n",
    "column_v = [category_main, category_small, product_name, price, price_curr, price_lowest, selling_code, color,\n",
    "             age, release_date, manufacturer, satisfaction, review_count, review]\n",
    "\n",
    "test_df = pd.DataFrame(column_v).T\n",
    "test_df.columns = column_names"
   ]
  },
  {
   "cell_type": "code",
   "execution_count": 135,
   "metadata": {},
   "outputs": [
    {
     "data": {
      "text/html": [
       "<div>\n",
       "<style scoped>\n",
       "    .dataframe tbody tr th:only-of-type {\n",
       "        vertical-align: middle;\n",
       "    }\n",
       "\n",
       "    .dataframe tbody tr th {\n",
       "        vertical-align: top;\n",
       "    }\n",
       "\n",
       "    .dataframe thead th {\n",
       "        text-align: right;\n",
       "    }\n",
       "</style>\n",
       "<table border=\"1\" class=\"dataframe\">\n",
       "  <thead>\n",
       "    <tr style=\"text-align: right;\">\n",
       "      <th></th>\n",
       "      <th>category_main</th>\n",
       "      <th>category_small</th>\n",
       "      <th>product_name</th>\n",
       "      <th>price</th>\n",
       "      <th>price_curr</th>\n",
       "      <th>price_lowest</th>\n",
       "      <th>selling_code</th>\n",
       "      <th>color</th>\n",
       "      <th>age</th>\n",
       "      <th>release_date</th>\n",
       "      <th>manufacturer</th>\n",
       "      <th>satisfaction</th>\n",
       "      <th>review_count</th>\n",
       "      <th>review</th>\n",
       "    </tr>\n",
       "  </thead>\n",
       "  <tbody>\n",
       "    <tr>\n",
       "      <th>0</th>\n",
       "      <td>유아 Toys</td>\n",
       "      <td>자동차놀이</td>\n",
       "      <td>[품절] [캐스돈] CASDON 네비운전놀이 (CD06347)</td>\n",
       "      <td>44,000</td>\n",
       "      <td></td>\n",
       "      <td></td>\n",
       "      <td>L000000553188</td>\n",
       "      <td>검정 외</td>\n",
       "      <td>만 3세 이상</td>\n",
       "      <td>201311</td>\n",
       "      <td>CASDON/큐이디㈜</td>\n",
       "      <td></td>\n",
       "      <td></td>\n",
       "      <td>None</td>\n",
       "    </tr>\n",
       "    <tr>\n",
       "      <th>1</th>\n",
       "      <td>유아 Toys</td>\n",
       "      <td>자동차놀이</td>\n",
       "      <td>[품절] [캐스돈] CASDON 네비운전놀이 (CD06347)</td>\n",
       "      <td>44,000</td>\n",
       "      <td></td>\n",
       "      <td></td>\n",
       "      <td>L000000553188</td>\n",
       "      <td>검정 외</td>\n",
       "      <td>만 3세 이상</td>\n",
       "      <td>201311</td>\n",
       "      <td>CASDON/큐이디㈜</td>\n",
       "      <td></td>\n",
       "      <td></td>\n",
       "      <td>None</td>\n",
       "    </tr>\n",
       "  </tbody>\n",
       "</table>\n",
       "</div>"
      ],
      "text/plain": [
       "  category_main category_small                        product_name   price  \\\n",
       "0       유아 Toys          자동차놀이  [품절] [캐스돈] CASDON 네비운전놀이 (CD06347)  44,000   \n",
       "1       유아 Toys          자동차놀이  [품절] [캐스돈] CASDON 네비운전놀이 (CD06347)  44,000   \n",
       "\n",
       "  price_curr price_lowest   selling_code color      age release_date  \\\n",
       "0                          L000000553188  검정 외  만 3세 이상       201311   \n",
       "1                          L000000553188  검정 외  만 3세 이상       201311   \n",
       "\n",
       "  manufacturer satisfaction review_count review  \n",
       "0  CASDON/큐이디㈜                             None  \n",
       "1  CASDON/큐이디㈜                             None  "
      ]
     },
     "execution_count": 135,
     "metadata": {},
     "output_type": "execute_result"
    }
   ],
   "source": [
    "test_df"
   ]
  },
  {
   "cell_type": "code",
   "execution_count": 143,
   "metadata": {},
   "outputs": [
    {
     "data": {
      "text/html": [
       "<div>\n",
       "<style scoped>\n",
       "    .dataframe tbody tr th:only-of-type {\n",
       "        vertical-align: middle;\n",
       "    }\n",
       "\n",
       "    .dataframe tbody tr th {\n",
       "        vertical-align: top;\n",
       "    }\n",
       "\n",
       "    .dataframe thead th {\n",
       "        text-align: right;\n",
       "    }\n",
       "</style>\n",
       "<table border=\"1\" class=\"dataframe\">\n",
       "  <thead>\n",
       "    <tr style=\"text-align: right;\">\n",
       "      <th></th>\n",
       "      <th>category_main</th>\n",
       "      <th>category_small</th>\n",
       "      <th>product_name</th>\n",
       "      <th>price</th>\n",
       "      <th>price_curr</th>\n",
       "      <th>price_lowest</th>\n",
       "      <th>selling_code</th>\n",
       "      <th>color</th>\n",
       "      <th>age</th>\n",
       "      <th>release_date</th>\n",
       "      <th>manufacturer</th>\n",
       "      <th>satisfaction</th>\n",
       "      <th>review_count</th>\n",
       "      <th>review</th>\n",
       "    </tr>\n",
       "  </thead>\n",
       "  <tbody>\n",
       "    <tr>\n",
       "      <th>0</th>\n",
       "      <td>유아 Toys</td>\n",
       "      <td>자동차놀이</td>\n",
       "      <td>[품절] [캐스돈] CASDON 네비운전놀이 (CD06347)</td>\n",
       "      <td>44,000</td>\n",
       "      <td></td>\n",
       "      <td></td>\n",
       "      <td>L000000553188</td>\n",
       "      <td>검정 외</td>\n",
       "      <td>만 3세 이상</td>\n",
       "      <td>201311</td>\n",
       "      <td>CASDON/큐이디㈜</td>\n",
       "      <td></td>\n",
       "      <td></td>\n",
       "      <td>None</td>\n",
       "    </tr>\n",
       "    <tr>\n",
       "      <th>1</th>\n",
       "      <td>유아 Toys</td>\n",
       "      <td>자동차놀이</td>\n",
       "      <td>[품절] [캐스돈] CASDON 네비운전놀이 (CD06347)</td>\n",
       "      <td>44,000</td>\n",
       "      <td></td>\n",
       "      <td></td>\n",
       "      <td>L000000553188</td>\n",
       "      <td>검정 외</td>\n",
       "      <td>만 3세 이상</td>\n",
       "      <td>201311</td>\n",
       "      <td>CASDON/큐이디㈜</td>\n",
       "      <td></td>\n",
       "      <td></td>\n",
       "      <td>None</td>\n",
       "    </tr>\n",
       "  </tbody>\n",
       "</table>\n",
       "</div>"
      ],
      "text/plain": [
       "  category_main category_small                        product_name   price  \\\n",
       "0       유아 Toys          자동차놀이  [품절] [캐스돈] CASDON 네비운전놀이 (CD06347)  44,000   \n",
       "1       유아 Toys          자동차놀이  [품절] [캐스돈] CASDON 네비운전놀이 (CD06347)  44,000   \n",
       "\n",
       "  price_curr price_lowest   selling_code color      age release_date  \\\n",
       "0                          L000000553188  검정 외  만 3세 이상       201311   \n",
       "1                          L000000553188  검정 외  만 3세 이상       201311   \n",
       "\n",
       "  manufacturer satisfaction review_count review  \n",
       "0  CASDON/큐이디㈜                             None  \n",
       "1  CASDON/큐이디㈜                             None  "
      ]
     },
     "execution_count": 143,
     "metadata": {},
     "output_type": "execute_result"
    }
   ],
   "source": [
    "test_df[test_df.price_curr == '']"
   ]
  },
  {
   "cell_type": "code",
   "execution_count": 27,
   "metadata": {},
   "outputs": [],
   "source": [
    "category_main.append(driver.find_element_by_xpath('//*[@id=\"list_prod_top\"]/a[3]').text)"
   ]
  },
  {
   "cell_type": "code",
   "execution_count": 47,
   "metadata": {},
   "outputs": [
    {
     "data": {
      "text/plain": [
       "['[품절] [캐스돈] CASDON 네비운전놀이 (CD06347)']"
      ]
     },
     "execution_count": 47,
     "metadata": {},
     "output_type": "execute_result"
    }
   ],
   "source": [
    "name"
   ]
  },
  {
   "cell_type": "code",
   "execution_count": 46,
   "metadata": {},
   "outputs": [],
   "source": [
    "append_list()"
   ]
  },
  {
   "cell_type": "code",
   "execution_count": 51,
   "metadata": {},
   "outputs": [],
   "source": [
    "goods_length = bs.select('div.top-info span.point')"
   ]
  }
 ],
 "metadata": {
  "kernelspec": {
   "display_name": "Python 3",
   "language": "python",
   "name": "python3"
  },
  "language_info": {
   "codemirror_mode": {
    "name": "ipython",
    "version": 3
   },
   "file_extension": ".py",
   "mimetype": "text/x-python",
   "name": "python",
   "nbconvert_exporter": "python",
   "pygments_lexer": "ipython3",
   "version": "3.6.5"
  }
 },
 "nbformat": 4,
 "nbformat_minor": 2
}
