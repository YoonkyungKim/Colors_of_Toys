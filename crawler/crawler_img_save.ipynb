{
 "cells": [
  {
   "cell_type": "code",
   "execution_count": 1,
   "metadata": {},
   "outputs": [],
   "source": [
    "import urllib\n",
    "from selenium import webdriver\n",
    "from urllib.request import urlretrieve\n",
    "from selenium.webdriver.common.keys import Keys\n",
    "from selenium.common.exceptions import NoSuchElementException"
   ]
  },
  {
   "cell_type": "code",
   "execution_count": 3,
   "metadata": {},
   "outputs": [],
   "source": [
    "import pandas as pd"
   ]
  },
  {
   "cell_type": "code",
   "execution_count": 4,
   "metadata": {},
   "outputs": [],
   "source": [
    "product_list = pd.read_csv('../data/CategoryID_ProductName.csv')"
   ]
  },
  {
   "cell_type": "code",
   "execution_count": 5,
   "metadata": {},
   "outputs": [
    {
     "data": {
      "text/html": [
       "<div>\n",
       "<style scoped>\n",
       "    .dataframe tbody tr th:only-of-type {\n",
       "        vertical-align: middle;\n",
       "    }\n",
       "\n",
       "    .dataframe tbody tr th {\n",
       "        vertical-align: top;\n",
       "    }\n",
       "\n",
       "    .dataframe thead th {\n",
       "        text-align: right;\n",
       "    }\n",
       "</style>\n",
       "<table border=\"1\" class=\"dataframe\">\n",
       "  <thead>\n",
       "    <tr style=\"text-align: right;\">\n",
       "      <th></th>\n",
       "      <th>category_ID</th>\n",
       "      <th>product_name</th>\n",
       "    </tr>\n",
       "  </thead>\n",
       "  <tbody>\n",
       "    <tr>\n",
       "      <th>0</th>\n",
       "      <td>C10100030001</td>\n",
       "      <td>베이블레이드초Z 리바이브피닉스</td>\n",
       "    </tr>\n",
       "    <tr>\n",
       "      <th>1</th>\n",
       "      <td>C10100030001</td>\n",
       "      <td>베이블레이드갓 커스터마이즈</td>\n",
       "    </tr>\n",
       "    <tr>\n",
       "      <th>2</th>\n",
       "      <td>C10100030001</td>\n",
       "      <td>베이블레이드초Z 올인원세트</td>\n",
       "    </tr>\n",
       "    <tr>\n",
       "      <th>3</th>\n",
       "      <td>C10100030001</td>\n",
       "      <td>베이블레이드 갓배틀세트</td>\n",
       "    </tr>\n",
       "    <tr>\n",
       "      <th>4</th>\n",
       "      <td>C10100030001</td>\n",
       "      <td>베이블레이드초Z 랜덤부스터11</td>\n",
       "    </tr>\n",
       "  </tbody>\n",
       "</table>\n",
       "</div>"
      ],
      "text/plain": [
       "    category_ID      product_name\n",
       "0  C10100030001  베이블레이드초Z 리바이브피닉스\n",
       "1  C10100030001    베이블레이드갓 커스터마이즈\n",
       "2  C10100030001    베이블레이드초Z 올인원세트\n",
       "3  C10100030001      베이블레이드 갓배틀세트\n",
       "4  C10100030001  베이블레이드초Z 랜덤부스터11"
      ]
     },
     "execution_count": 5,
     "metadata": {},
     "output_type": "execute_result"
    }
   ],
   "source": [
    "product_list = product_list.rename(index=str, columns={\"카테고리ID\": \"category_ID\", \"제품명\": \"product_name\"})\n",
    "product_list.head()"
   ]
  },
  {
   "cell_type": "code",
   "execution_count": 18,
   "metadata": {},
   "outputs": [
    {
     "data": {
      "text/plain": [
       "'C10100030001,베이블레이드초Z 리바이브피닉스'"
      ]
     },
     "execution_count": 18,
     "metadata": {},
     "output_type": "execute_result"
    }
   ],
   "source": [
    "names = product_list.category_ID + ',' + product_list.product_name\n",
    "names[0]"
   ]
  },
  {
   "cell_type": "code",
   "execution_count": 30,
   "metadata": {},
   "outputs": [
    {
     "data": {
      "text/plain": [
       "'C10100030001'"
      ]
     },
     "execution_count": 30,
     "metadata": {},
     "output_type": "execute_result"
    }
   ],
   "source": [
    "names[0].split(',')[0]"
   ]
  },
  {
   "cell_type": "code",
   "execution_count": 36,
   "metadata": {},
   "outputs": [],
   "source": [
    "path=r'../../shoppingmall/chromedriver'\n",
    "driver=webdriver.Chrome(path)\n",
    "driver.get(\"http://toysrus.lottemart.com/index.do;jsessionid=JRTV4GA2AXOTOWPvFI70goBv22rvNVdyg5kKtiH9DalebEQ108mVkLXQt1qnql9Y.lmtrwas01_servlet_engine1\")"
   ]
  },
  {
   "cell_type": "code",
   "execution_count": null,
   "metadata": {},
   "outputs": [],
   "source": [
    "for name in names:\n",
    "    try:\n",
    "        search = driver.find_element_by_xpath('//*[@id=\"searchTerm\"]')\n",
    "        search.send_keys(Keys.CONTROL + \"a\")\n",
    "        search.clear()\n",
    "        search.send_keys(name.split(',')[1])\n",
    "\n",
    "        # 검색버튼 클릭\n",
    "        driver.find_element_by_xpath('//*[@id=\"mainSearchForm\"]/button').click()\n",
    "\n",
    "        # 제품 클릭\n",
    "        driver.find_element_by_xpath('//*[@id=\"document\"]/div[4]/ul/li/div[1]/a').click()\n",
    "        \n",
    "        # get the image source\n",
    "        img = driver.find_element_by_xpath('//*[@id=\"imgBigImg\"]')\n",
    "        src = img.get_attribute('src')\n",
    "\n",
    "        # download the image\n",
    "        urllib.request.urlretrieve(src, \"{}.png\".format(name.split(',')[0]+'-'+driver.find_element_by_xpath('//*[@id=\"ItemSrcmkCD\"]').text))\n",
    "        \n",
    "        \n",
    "    #     search.send_keys(Keys.CONTROL + \"a\")\n",
    "    #     search.clear()\n",
    "    #     i =+ 1\n",
    "\n",
    "    except NoSuchElementException:\n",
    "        continue"
   ]
  },
  {
   "cell_type": "code",
   "execution_count": null,
   "metadata": {},
   "outputs": [],
   "source": [
    "# 테스트\n",
    "search = driver.find_element_by_xpath('//*[@id=\"searchTerm\"]')\n",
    "search.send_keys('[캐스돈] CASDON 네비운전놀이 (CD06347)')\n",
    "    \n",
    "# 검색버튼 클릭\n",
    "driver.find_element_by_xpath('//*[@id=\"mainSearchForm\"]/button').click()\n",
    "        \n",
    "# 제품 클릭\n",
    "driver.find_element_by_xpath('//*[@id=\"document\"]/div[4]/ul/li/div[1]/a').click()\n",
    "    \n",
    "# get the image source\n",
    "img = driver.find_element_by_xpath('//*[@id=\"imgBigImg\"]')\n",
    "src = img.get_attribute('src')\n",
    "\n",
    "# download the image\n",
    "urllib.request.urlretrieve(src, \"img_test.png\")\n",
    "\n",
    "driver.close()"
   ]
  },
  {
   "cell_type": "code",
   "execution_count": null,
   "metadata": {},
   "outputs": [],
   "source": []
  }
 ],
 "metadata": {
  "kernelspec": {
   "display_name": "Python 3",
   "language": "python",
   "name": "python3"
  },
  "language_info": {
   "codemirror_mode": {
    "name": "ipython",
    "version": 3
   },
   "file_extension": ".py",
   "mimetype": "text/x-python",
   "name": "python",
   "nbconvert_exporter": "python",
   "pygments_lexer": "ipython3",
   "version": "3.6.5"
  }
 },
 "nbformat": 4,
 "nbformat_minor": 2
}
