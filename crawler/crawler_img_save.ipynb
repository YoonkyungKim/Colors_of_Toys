{
 "cells": [
  {
   "cell_type": "code",
   "execution_count": 1,
   "metadata": {},
   "outputs": [],
   "source": [
    "import urllib\n",
    "from selenium import webdriver\n",
    "from urllib.request import urlretrieve\n",
    "from selenium.webdriver.common.keys import Keys\n",
    "from selenium.common.exceptions import NoSuchElementException"
   ]
  },
  {
   "cell_type": "code",
   "execution_count": 3,
   "metadata": {},
   "outputs": [],
   "source": [
    "import pandas as pd"
   ]
  },
  {
   "cell_type": "code",
<<<<<<< Updated upstream
   "execution_count": 4,
=======
   "execution_count": 67,
>>>>>>> Stashed changes
   "metadata": {},
   "outputs": [],
   "source": [
    "product_list = pd.read_csv('../data/CategoryID_ProductName.csv')"
   ]
  },
  {
   "cell_type": "code",
<<<<<<< Updated upstream
   "execution_count": 5,
=======
   "execution_count": 68,
>>>>>>> Stashed changes
   "metadata": {},
   "outputs": [
    {
     "data": {
      "text/html": [
       "<div>\n",
       "<style scoped>\n",
       "    .dataframe tbody tr th:only-of-type {\n",
       "        vertical-align: middle;\n",
       "    }\n",
       "\n",
       "    .dataframe tbody tr th {\n",
       "        vertical-align: top;\n",
       "    }\n",
       "\n",
       "    .dataframe thead th {\n",
       "        text-align: right;\n",
       "    }\n",
       "</style>\n",
       "<table border=\"1\" class=\"dataframe\">\n",
       "  <thead>\n",
       "    <tr style=\"text-align: right;\">\n",
       "      <th></th>\n",
       "      <th>category_ID</th>\n",
       "      <th>product_name</th>\n",
       "    </tr>\n",
       "  </thead>\n",
       "  <tbody>\n",
       "    <tr>\n",
       "      <th>0</th>\n",
       "      <td>C10100030001</td>\n",
       "      <td>베이블레이드초Z 리바이브피닉스</td>\n",
       "    </tr>\n",
       "    <tr>\n",
       "      <th>1</th>\n",
       "      <td>C10100030001</td>\n",
       "      <td>베이블레이드갓 커스터마이즈</td>\n",
       "    </tr>\n",
       "    <tr>\n",
       "      <th>2</th>\n",
       "      <td>C10100030001</td>\n",
       "      <td>베이블레이드초Z 올인원세트</td>\n",
       "    </tr>\n",
       "    <tr>\n",
       "      <th>3</th>\n",
       "      <td>C10100030001</td>\n",
       "      <td>베이블레이드 갓배틀세트</td>\n",
       "    </tr>\n",
       "    <tr>\n",
       "      <th>4</th>\n",
       "      <td>C10100030001</td>\n",
       "      <td>베이블레이드초Z 랜덤부스터11</td>\n",
       "    </tr>\n",
       "  </tbody>\n",
       "</table>\n",
       "</div>"
      ],
      "text/plain": [
       "    category_ID      product_name\n",
       "0  C10100030001  베이블레이드초Z 리바이브피닉스\n",
       "1  C10100030001    베이블레이드갓 커스터마이즈\n",
       "2  C10100030001    베이블레이드초Z 올인원세트\n",
       "3  C10100030001      베이블레이드 갓배틀세트\n",
       "4  C10100030001  베이블레이드초Z 랜덤부스터11"
      ]
     },
<<<<<<< Updated upstream
     "execution_count": 5,
=======
     "execution_count": 68,
>>>>>>> Stashed changes
     "metadata": {},
     "output_type": "execute_result"
    }
   ],
   "source": [
    "product_list = product_list.rename(index=str, columns={\"카테고리ID\": \"category_ID\", \"제품명\": \"product_name\"})\n",
    "product_list.head()"
   ]
  },
  {
   "cell_type": "code",
<<<<<<< Updated upstream
=======
   "execution_count": 80,
   "metadata": {},
   "outputs": [
    {
     "data": {
      "text/plain": [
       "(5934, 2)"
      ]
     },
     "execution_count": 80,
     "metadata": {},
     "output_type": "execute_result"
    }
   ],
   "source": [
    "product_list.shape"
   ]
  },
  {
   "cell_type": "code",
   "execution_count": 81,
   "metadata": {},
   "outputs": [
    {
     "data": {
      "text/html": [
       "<div>\n",
       "<style scoped>\n",
       "    .dataframe tbody tr th:only-of-type {\n",
       "        vertical-align: middle;\n",
       "    }\n",
       "\n",
       "    .dataframe tbody tr th {\n",
       "        vertical-align: top;\n",
       "    }\n",
       "\n",
       "    .dataframe thead th {\n",
       "        text-align: right;\n",
       "    }\n",
       "</style>\n",
       "<table border=\"1\" class=\"dataframe\">\n",
       "  <thead>\n",
       "    <tr style=\"text-align: right;\">\n",
       "      <th></th>\n",
       "      <th>category_ID</th>\n",
       "      <th>product_name</th>\n",
       "    </tr>\n",
       "  </thead>\n",
       "  <tbody>\n",
       "    <tr>\n",
       "      <th>2533</th>\n",
       "      <td>C10100020001</td>\n",
       "      <td>나도 동영상 스타 미미노트북</td>\n",
       "    </tr>\n",
       "    <tr>\n",
       "      <th>2534</th>\n",
       "      <td>C10100020001</td>\n",
       "      <td>똘똘이 아이스크림 가게</td>\n",
       "    </tr>\n",
       "    <tr>\n",
       "      <th>2535</th>\n",
       "      <td>C10100020001</td>\n",
       "      <td>멜리사앤더그 쇼핑카트</td>\n",
       "    </tr>\n",
       "    <tr>\n",
       "      <th>2536</th>\n",
       "      <td>C10100020001</td>\n",
       "      <td>콩순이 알록달록 아이스크림가게</td>\n",
       "    </tr>\n",
       "    <tr>\n",
       "      <th>2537</th>\n",
       "      <td>C10100020001</td>\n",
       "      <td>영실업 콩순이숫자놀이계산대</td>\n",
       "    </tr>\n",
       "  </tbody>\n",
       "</table>\n",
       "</div>"
      ],
      "text/plain": [
       "       category_ID      product_name\n",
       "2533  C10100020001   나도 동영상 스타 미미노트북\n",
       "2534  C10100020001      똘똘이 아이스크림 가게\n",
       "2535  C10100020001       멜리사앤더그 쇼핑카트\n",
       "2536  C10100020001  콩순이 알록달록 아이스크림가게\n",
       "2537  C10100020001    영실업 콩순이숫자놀이계산대"
      ]
     },
     "execution_count": 81,
     "metadata": {},
     "output_type": "execute_result"
    }
   ],
   "source": [
    "product_girl = product_list.iloc[2533:]\n",
    "product_girl.head()"
   ]
  },
  {
   "cell_type": "code",
   "execution_count": 42,
   "metadata": {},
   "outputs": [
    {
     "data": {
      "text/plain": [
       "category_ID        C10100020001\n",
       "product_name    나도 동영상 스타 미미노트북\n",
       "Name: 2533, dtype: object"
      ]
     },
     "execution_count": 42,
     "metadata": {},
     "output_type": "execute_result"
    }
   ],
   "source": [
    "# product_list.loc[product_list.category_ID=='C10100020001']\n",
    "product_list.iloc[2533]"
   ]
  },
  {
   "cell_type": "code",
   "execution_count": 70,
   "metadata": {},
   "outputs": [
    {
     "data": {
      "text/plain": [
       "(3401, 2)"
      ]
     },
     "execution_count": 70,
     "metadata": {},
     "output_type": "execute_result"
    }
   ],
   "source": [
    "product_girl.shape"
   ]
  },
  {
   "cell_type": "code",
   "execution_count": 71,
   "metadata": {},
   "outputs": [
    {
     "data": {
      "text/plain": [
       "(3005, 2)"
      ]
     },
     "execution_count": 71,
     "metadata": {},
     "output_type": "execute_result"
    }
   ],
   "source": [
    "# 중복 없애기\n",
    "product_girl_no_dup = product_girl.drop_duplicates(subset='product_name', keep='first')\n",
    "product_girl_no_dup.shape"
   ]
  },
  {
   "cell_type": "code",
   "execution_count": 53,
   "metadata": {},
   "outputs": [],
   "source": [
    "product_boy = product_list[:2533]\n",
    "product_boy.head()"
   ]
  },
  {
   "cell_type": "code",
   "execution_count": 72,
   "metadata": {},
   "outputs": [
    {
     "data": {
      "text/plain": [
       "(2533, 2)"
      ]
     },
     "execution_count": 72,
     "metadata": {},
     "output_type": "execute_result"
    }
   ],
   "source": [
    "product_boy.shape"
   ]
  },
  {
   "cell_type": "code",
   "execution_count": 73,
   "metadata": {},
   "outputs": [
    {
     "data": {
      "text/plain": [
       "(2032, 2)"
      ]
     },
     "execution_count": 73,
     "metadata": {},
     "output_type": "execute_result"
    }
   ],
   "source": [
    "product_boy_no_dup = product_boy.drop_duplicates(subset='product_name', keep='first')\n",
    "product_boy_no_dup.shape"
   ]
  },
  {
   "cell_type": "code",
   "execution_count": 101,
   "metadata": {},
   "outputs": [],
   "source": [
    "# 중간에 끊긴 곳부터 다시\n",
    "# product_girl_rest = product_girl_no_dup.iloc[2766:]"
   ]
  },
  {
   "cell_type": "code",
   "execution_count": null,
   "metadata": {},
   "outputs": [],
   "source": [
    "# product_girl_rest = product_girl_no_dup.iloc[2948:]"
   ]
  },
  {
   "cell_type": "code",
   "execution_count": 1,
   "metadata": {},
   "outputs": [],
   "source": [
    "# product_girl_no_dup[product_girl_no_dup['product_name'] == '펄러비즈 1000비즈 그레이']"
   ]
  },
  {
   "cell_type": "code",
   "execution_count": null,
   "metadata": {},
   "outputs": [],
   "source": [
    "# product_girl_no_dup[product_girl_no_dup['product_name'] == '소피루비 다이아네일팩트']"
   ]
  },
  {
   "cell_type": "code",
>>>>>>> Stashed changes
   "execution_count": 18,
   "metadata": {},
   "outputs": [
    {
     "data": {
      "text/plain": [
       "'C10100030001,베이블레이드초Z 리바이브피닉스'"
      ]
     },
     "execution_count": 18,
     "metadata": {},
     "output_type": "execute_result"
    }
   ],
   "source": [
<<<<<<< Updated upstream
    "names = product_list.category_ID + ',' + product_list.product_name\n",
=======
    "# names = product_list.category_ID + ',' + product_list.product_name\n",
    "# names[0]"
   ]
  },
  {
   "cell_type": "code",
   "execution_count": 102,
   "metadata": {},
   "outputs": [
    {
     "data": {
      "text/plain": [
       "'C10100020004,[세스] 세스비즈 1000 pcs 네온...'"
      ]
     },
     "execution_count": 102,
     "metadata": {},
     "output_type": "execute_result"
    }
   ],
   "source": [
    "names = product_girl_rest.category_ID + ',' + product_girl_rest.product_name\n",
>>>>>>> Stashed changes
    "names[0]"
   ]
  },
  {
   "cell_type": "code",
<<<<<<< Updated upstream
   "execution_count": 30,
=======
   "execution_count": 75,
>>>>>>> Stashed changes
   "metadata": {},
   "outputs": [
    {
     "data": {
      "text/plain": [
<<<<<<< Updated upstream
       "'C10100030001'"
      ]
     },
     "execution_count": 30,
=======
       "'C10100020001'"
      ]
     },
     "execution_count": 75,
>>>>>>> Stashed changes
     "metadata": {},
     "output_type": "execute_result"
    }
   ],
   "source": [
<<<<<<< Updated upstream
=======
    "# 스플릿하면 0번째는 카테고리ID, 1번째는 제품명이다.\n",
>>>>>>> Stashed changes
    "names[0].split(',')[0]"
   ]
  },
  {
   "cell_type": "code",
<<<<<<< Updated upstream
   "execution_count": 36,
=======
   "execution_count": 104,
>>>>>>> Stashed changes
   "metadata": {},
   "outputs": [],
   "source": [
    "path=r'../../shoppingmall/chromedriver'\n",
    "driver=webdriver.Chrome(path)\n",
    "driver.get(\"http://toysrus.lottemart.com/index.do;jsessionid=JRTV4GA2AXOTOWPvFI70goBv22rvNVdyg5kKtiH9DalebEQ108mVkLXQt1qnql9Y.lmtrwas01_servlet_engine1\")"
   ]
  },
  {
   "cell_type": "code",
   "execution_count": null,
   "metadata": {},
   "outputs": [],
   "source": [
    "for name in names:\n",
    "    try:\n",
    "        search = driver.find_element_by_xpath('//*[@id=\"searchTerm\"]')\n",
    "        search.send_keys(Keys.CONTROL + \"a\")\n",
    "        search.clear()\n",
<<<<<<< Updated upstream
=======
    "        \n",
    "        # 제품명으로 검색\n",
>>>>>>> Stashed changes
    "        search.send_keys(name.split(',')[1])\n",
    "\n",
    "        # 검색버튼 클릭\n",
    "        driver.find_element_by_xpath('//*[@id=\"mainSearchForm\"]/button').click()\n",
    "\n",
    "        # 제품 클릭\n",
    "        driver.find_element_by_xpath('//*[@id=\"document\"]/div[4]/ul/li/div[1]/a').click()\n",
    "        \n",
    "        # get the image source\n",
    "        img = driver.find_element_by_xpath('//*[@id=\"imgBigImg\"]')\n",
    "        src = img.get_attribute('src')\n",
    "\n",
<<<<<<< Updated upstream
    "        # download the image\n",
    "        urllib.request.urlretrieve(src, \"{}.png\".format(name.split(',')[0]+'-'+driver.find_element_by_xpath('//*[@id=\"ItemSrcmkCD\"]').text))\n",
    "        \n",
    "        \n",
    "    #     search.send_keys(Keys.CONTROL + \"a\")\n",
    "    #     search.clear()\n",
    "    #     i =+ 1\n",
    "\n",
=======
    "        # download the image, 파일명은 카테고리ID + 판매코드\n",
    "        urllib.request.urlretrieve(src, \"{}.png\".format(name.split(',')[0]+'-'+driver.find_element_by_xpath('//*[@id=\"ItemSrcmkCD\"]').text))\n",
    "        \n",
>>>>>>> Stashed changes
    "    except NoSuchElementException:\n",
    "        continue"
   ]
  },
  {
   "cell_type": "code",
   "execution_count": null,
   "metadata": {},
   "outputs": [],
   "source": [
    "# 테스트\n",
    "search = driver.find_element_by_xpath('//*[@id=\"searchTerm\"]')\n",
    "search.send_keys('[캐스돈] CASDON 네비운전놀이 (CD06347)')\n",
    "    \n",
    "# 검색버튼 클릭\n",
    "driver.find_element_by_xpath('//*[@id=\"mainSearchForm\"]/button').click()\n",
    "        \n",
    "# 제품 클릭\n",
    "driver.find_element_by_xpath('//*[@id=\"document\"]/div[4]/ul/li/div[1]/a').click()\n",
    "    \n",
    "# get the image source\n",
    "img = driver.find_element_by_xpath('//*[@id=\"imgBigImg\"]')\n",
    "src = img.get_attribute('src')\n",
    "\n",
    "# download the image\n",
    "urllib.request.urlretrieve(src, \"img_test.png\")\n",
    "\n",
    "driver.close()"
   ]
  },
  {
   "cell_type": "code",
   "execution_count": null,
   "metadata": {},
   "outputs": [],
   "source": []
  }
 ],
 "metadata": {
  "kernelspec": {
   "display_name": "Python 3",
   "language": "python",
   "name": "python3"
  },
  "language_info": {
   "codemirror_mode": {
    "name": "ipython",
    "version": 3
   },
   "file_extension": ".py",
   "mimetype": "text/x-python",
   "name": "python",
   "nbconvert_exporter": "python",
   "pygments_lexer": "ipython3",
   "version": "3.6.5"
  }
 },
 "nbformat": 4,
 "nbformat_minor": 2
}
